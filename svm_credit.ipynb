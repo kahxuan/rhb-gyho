{
 "cells": [
  {
   "cell_type": "code",
   "execution_count": 1,
   "id": "0a3a0e3f",
   "metadata": {},
   "outputs": [],
   "source": [
    "import os\n",
    "import pandas as pd\n",
    "import numpy as np\n",
    "import matplotlib.pyplot as plt\n",
    "from tqdm.notebook import tqdm\n",
    "\n",
    "from sklearn.linear_model import LinearRegression"
   ]
  },
  {
   "cell_type": "code",
   "execution_count": 2,
   "id": "ad7426d2",
   "metadata": {
    "scrolled": false
   },
   "outputs": [
    {
     "data": {
      "text/plain": [
       "['savingacct_txn.csv',\n",
       " 'creditcard_txn.csv',\n",
       " '.DS_Store',\n",
       " 'cust_past1year_snapshot.xlsx',\n",
       " 'cust.csv',\n",
       " 'currentacct_txn.csv',\n",
       " 'cust_dna.csv',\n",
       " 'model',\n",
       " 'cust_prev.csv']"
      ]
     },
     "execution_count": 2,
     "metadata": {},
     "output_type": "execute_result"
    }
   ],
   "source": [
    "os.listdir('data')"
   ]
  },
  {
   "cell_type": "code",
   "execution_count": 3,
   "id": "e570c020",
   "metadata": {},
   "outputs": [
    {
     "name": "stderr",
     "output_type": "stream",
     "text": [
      "/Library/Frameworks/Python.framework/Versions/3.9/lib/python3.9/site-packages/IPython/core/interactiveshell.py:3169: DtypeWarning: Columns (7) have mixed types.Specify dtype option on import or set low_memory=False.\n",
      "  has_raised = await self.run_ast_nodes(code_ast.body, cell_name,\n"
     ]
    }
   ],
   "source": [
    "df_cur = pd.read_csv('data/cust.csv')\n",
    "df_cur['BE_SEGMENT'] = df_cur['BE_SEGMENT'].str[0].fillna(-1).astype('int')\n",
    "df_prev = pd.read_csv('data/cust_prev.csv')\n",
    "\n",
    "df_comb = df_prev.merge(df_cur, on='id', suffixes=['_prev', '_cur'], how='outer')\n",
    "df_comb = df_comb[df_comb['BE_SEGMENT_prev'] != -1]\n",
    "df_comb['be_segment_p1m'] = df_comb['BE_SEGMENT_cur']\n",
    "\n",
    "df_comb['is_affluent_prev'] = (df_comb['BE_SEGMENT_prev'] <= 2).astype(int)\n",
    "df_comb['is_affluent_cur'] = (df_comb['BE_SEGMENT_cur'] <= 2).astype(int)\n",
    "df_comb = df_comb[df_comb['is_affluent_prev'] == 0]"
   ]
  },
  {
   "cell_type": "code",
   "execution_count": 4,
   "id": "94b7f13f",
   "metadata": {},
   "outputs": [
    {
     "data": {
      "text/html": [
       "<div>\n",
       "<style scoped>\n",
       "    .dataframe tbody tr th:only-of-type {\n",
       "        vertical-align: middle;\n",
       "    }\n",
       "\n",
       "    .dataframe tbody tr th {\n",
       "        vertical-align: top;\n",
       "    }\n",
       "\n",
       "    .dataframe thead th {\n",
       "        text-align: right;\n",
       "    }\n",
       "</style>\n",
       "<table border=\"1\" class=\"dataframe\">\n",
       "  <thead>\n",
       "    <tr style=\"text-align: right;\">\n",
       "      <th></th>\n",
       "      <th>id</th>\n",
       "    </tr>\n",
       "    <tr>\n",
       "      <th>is_affluent_cur</th>\n",
       "      <th></th>\n",
       "    </tr>\n",
       "  </thead>\n",
       "  <tbody>\n",
       "    <tr>\n",
       "      <th>0</th>\n",
       "      <td>5740</td>\n",
       "    </tr>\n",
       "    <tr>\n",
       "      <th>1</th>\n",
       "      <td>257</td>\n",
       "    </tr>\n",
       "  </tbody>\n",
       "</table>\n",
       "</div>"
      ],
      "text/plain": [
       "                   id\n",
       "is_affluent_cur      \n",
       "0                5740\n",
       "1                 257"
      ]
     },
     "execution_count": 4,
     "metadata": {},
     "output_type": "execute_result"
    }
   ],
   "source": [
    "df_comb.groupby(['is_affluent_cur']).count()[['id']]"
   ]
  },
  {
   "cell_type": "code",
   "execution_count": 5,
   "id": "5576aaa1",
   "metadata": {},
   "outputs": [],
   "source": [
    "df_reg = df_comb[['id', 'is_affluent_cur']]\n",
    "df_reg = df_reg.drop_duplicates('id')\n",
    "\n",
    "train = pd.read_csv('data/model/train.csv')[['id', 't1']].rename({'t1': 'is_affluent_cur'}, axis=1)\n",
    "val = pd.read_csv('data/model/validate.csv')[['id', 't1']].rename({'t1': 'is_affluent_cur'}, axis=1)\n",
    "test = pd.read_csv('data/model/test.csv')[['id', 't1']].rename({'t1': 'is_affluent_cur'}, axis=1)\n",
    "\n",
    "train_idxs = [np.where(df_reg['id'] == cid)[0][0] for cid in train['id']]\n",
    "val_idxs = [np.where(df_reg['id'] == cid)[0][0] for cid in val['id']]\n",
    "test_idxs = [np.where(df_reg['id'] == cid)[0][0] for cid in test['id']]"
   ]
  },
  {
   "cell_type": "code",
   "execution_count": 6,
   "id": "09cf938b",
   "metadata": {},
   "outputs": [],
   "source": [
    "del df_comb"
   ]
  },
  {
   "cell_type": "markdown",
   "id": "be48ec6b",
   "metadata": {},
   "source": [
    "# Transactions "
   ]
  },
  {
   "cell_type": "code",
   "execution_count": 7,
   "id": "bc51571c",
   "metadata": {},
   "outputs": [],
   "source": [
    "fname = 'data/savingacct_txn.csv'\n",
    "col_date = 'D_TRANSACTION_DATE'\n",
    "col_amt = 'D_TRAN_AMOUNT'\n",
    "col_mult = 'D_TRAN_TYPE'"
   ]
  },
  {
   "cell_type": "code",
   "execution_count": 8,
   "id": "b8f972f6",
   "metadata": {},
   "outputs": [
    {
     "name": "stderr",
     "output_type": "stream",
     "text": [
      "/Library/Frameworks/Python.framework/Versions/3.9/lib/python3.9/site-packages/IPython/core/interactiveshell.py:3169: DtypeWarning: Columns (14) have mixed types.Specify dtype option on import or set low_memory=False.\n",
      "  has_raised = await self.run_ast_nodes(code_ast.body, cell_name,\n"
     ]
    }
   ],
   "source": [
    "df_saving = pd.read_csv(fname)\n",
    "\n",
    "tmp = set(df_reg['id'])\n",
    "df_saving = df_saving[[cid in tmp for cid in df_saving['id']]]\n",
    "\n",
    "df_saving['day'] = pd.to_datetime(df_saving[col_date])\n",
    "\n",
    "df_saving['transact_d'] = df_saving['transact_c'] = df_saving[col_amt]\n",
    "df_saving.loc[df_saving[col_mult] == 'C', 'transact_d'] = 0\n",
    "df_saving.loc[df_saving[col_mult] == 'D', 'transact_c'] = 0\n",
    "df_saving = df_saving[['id', 'day', 'transact_c', 'transact_d']]"
   ]
  },
  {
   "cell_type": "code",
   "execution_count": 9,
   "id": "930af3e4",
   "metadata": {},
   "outputs": [],
   "source": [
    "placeholders = []\n",
    "for cid in df_reg['id']:\n",
    "    tmp = pd.date_range(start='1/1/2021', end='31/12/2021')\n",
    "    tmp = pd.DataFrame({'day': tmp, 'transact_c': 0, 'transact_d': 0})\n",
    "    tmp.insert(0, 'id', cid)\n",
    "    placeholders.append(tmp)\n",
    "df_saving = df_saving.append(pd.concat(placeholders))\n",
    "\n",
    "df_saving['day'] = (pd.to_datetime(df_saving['day']) \\\n",
    "                       .apply(lambda x: x.value) - pd.to_datetime('1/1/2021').value) // 86400000000000\n",
    "\n",
    "df_saving = df_saving.sort_values(['id', 'day'])\n",
    "df_saving = df_saving.groupby(['id', 'day']).sum().reset_index(drop=False)"
   ]
  },
  {
   "cell_type": "markdown",
   "id": "149d7d8b",
   "metadata": {},
   "source": [
    "### Feature extraction"
   ]
  },
  {
   "cell_type": "code",
   "execution_count": 59,
   "id": "8cd5da3b",
   "metadata": {},
   "outputs": [
    {
     "data": {
      "application/vnd.jupyter.widget-view+json": {
       "model_id": "0634edc9e792416db33c8fe097017c92",
       "version_major": 2,
       "version_minor": 0
      },
      "text/plain": [
       "  0%|          | 0/5994 [00:00<?, ?it/s]"
      ]
     },
     "metadata": {},
     "output_type": "display_data"
    }
   ],
   "source": [
    "rolling_window = 14\n",
    "\n",
    "dict_rolled = {}\n",
    "for cid in tqdm(df_reg['id']):\n",
    "    df = df_saving[df_saving['id'] == cid][['transact_c', 'transact_d']]\n",
    "    df = df.rolling(window=rolling_window).apply(lambda x : sum(x) / rolling_window)\n",
    "    df = df.dropna()\n",
    "    dict_rolled[cid] = df"
   ]
  },
  {
   "cell_type": "code",
   "execution_count": 60,
   "id": "555d5309",
   "metadata": {},
   "outputs": [
    {
     "data": {
      "text/plain": [
       "(-7.24422751560335, 11.351268164163818, -7.24422751560335, 11.361655024933835)"
      ]
     },
     "execution_count": 60,
     "metadata": {},
     "output_type": "execute_result"
    },
    {
     "data": {
      "image/png": "[encoded data removed]",
      "text/plain": [
       "<Figure size 432x288 with 1 Axes>"
      ]
     },
     "metadata": {
      "needs_background": "light"
     },
     "output_type": "display_data"
    }
   ],
   "source": [
    "tmp = pd.concat(list(dict_rolled.values()))\n",
    "tmp = np.log(tmp.replace({0: 1}))\n",
    "tmp.boxplot()\n",
    "tmp['transact_c'].min(), tmp['transact_c'].max(), tmp['transact_d'].min(), tmp['transact_d'].max()"
   ]
  },
  {
   "cell_type": "code",
   "execution_count": 61,
   "id": "09db8ca1",
   "metadata": {},
   "outputs": [
    {
     "data": {
      "application/vnd.jupyter.widget-view+json": {
       "model_id": "f1b0210d502f47a495972ab785e5867f",
       "version_major": 2,
       "version_minor": 0
      },
      "text/plain": [
       "0it [00:00, ?it/s]"
      ]
     },
     "metadata": {},
     "output_type": "display_data"
    }
   ],
   "source": [
    "bin_size = 0.4\n",
    "bin_min, bin_max = -7.5, 11\n",
    "bins = [bin_min + i * bin_size for i in range(int((bin_max - bin_min) / bin_size) + 1)]\n",
    "\n",
    "def transacts_to_bins(transacts):\n",
    "    transacts = np.log(transacts.replace({0: 1}))\n",
    "    feat = np.zeros((len(bins)))\n",
    "    tmp = np.digitize(transacts, bins) - 1\n",
    "    tmp = pd.DataFrame(tmp).reset_index(drop=False).groupby(0).count()['index']\n",
    "    feat[tmp.index] = tmp\n",
    "    return feat\n",
    "\n",
    "X = np.zeros((len(df_reg), len(bins) * 2))\n",
    "for i, cid in tqdm(enumerate(df_reg['id'])):\n",
    "    feat_c = transacts_to_bins(dict_rolled[cid]['transact_c'])\n",
    "    feat_d = transacts_to_bins(dict_rolled[cid]['transact_d'])\n",
    "    X[i, :] = np.concatenate([feat_c, feat_d])"
   ]
  },
  {
   "cell_type": "code",
   "execution_count": 62,
   "id": "ff09920f",
   "metadata": {
    "scrolled": false
   },
   "outputs": [
    {
     "data": {
      "text/plain": [
       "array([1.039400e+04, 0.000000e+00, 7.509000e+03, 3.406000e+03,\n",
       "       5.241000e+03, 6.965000e+03, 5.591000e+03, 5.304000e+03,\n",
       "       5.216000e+03, 4.122000e+03, 3.405000e+03, 3.605000e+03,\n",
       "       4.149000e+03, 3.925000e+03, 3.089000e+03, 2.960000e+03,\n",
       "       2.808000e+03, 4.114000e+03, 1.266229e+06, 3.856000e+03,\n",
       "       4.215000e+03, 7.933000e+03, 5.717000e+03, 1.447200e+04,\n",
       "       1.084300e+04, 2.225200e+04, 2.198800e+04, 4.178000e+04,\n",
       "       3.758200e+04, 6.580000e+04, 6.179800e+04, 7.903700e+04,\n",
       "       7.702700e+04, 7.907600e+04, 7.041700e+04, 5.849100e+04,\n",
       "       3.648600e+04, 2.365400e+04, 1.571900e+04, 1.039600e+04,\n",
       "       6.266000e+03, 3.593000e+03, 1.706000e+03, 9.920000e+02,\n",
       "       5.430000e+02, 1.680000e+02, 4.900000e+01, 7.300000e+01,\n",
       "       0.000000e+00, 6.800000e+01, 5.000000e+01, 5.400000e+01,\n",
       "       1.120000e+02, 5.100000e+01, 6.900000e+01, 7.900000e+01,\n",
       "       1.070000e+02, 1.310000e+02, 9.800000e+01, 6.520000e+02,\n",
       "       5.990000e+02, 5.240000e+02, 3.400000e+02, 7.890000e+02,\n",
       "       1.195600e+04, 1.216879e+06, 3.937000e+03, 5.815000e+03,\n",
       "       9.909000e+03, 8.174000e+03, 1.718400e+04, 1.757900e+04,\n",
       "       2.750900e+04, 3.221500e+04, 4.844200e+04, 5.184800e+04,\n",
       "       7.379000e+04, 7.849200e+04, 9.102000e+04, 9.323000e+04,\n",
       "       9.136600e+04, 7.142100e+04, 5.759800e+04, 3.745800e+04,\n",
       "       2.418500e+04, 1.490500e+04, 9.827000e+03, 5.474000e+03,\n",
       "       3.234000e+03, 1.437000e+03, 6.930000e+02, 3.840000e+02,\n",
       "       1.010000e+02, 3.000000e+01])"
      ]
     },
     "execution_count": 62,
     "metadata": {},
     "output_type": "execute_result"
    }
   ],
   "source": [
    "X.sum(axis=0)"
   ]
  },
  {
   "cell_type": "markdown",
   "id": "1a9aa4c1",
   "metadata": {},
   "source": [
    "### Modelling (SVM)"
   ]
  },
  {
   "cell_type": "code",
   "execution_count": 63,
   "id": "48b9f368",
   "metadata": {},
   "outputs": [],
   "source": [
    "from sklearn.pipeline import make_pipeline\n",
    "from sklearn.preprocessing import StandardScaler\n",
    "from sklearn.svm import SVC\n",
    "from sklearn.model_selection import cross_val_score\n",
    "from sklearn.metrics import (\n",
    "    confusion_matrix, roc_curve, \n",
    "    precision_recall_fscore_support, plot_roc_curve, roc_auc_score\n",
    ")\n",
    "\n",
    "y = df_reg['is_affluent_cur']\n",
    "\n",
    "X_train = X[train_idxs, :]\n",
    "y_train = np.array(y)[train_idxs]\n",
    "X_val = X[val_idxs, :]\n",
    "y_val = np.array(y)[val_idxs]\n",
    "X_test = X[test_idxs, :]\n",
    "y_test = np.array(y)[test_idxs]"
   ]
  },
  {
   "cell_type": "code",
   "execution_count": 64,
   "id": "04513fce",
   "metadata": {},
   "outputs": [
    {
     "data": {
      "text/plain": [
       "Pipeline(steps=[('standardscaler', StandardScaler()),\n",
       "                ('svc', SVC(gamma='auto', probability=True))])"
      ]
     },
     "execution_count": 64,
     "metadata": {},
     "output_type": "execute_result"
    }
   ],
   "source": [
    "svm = make_pipeline(StandardScaler(), SVC(gamma='auto', probability=True))\n",
    "svm.fit(X_train, y_train)"
   ]
  },
  {
   "cell_type": "code",
   "execution_count": 65,
   "id": "5d2a30dd",
   "metadata": {},
   "outputs": [],
   "source": [
    "pred_probs = svm.predict_proba(X_val)"
   ]
  },
  {
   "cell_type": "code",
   "execution_count": 73,
   "id": "08e1ef0b",
   "metadata": {},
   "outputs": [
    {
     "name": "stdout",
     "output_type": "stream",
     "text": [
      "0.9314448836187966 0.7666666666666667 0.8337288508020215\n"
     ]
    },
    {
     "data": {
      "text/plain": [
       "array([[672,  21],\n",
       "       [189,  18]])"
      ]
     },
     "execution_count": 73,
     "metadata": {},
     "output_type": "execute_result"
    }
   ],
   "source": [
    "pred = (pred_probs[:, 0] < 0.955).astype(int)\n",
    "\n",
    "precision, recall, f1, _ = precision_recall_fscore_support(y_val, pred, average='weighted')\n",
    "print(precision, recall, f1)\n",
    "confusion_matrix(pred, y_val)"
   ]
  },
  {
   "cell_type": "code",
   "execution_count": 69,
   "id": "9ed3ea7f",
   "metadata": {
    "scrolled": true
   },
   "outputs": [
    {
     "data": {
      "text/plain": [
       "0.6826290240924388"
      ]
     },
     "execution_count": 69,
     "metadata": {},
     "output_type": "execute_result"
    },
    {
     "data": {
      "image/png": "[encoded data removed]",
      "text/plain": [
       "<Figure size 432x288 with 1 Axes>"
      ]
     },
     "metadata": {
      "needs_background": "light"
     },
     "output_type": "display_data"
    }
   ],
   "source": [
    "plot_roc_curve(svm, X_val, y_val)\n",
    "roc_auc_score(y_val, pred_probs[:, 1])"
   ]
  },
  {
   "cell_type": "code",
   "execution_count": null,
   "id": "324cbb20",
   "metadata": {},
   "outputs": [],
   "source": []
  },
  {
   "cell_type": "markdown",
   "id": "322022d6",
   "metadata": {},
   "source": [
    "```\n",
    "rolling_window = 10\n",
    "bin_size = 0.5\n",
    "bin_min, bin_max = -7, 11.5\n",
    "bins = [bin_min + i * bin_size for i in range(int((bin_max - bin_min) / bin_size) + 1)]\n",
    "auc = 0.66\n",
    "```\n",
    "\n",
    "_________________\n",
    "\n",
    "```\n",
    "rolling_window = 14\n",
    "bin_size = 0.4\n",
    "bin_min, bin_max = -7.5, 11\n",
    "auc = 0.68\n",
    "```"
   ]
  },
  {
   "cell_type": "code",
   "execution_count": null,
   "id": "80e3058e",
   "metadata": {},
   "outputs": [],
   "source": []
  }
 ],
 "metadata": {
  "kernelspec": {
   "display_name": "Python 3",
   "language": "python",
   "name": "python3"
  },
  "language_info": {
   "codemirror_mode": {
    "name": "ipython",
    "version": 3
   },
   "file_extension": ".py",
   "mimetype": "text/x-python",
   "name": "python",
   "nbconvert_exporter": "python",
   "pygments_lexer": "ipython3",
   "version": "3.9.5"
  }
 },
 "nbformat": 4,
 "nbformat_minor": 5
}
