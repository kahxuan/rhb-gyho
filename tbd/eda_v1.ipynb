{
 "cells": [
  {
   "cell_type": "code",
   "execution_count": 1,
   "id": "0a3a0e3f",
   "metadata": {},
   "outputs": [],
   "source": [
    "import os\n",
    "import pandas as pd\n",
    "import numpy as np\n",
    "import matplotlib.pyplot as plt\n",
    "\n",
    "from sklearn.linear_model import LinearRegression"
   ]
  },
  {
   "cell_type": "code",
   "execution_count": 2,
   "id": "ad7426d2",
   "metadata": {
    "scrolled": false
   },
   "outputs": [
    {
     "data": {
      "text/plain": [
       "['savingacct_txn.csv',\n",
       " 'creditcard_txn.csv',\n",
       " 'cust_past1year_snapshot.xlsx',\n",
       " 'cust.csv',\n",
       " 'currentacct_txn.csv',\n",
       " 'cust_dna.csv',\n",
       " 'cust_prev.csv']"
      ]
     },
     "execution_count": 2,
     "metadata": {},
     "output_type": "execute_result"
    }
   ],
   "source": [
    "os.listdir('data')"
   ]
  },
  {
   "cell_type": "code",
   "execution_count": 6,
   "id": "118762ae",
   "metadata": {},
   "outputs": [],
   "source": [
    "dir_prev = 'data/cust.csv'\n",
    "dir_cur = 'data/cust_prev.csv'\n",
    "\n",
    "def read_df_comb(dir_prev, dir_cur):\n",
    "    df_cur = pd.read_csv(dir_prev)\n",
    "    df_cur['BE_SEGMENT'] = df_cur['BE_SEGMENT'].str[0].fillna(-1).astype('int')\n",
    "    df_prev = pd.read_csv(dir_cur)\n",
    "\n",
    "    df_comb = df_prev.merge(df_cur, on='id', suffixes=['_prev', '_cur'], how='outer')\n",
    "    df_comb = df_comb[df_comb['BE_SEGMENT_prev'] != -1]\n",
    "    df_comb['be_segment_p1m'] = df_comb['BE_SEGMENT_cur']\n",
    "\n",
    "    df_comb = df_comb[(df_comb[['be_segment_p{}m'.format(i) for i in range(1, 13)]] > 0).all(axis=1)]\n",
    "\n",
    "    def ols(df):\n",
    "        X = pd.DataFrame([i for i in range(1, 13)])\n",
    "        y = df[['be_segment_p{}m'.format(i) for i in range(12, 0, -1)]].T\n",
    "        reg = LinearRegression().fit(X, y.astype(int))\n",
    "        return reg.coef_[0]\n",
    "\n",
    "    df_comb['segment_slope'] = df_comb.apply(lambda x: ols(x), axis=1)\n",
    "    \n",
    "    return df_comb\n",
    "\n",
    "# read_df_comb(dir_prev, dir_cur)"
   ]
  },
  {
   "cell_type": "code",
   "execution_count": 7,
   "id": "e570c020",
   "metadata": {},
   "outputs": [
    {
     "name": "stderr",
     "output_type": "stream",
     "text": [
      "/Library/Frameworks/Python.framework/Versions/3.9/lib/python3.9/site-packages/IPython/core/interactiveshell.py:3169: DtypeWarning: Columns (7) have mixed types.Specify dtype option on import or set low_memory=False.\n",
      "  has_raised = await self.run_ast_nodes(code_ast.body, cell_name,\n"
     ]
    }
   ],
   "source": [
    "df_cur = pd.read_csv('data/cust.csv')\n",
    "df_cur['BE_SEGMENT'] = df_cur['BE_SEGMENT'].str[0].fillna(-1).astype('int')\n",
    "df_prev = pd.read_csv('data/cust_prev.csv')\n",
    "\n",
    "df_comb = df_prev.merge(df_cur, on='id', suffixes=['_prev', '_cur'], how='outer')\n",
    "df_comb = df_comb[df_comb['BE_SEGMENT_prev'] != -1]\n",
    "df_comb['be_segment_p1m'] = df_comb['BE_SEGMENT_cur']\n",
    "\n",
    "df_comb = df_comb[(df_comb[['be_segment_p{}m'.format(i) for i in range(1, 13)]] > 0).all(axis=1)]"
   ]
  },
  {
   "cell_type": "code",
   "execution_count": 8,
   "id": "94b7f13f",
   "metadata": {},
   "outputs": [
    {
     "data": {
      "text/html": [
       "<div>\n",
       "<style scoped>\n",
       "    .dataframe tbody tr th:only-of-type {\n",
       "        vertical-align: middle;\n",
       "    }\n",
       "\n",
       "    .dataframe tbody tr th {\n",
       "        vertical-align: top;\n",
       "    }\n",
       "\n",
       "    .dataframe thead th {\n",
       "        text-align: right;\n",
       "    }\n",
       "</style>\n",
       "<table border=\"1\" class=\"dataframe\">\n",
       "  <thead>\n",
       "    <tr style=\"text-align: right;\">\n",
       "      <th></th>\n",
       "      <th>id</th>\n",
       "    </tr>\n",
       "    <tr>\n",
       "      <th>BE_SEGMENT_prev</th>\n",
       "      <th></th>\n",
       "    </tr>\n",
       "  </thead>\n",
       "  <tbody>\n",
       "    <tr>\n",
       "      <th>1</th>\n",
       "      <td>72</td>\n",
       "    </tr>\n",
       "    <tr>\n",
       "      <th>2</th>\n",
       "      <td>3579</td>\n",
       "    </tr>\n",
       "    <tr>\n",
       "      <th>3</th>\n",
       "      <td>5183</td>\n",
       "    </tr>\n",
       "    <tr>\n",
       "      <th>4</th>\n",
       "      <td>808</td>\n",
       "    </tr>\n",
       "  </tbody>\n",
       "</table>\n",
       "</div>"
      ],
      "text/plain": [
       "                   id\n",
       "BE_SEGMENT_prev      \n",
       "1                  72\n",
       "2                3579\n",
       "3                5183\n",
       "4                 808"
      ]
     },
     "execution_count": 8,
     "metadata": {},
     "output_type": "execute_result"
    }
   ],
   "source": [
    "df_comb.groupby(['BE_SEGMENT_prev']).count()[['id']]"
   ]
  },
  {
   "cell_type": "markdown",
   "id": "88fa172f",
   "metadata": {},
   "source": [
    "### Weigh current segment\n",
    "\n",
    "compute 1 year changes\n",
    "- Parameter: alpha"
   ]
  },
  {
   "cell_type": "code",
   "execution_count": 9,
   "id": "3d7d62c8",
   "metadata": {},
   "outputs": [],
   "source": [
    "alpha = 0.2\n",
    "df_comb['BE_SEGMENT_weighted'] = 0\n",
    "for i in range(1, 13):\n",
    "    colname = 'be_segment_p{}m'.format(i)\n",
    "    df_comb['BE_SEGMENT_weighted'] += alpha ** (i - 1) * df_comb[colname]\n",
    "\n",
    "df_comb['segment_diff'] = df_comb['BE_SEGMENT_prev'] - df_comb['BE_SEGMENT_cur']\n",
    "df_comb['segment_diff_weighted'] = df_comb['BE_SEGMENT_prev'] - df_comb['BE_SEGMENT_weighted']"
   ]
  },
  {
   "cell_type": "markdown",
   "id": "ce7383f7",
   "metadata": {},
   "source": [
    "Difference between weigh and not weighing\n",
    "- Mode (likely) is the value given there's no change throughout the months, this can be the baseline"
   ]
  },
  {
   "cell_type": "code",
   "execution_count": 10,
   "id": "84b76803",
   "metadata": {},
   "outputs": [
    {
     "data": {
      "image/png": "[encoded data removed]",
      "text/plain": [
       "<Figure size 432x288 with 1 Axes>"
      ]
     },
     "metadata": {
      "needs_background": "light"
     },
     "output_type": "display_data"
    }
   ],
   "source": [
    "_ = df_comb[df_comb['segment_diff'] == 0]['segment_diff_weighted'].hist()"
   ]
  },
  {
   "cell_type": "markdown",
   "id": "63b7b08b",
   "metadata": {},
   "source": [
    "Response variable: `segment_diff_weighted`\n",
    "- High score -> changing towards affluence\n",
    "- account for noises\n",
    "- A little vague on the actual meaning\n",
    "    - small increase/decrease indicates changes during the past months\n",
    "- Less suitable for decision tree (?)"
   ]
  },
  {
   "cell_type": "code",
   "execution_count": 11,
   "id": "4b269b57",
   "metadata": {
    "scrolled": true
   },
   "outputs": [
    {
     "data": {
      "image/png": "[encoded data removed]",
      "text/plain": [
       "<Figure size 432x288 with 2 Axes>"
      ]
     },
     "metadata": {
      "needs_background": "light"
     },
     "output_type": "display_data"
    }
   ],
   "source": [
    "_ = (df_comb[['segment_diff', 'segment_diff_weighted']]).hist()"
   ]
  },
  {
   "cell_type": "markdown",
   "id": "a39a0d68",
   "metadata": {},
   "source": [
    "### Regress response"
   ]
  },
  {
   "cell_type": "code",
   "execution_count": 15,
   "id": "0354391c",
   "metadata": {},
   "outputs": [],
   "source": [
    "def ols(df):\n",
    "    X = pd.DataFrame([i for i in range(1, 13)])\n",
    "    y = df[['be_segment_p{}m'.format(i) for i in range(12, 0, -1)]].T\n",
    "    reg = LinearRegression().fit(X, y.astype(int))\n",
    "    return reg.coef_[0]\n",
    "\n",
    "df_comb['segment_slope'] = df_comb.apply(lambda x: ols(x), axis=1)"
   ]
  },
  {
   "cell_type": "code",
   "execution_count": 18,
   "id": "237f5045",
   "metadata": {},
   "outputs": [
    {
     "data": {
      "text/html": [
       "<div>\n",
       "<style scoped>\n",
       "    .dataframe tbody tr th:only-of-type {\n",
       "        vertical-align: middle;\n",
       "    }\n",
       "\n",
       "    .dataframe tbody tr th {\n",
       "        vertical-align: top;\n",
       "    }\n",
       "\n",
       "    .dataframe thead th {\n",
       "        text-align: right;\n",
       "    }\n",
       "</style>\n",
       "<table border=\"1\" class=\"dataframe\">\n",
       "  <thead>\n",
       "    <tr style=\"text-align: right;\">\n",
       "      <th></th>\n",
       "      <th>segment_slope</th>\n",
       "    </tr>\n",
       "    <tr>\n",
       "      <th>BE_SEGMENT_prev</th>\n",
       "      <th></th>\n",
       "    </tr>\n",
       "  </thead>\n",
       "  <tbody>\n",
       "    <tr>\n",
       "      <th>1</th>\n",
       "      <td>0.087898</td>\n",
       "    </tr>\n",
       "    <tr>\n",
       "      <th>2</th>\n",
       "      <td>0.002696</td>\n",
       "    </tr>\n",
       "    <tr>\n",
       "      <th>3</th>\n",
       "      <td>-0.002829</td>\n",
       "    </tr>\n",
       "    <tr>\n",
       "      <th>4</th>\n",
       "      <td>-0.073859</td>\n",
       "    </tr>\n",
       "  </tbody>\n",
       "</table>\n",
       "</div>"
      ],
      "text/plain": [
       "                 segment_slope\n",
       "BE_SEGMENT_prev               \n",
       "1                     0.087898\n",
       "2                     0.002696\n",
       "3                    -0.002829\n",
       "4                    -0.073859"
      ]
     },
     "execution_count": 18,
     "metadata": {},
     "output_type": "execute_result"
    }
   ],
   "source": [
    "df_comb[['segment_slope', 'BE_SEGMENT_prev']].groupby('BE_SEGMENT_prev').mean()"
   ]
  },
  {
   "cell_type": "code",
   "execution_count": 20,
   "id": "737d379a",
   "metadata": {},
   "outputs": [
    {
     "data": {
      "text/plain": [
       "<AxesSubplot:>"
      ]
     },
     "execution_count": 20,
     "metadata": {},
     "output_type": "execute_result"
    },
    {
     "data": {
      "image/png": "[encoded data removed]",
      "text/plain": [
       "<Figure size 432x288 with 1 Axes>"
      ]
     },
     "metadata": {
      "needs_background": "light"
     },
     "output_type": "display_data"
    }
   ],
   "source": [
    "df_comb[df_comb['BE_SEGMENT_prev'] == 3]['segment_slope'].hist()"
   ]
  },
  {
   "cell_type": "markdown",
   "id": "518b942b",
   "metadata": {},
   "source": [
    "# Markov Model"
   ]
  },
  {
   "cell_type": "code",
   "execution_count": 110,
   "id": "cb953182",
   "metadata": {},
   "outputs": [],
   "source": [
    "# 'be_segment_p{}m'.format(i)\n",
    "ls = []\n",
    "for i in range(1, 12):\n",
    "    ls.append(df_comb[['be_segment_p{}m'.format(i), 'be_segment_p{}m'.format(i + 1)]])\n",
    "    ls[-1].columns = ['prev', 'cur']\n",
    "df_trans = pd.concat(ls, axis=0)\n",
    "df_trans = df_trans[(df_trans['prev'] != -1) & (df_trans['cur'] != -1)]\n",
    "\n",
    "trans_mat = np.zeros((4, 4))\n",
    "for a, b in zip(df_trans['prev'], df_trans['cur']):\n",
    "    trans_mat[a - 1, b - 1] += 1\n",
    "    \n",
    "prev_sums = df_trans.groupby('prev').count().sort_index()['cur']\n",
    "prev_sums = np.expand_dims(np.array(prev_sums), 1).repeat(4, axis=1)\n",
    "\n",
    "trans_mat = trans_mat / prev_sums\n",
    "\n",
    "p_init = prev_sums[:, 0] / len(df_trans)"
   ]
  },
  {
   "cell_type": "code",
   "execution_count": 340,
   "id": "a0bbdddd",
   "metadata": {},
   "outputs": [],
   "source": [
    "trans_states = [p_init]\n",
    "for _ in range(2000):\n",
    "    trans_states.append(trans_states[-1] @ trans_mat)"
   ]
  },
  {
   "cell_type": "code",
   "execution_count": 341,
   "id": "abbfa026",
   "metadata": {},
   "outputs": [
    {
     "data": {
      "image/png": "[encoded data removed]",
      "text/plain": [
       "<Figure size 432x288 with 1 Axes>"
      ]
     },
     "metadata": {
      "needs_background": "light"
     },
     "output_type": "display_data"
    }
   ],
   "source": [
    "state_distributions = pd.DataFrame(trans_states)\n",
    "state_distributions\n",
    "state_distributions.plot();"
   ]
  },
  {
   "cell_type": "markdown",
   "id": "4c457ed3",
   "metadata": {},
   "source": [
    "# Customer Personal Info"
   ]
  },
  {
   "cell_type": "code",
   "execution_count": 416,
   "id": "7cb6ee5a",
   "metadata": {},
   "outputs": [],
   "source": [
    "df_dna = pd.read_csv('data/cust_dna.csv')\n",
    "df_dna = df_dna.merge(df_comb[['id'] + cols_resp], on='id', how='right')"
   ]
  },
  {
   "cell_type": "code",
   "execution_count": 417,
   "id": "6b81f24e",
   "metadata": {},
   "outputs": [],
   "source": [
    "cols_cust = ['FRST_CONT_DT', 'CUST_AGE', 'SEX', 'MARITAL_STATUS', 'D_OCC']\n",
    "cols_cust_dna = ['cd_age', 'cd_dependent_cnt', 'cd_mrtl_status', \n",
    "                 'cd_premier_cust_flg', 'cd_resident_flg', 'cd_state', 'cd_race', \n",
    "                 'cd_salary_amt', 'cd_risk_cd', 'cd_education']\n",
    "\n",
    "cols_resp = ['segment_diff_weighted', 'segment_diff', 'BE_SEGMENT_prev', 'BE_SEGMENT_weighted', 'BE_SEGMENT_cur']\n",
    "\n",
    "df_cust_eda = df_comb[[x + '_prev' for x in cols_cust] + cols_resp]\n",
    "df_eda_dna = df_eda_dna[cols_cust_dna + cols_resp]"
   ]
  },
  {
   "cell_type": "code",
   "execution_count": 496,
   "id": "a25dd7ee",
   "metadata": {},
   "outputs": [],
   "source": [
    "# tmp = pd.to_datetime(df_cust_eda['FRST_CONT_DT_prev'])\n",
    "# plt.scatter(tmp, df_cust_eda['segment_diff_weighted'], alpha=0.1)\n",
    "\n",
    "# tmp = df_cust_eda[['MARITAL_STATUS_prev', 'segment_diff_weighted']]\n",
    "# tmp.loc[tmp['MARITAL_STATUS_prev'].isin(['Divorced', 'Widowed']), 'MARITAL_STATUS_prev'] = 'Divorced/Widowed'\n",
    "# tmp.loc[tmp['MARITAL_STATUS_prev'] == '', 'MARITAL_STATUS_prev'] = 'Unknown'\n",
    "# tmp.boxplot('segment_diff_weighted', 'MARITAL_STATUS_prev')"
   ]
  },
  {
   "cell_type": "code",
   "execution_count": 560,
   "id": "c52d5383",
   "metadata": {},
   "outputs": [
    {
     "name": "stderr",
     "output_type": "stream",
     "text": [
      "/Library/Frameworks/Python.framework/Versions/3.9/lib/python3.9/site-packages/pandas/core/indexing.py:1720: SettingWithCopyWarning: \n",
      "A value is trying to be set on a copy of a slice from a DataFrame.\n",
      "Try using .loc[row_indexer,col_indexer] = value instead\n",
      "\n",
      "See the caveats in the documentation: https://pandas.pydata.org/pandas-docs/stable/user_guide/indexing.html#returning-a-view-versus-a-copy\n",
      "  self._setitem_single_column(loc, value, pi)\n"
     ]
    },
    {
     "data": {
      "text/html": [
       "<div>\n",
       "<style scoped>\n",
       "    .dataframe tbody tr th:only-of-type {\n",
       "        vertical-align: middle;\n",
       "    }\n",
       "\n",
       "    .dataframe tbody tr th {\n",
       "        vertical-align: top;\n",
       "    }\n",
       "\n",
       "    .dataframe thead th {\n",
       "        text-align: right;\n",
       "    }\n",
       "</style>\n",
       "<table border=\"1\" class=\"dataframe\">\n",
       "  <thead>\n",
       "    <tr style=\"text-align: right;\">\n",
       "      <th></th>\n",
       "      <th>BE_SEGMENT_prev</th>\n",
       "    </tr>\n",
       "    <tr>\n",
       "      <th>cd_mrtl_status</th>\n",
       "      <th></th>\n",
       "    </tr>\n",
       "  </thead>\n",
       "  <tbody>\n",
       "    <tr>\n",
       "      <th></th>\n",
       "      <td>1</td>\n",
       "    </tr>\n",
       "    <tr>\n",
       "      <th>Divorced</th>\n",
       "      <td>52</td>\n",
       "    </tr>\n",
       "    <tr>\n",
       "      <th>Divorced/W</th>\n",
       "      <td>4</td>\n",
       "    </tr>\n",
       "    <tr>\n",
       "      <th>Married</th>\n",
       "      <td>4849</td>\n",
       "    </tr>\n",
       "    <tr>\n",
       "      <th>Others</th>\n",
       "      <td>126</td>\n",
       "    </tr>\n",
       "    <tr>\n",
       "      <th>Separated</th>\n",
       "      <td>2</td>\n",
       "    </tr>\n",
       "    <tr>\n",
       "      <th>Single</th>\n",
       "      <td>4592</td>\n",
       "    </tr>\n",
       "    <tr>\n",
       "      <th>Unknown</th>\n",
       "      <td>5</td>\n",
       "    </tr>\n",
       "    <tr>\n",
       "      <th>Widowed</th>\n",
       "      <td>21</td>\n",
       "    </tr>\n",
       "  </tbody>\n",
       "</table>\n",
       "</div>"
      ],
      "text/plain": [
       "                BE_SEGMENT_prev\n",
       "cd_mrtl_status                 \n",
       "                              1\n",
       "Divorced                     52\n",
       "Divorced/W                    4\n",
       "Married                    4849\n",
       "Others                      126\n",
       "Separated                     2\n",
       "Single                     4592\n",
       "Unknown                       5\n",
       "Widowed                      21"
      ]
     },
     "execution_count": 560,
     "metadata": {},
     "output_type": "execute_result"
    },
    {
     "data": {
      "image/png": "[encoded data removed]",
      "text/plain": [
       "<Figure size 432x288 with 1 Axes>"
      ]
     },
     "metadata": {
      "needs_background": "light"
     },
     "output_type": "display_data"
    }
   ],
   "source": [
    "tmp = df_eda_dna[['cd_mrtl_status', 'segment_diff_weighted']]\n",
    "tmp.loc[tmp['cd_mrtl_status'].isin(['Divorced', 'Widowed']), 'cd_mrtl_status'] = 'Divorced/W'\n",
    "tmp.boxplot('segment_diff_weighted', 'cd_mrtl_status')\n",
    "df_eda_dna.fillna(' ').groupby('cd_mrtl_status').count()[['BE_SEGMENT_prev']]"
   ]
  },
  {
   "cell_type": "code",
   "execution_count": 557,
   "id": "80e47cd4",
   "metadata": {},
   "outputs": [
    {
     "name": "stderr",
     "output_type": "stream",
     "text": [
      "<ipython-input-557-f58878d0417e>:2: SettingWithCopyWarning: \n",
      "A value is trying to be set on a copy of a slice from a DataFrame.\n",
      "Try using .loc[row_indexer,col_indexer] = value instead\n",
      "\n",
      "See the caveats in the documentation: https://pandas.pydata.org/pandas-docs/stable/user_guide/indexing.html#returning-a-view-versus-a-copy\n",
      "  tmp['cd_state'] = tmp['cd_state'].fillna(' ')\n"
     ]
    },
    {
     "data": {
      "text/html": [
       "<div>\n",
       "<style scoped>\n",
       "    .dataframe tbody tr th:only-of-type {\n",
       "        vertical-align: middle;\n",
       "    }\n",
       "\n",
       "    .dataframe tbody tr th {\n",
       "        vertical-align: top;\n",
       "    }\n",
       "\n",
       "    .dataframe thead th {\n",
       "        text-align: right;\n",
       "    }\n",
       "</style>\n",
       "<table border=\"1\" class=\"dataframe\">\n",
       "  <thead>\n",
       "    <tr style=\"text-align: right;\">\n",
       "      <th></th>\n",
       "      <th>BE_SEGMENT_prev</th>\n",
       "    </tr>\n",
       "    <tr>\n",
       "      <th>cd_state</th>\n",
       "      <th></th>\n",
       "    </tr>\n",
       "  </thead>\n",
       "  <tbody>\n",
       "    <tr>\n",
       "      <th></th>\n",
       "      <td>48</td>\n",
       "    </tr>\n",
       "    <tr>\n",
       "      <th>01. KLANG VALLEY</th>\n",
       "      <td>4210</td>\n",
       "    </tr>\n",
       "    <tr>\n",
       "      <th>02. JOHOR</th>\n",
       "      <td>1393</td>\n",
       "    </tr>\n",
       "    <tr>\n",
       "      <th>03. MELAKA</th>\n",
       "      <td>213</td>\n",
       "    </tr>\n",
       "    <tr>\n",
       "      <th>04. PAHANG</th>\n",
       "      <td>236</td>\n",
       "    </tr>\n",
       "    <tr>\n",
       "      <th>05. PERAK</th>\n",
       "      <td>691</td>\n",
       "    </tr>\n",
       "    <tr>\n",
       "      <th>06. N. SEMBILAN</th>\n",
       "      <td>251</td>\n",
       "    </tr>\n",
       "    <tr>\n",
       "      <th>07. TERENGGANU</th>\n",
       "      <td>148</td>\n",
       "    </tr>\n",
       "    <tr>\n",
       "      <th>08. PULAU PINANG</th>\n",
       "      <td>788</td>\n",
       "    </tr>\n",
       "    <tr>\n",
       "      <th>09. KEDAH</th>\n",
       "      <td>305</td>\n",
       "    </tr>\n",
       "    <tr>\n",
       "      <th>10. KELANTAN</th>\n",
       "      <td>70</td>\n",
       "    </tr>\n",
       "    <tr>\n",
       "      <th>11. PERLIS</th>\n",
       "      <td>11</td>\n",
       "    </tr>\n",
       "    <tr>\n",
       "      <th>12. SARAWAK</th>\n",
       "      <td>818</td>\n",
       "    </tr>\n",
       "    <tr>\n",
       "      <th>13. SABAH</th>\n",
       "      <td>470</td>\n",
       "    </tr>\n",
       "  </tbody>\n",
       "</table>\n",
       "</div>"
      ],
      "text/plain": [
       "                  BE_SEGMENT_prev\n",
       "cd_state                         \n",
       "                               48\n",
       "01. KLANG VALLEY             4210\n",
       "02. JOHOR                    1393\n",
       "03. MELAKA                    213\n",
       "04. PAHANG                    236\n",
       "05. PERAK                     691\n",
       "06. N. SEMBILAN               251\n",
       "07. TERENGGANU                148\n",
       "08. PULAU PINANG              788\n",
       "09. KEDAH                     305\n",
       "10. KELANTAN                   70\n",
       "11. PERLIS                     11\n",
       "12. SARAWAK                   818\n",
       "13. SABAH                     470"
      ]
     },
     "execution_count": 557,
     "metadata": {},
     "output_type": "execute_result"
    },
    {
     "data": {
      "image/png": "[encoded data removed]",
      "text/plain": [
       "<Figure size 432x288 with 1 Axes>"
      ]
     },
     "metadata": {
      "needs_background": "light"
     },
     "output_type": "display_data"
    }
   ],
   "source": [
    "tmp = df_eda_dna[['cd_state', 'segment_diff_weighted']]\n",
    "tmp['cd_state'] = tmp['cd_state'].fillna(' ')\n",
    "tmp.boxplot('segment_diff_weighted', 'cd_state')\n",
    "df_eda_dna.fillna(' ').groupby('cd_state').count()[['BE_SEGMENT_prev']]"
   ]
  },
  {
   "cell_type": "code",
   "execution_count": 573,
   "id": "5667b87c",
   "metadata": {},
   "outputs": [
    {
     "data": {
      "text/plain": [
       "<AxesSubplot:title={'center':'segment_diff_weighted'}, xlabel='cd_premier_cust_flg'>"
      ]
     },
     "execution_count": 573,
     "metadata": {},
     "output_type": "execute_result"
    },
    {
     "data": {
      "image/png": "[encoded data removed]",
      "text/plain": [
       "<Figure size 432x288 with 1 Axes>"
      ]
     },
     "metadata": {
      "needs_background": "light"
     },
     "output_type": "display_data"
    }
   ],
   "source": [
    "tmp = df_eda_dna[['cd_premier_cust_flg', 'segment_diff_weighted']]\n",
    "tmp.boxplot('segment_diff_weighted', 'cd_premier_cust_flg')"
   ]
  },
  {
   "cell_type": "code",
   "execution_count": 572,
   "id": "a4476aa3",
   "metadata": {},
   "outputs": [
    {
     "data": {
      "text/plain": [
       "0.01098781504797186"
      ]
     },
     "execution_count": 572,
     "metadata": {},
     "output_type": "execute_result"
    }
   ],
   "source": [
    "df_premier = df_eda_dna[['cd_premier_cust_flg', 'segment_diff_weighted']]\n",
    "df_premier = df_premier[~df_premier['cd_premier_cust_flg'].isna()]\n",
    "df_premier['cd_premier_cust_flg'] = df_premier['cd_premier_cust_flg'].astype('int')\n",
    "X = pd.get_dummies(df_premier['cd_premier_cust_flg'], prefix = 'premier')\n",
    "y = df_premier['segment_diff_weighted']\n",
    "reg = LinearRegression().fit(X, y)\n",
    "reg.score(X, y)"
   ]
  },
  {
   "cell_type": "markdown",
   "id": "89076809",
   "metadata": {},
   "source": [
    "Summary - nothing useful"
   ]
  },
  {
   "cell_type": "markdown",
   "id": "c1969a80",
   "metadata": {},
   "source": [
    "# Cust DNA past data"
   ]
  },
  {
   "cell_type": "code",
   "execution_count": 606,
   "id": "077333af",
   "metadata": {},
   "outputs": [],
   "source": [
    "cols_pm = ['DP_A6M_CASA_MTHLY_WDR_CNT',\n",
    " 'DP_A6M_CASA_MTHLY_WDR_AMT',\n",
    " 'DP_R6M_CASA_MTHLY_WDR2DEP_AMT',\n",
    " 'DP_L6M_SLP_CASA_MTHLY_WDR_AMT',\n",
    " 'DP_A6M_FD_MTHLY_WDR_CNT',\n",
    " 'DP_A6M_FD_MTHLY_WDR_AMT',\n",
    " 'DP_R6M_FD_MTHLY_WDR2DEP_AMT',\n",
    " 'DP_L6M_SLP_FD_MTHLY_WDR_AMT']\n",
    "\n",
    "cols_resp = ['segment_diff_weighted', 'segment_diff', 'BE_SEGMENT_prev', 'BE_SEGMENT_weighted', 'BE_SEGMENT_cur']"
   ]
  },
  {
   "cell_type": "code",
   "execution_count": 607,
   "id": "75b29113",
   "metadata": {},
   "outputs": [],
   "source": [
    "df_dna = pd.read_csv('data/cust_dna.csv')\n",
    "df_dna = df_dna.merge(df_comb[['id'] + cols_resp], on='id', how='right')\n",
    "# df_dna = df_dna[cols_pm + cols_resp]"
   ]
  },
  {
   "cell_type": "code",
   "execution_count": 645,
   "id": "41d27489",
   "metadata": {},
   "outputs": [
    {
     "data": {
      "text/plain": [
       "0.007819263756511874"
      ]
     },
     "execution_count": 645,
     "metadata": {},
     "output_type": "execute_result"
    },
    {
     "data": {
      "image/png": "[encoded data removed]",
      "text/plain": [
       "<Figure size 432x288 with 1 Axes>"
      ]
     },
     "metadata": {
      "needs_background": "light"
     },
     "output_type": "display_data"
    }
   ],
   "source": [
    "mask = (df_dna['DP_A6M_CASA_MTHLY_WDR_CNT'] < 100) & (df_dna['DP_A6M_CASA_MTHLY_WDR_CNT'] > 1)\n",
    "np.log(df_dna['DP_A6M_CASA_MTHLY_WDR_CNT'][mask]).hist(bins=60)\n",
    "\n",
    "X = np.log(df_dna[mask]['DP_A6M_CASA_MTHLY_WDR_CNT'])\n",
    "X = pd.DataFrame(X)\n",
    "y = df_dna[mask]['segment_diff_weighted']\n",
    "reg = LinearRegression().fit(X, y)\n",
    "reg.score(X, y)"
   ]
  },
  {
   "cell_type": "markdown",
   "id": "be48ec6b",
   "metadata": {},
   "source": [
    "# Transactions "
   ]
  },
  {
   "cell_type": "code",
   "execution_count": 21,
   "id": "5d966155",
   "metadata": {},
   "outputs": [
    {
     "data": {
      "text/plain": [
       "['savingacct_txn.csv',\n",
       " 'creditcard_txn.csv',\n",
       " 'cust_past1year_snapshot.xlsx',\n",
       " 'cust.csv',\n",
       " 'currentacct_txn.csv',\n",
       " 'cust_dna.csv',\n",
       " 'cust_prev.csv']"
      ]
     },
     "execution_count": 21,
     "metadata": {},
     "output_type": "execute_result"
    }
   ],
   "source": [
    "os.listdir('data')"
   ]
  },
  {
   "cell_type": "code",
   "execution_count": 98,
   "id": "b8f972f6",
   "metadata": {},
   "outputs": [
    {
     "name": "stderr",
     "output_type": "stream",
     "text": [
      "/Library/Frameworks/Python.framework/Versions/3.9/lib/python3.9/site-packages/IPython/core/interactiveshell.py:3169: DtypeWarning: Columns (14) have mixed types.Specify dtype option on import or set low_memory=False.\n",
      "  has_raised = await self.run_ast_nodes(code_ast.body, cell_name,\n"
     ]
    }
   ],
   "source": [
    "df_saving = pd.read_csv('data/savingacct_txn.csv')\n",
    "df_saving['D_TRANSACTION_DATE'] = pd.to_datetime(df_saving['D_TRANSACTION_DATE'])"
   ]
  },
  {
   "cell_type": "code",
   "execution_count": 106,
   "id": "a5ea35d4",
   "metadata": {},
   "outputs": [],
   "source": [
    "df = df_saving\n",
    "# df = df_saving[df_saving['id'] == 12359928]\n",
    "df['mult'] = df['D_TRAN_TYPE'].replace({'D': 1, 'C': -1})\n",
    "df['transact'] = df['mult'] * df['D_TRAN_AMOUNT']\n",
    "df = df[['transact', 'D_TRANSACTION_DATE', 'id']]\n",
    "\n",
    "tmp = pd.date_range(start='1/1/2021', end='31/12/2021')\n",
    "tmp = pd.DataFrame({'transact': 0, 'D_TRANSACTION_DATE': tmp})\n",
    "df = df.append(tmp).sort_values('D_TRANSACTION_DATE')\n",
    "df['D_TRANSACTION_DATE'] = (df['D_TRANSACTION_DATE'] \\\n",
    "                            .apply(lambda x: x.value) - pd.to_datetime('1/1/2021').value) // 86400000000000\n",
    "df = df.groupby('D_TRANSACTION_DATE').sum().reset_index()\n",
    "df['day'] = df['D_TRANSACTION_DATE'].astype(int)\n",
    "del df['D_TRANSACTION_DATE']"
   ]
  },
  {
   "cell_type": "code",
   "execution_count": 109,
   "id": "27cad1da",
   "metadata": {},
   "outputs": [
    {
     "data": {
      "text/plain": [
       "(array([  1.,   2.,   1.,  12.,  18.,  64., 119., 126.,  16.,   6.]),\n",
       " array([-16517.27090411, -14008.41364932, -11499.55639452,  -8990.69913973,\n",
       "         -6481.84188493,  -3972.98463014,  -1464.12737534,   1044.72987945,\n",
       "          3553.58713425,   6062.44438904,   8571.30164384]),\n",
       " <BarContainer object of 10 artists>)"
      ]
     },
     "execution_count": 109,
     "metadata": {},
     "output_type": "execute_result"
    },
    {
     "data": {
      "image/png": "[encoded data removed]",
      "text/plain": [
       "<Figure size 432x288 with 1 Axes>"
      ]
     },
     "metadata": {
      "needs_background": "light"
     },
     "output_type": "display_data"
    }
   ],
   "source": [
    "# window = 10\n",
    "# df_rolled = df.rolling(window=window).apply(lambda x : sum(x) / window).tail(len(df) - window + 1)\n",
    "plt.scatter(df['transact'] / len(df['id'].unique()))"
   ]
  },
  {
   "cell_type": "code",
   "execution_count": 102,
   "id": "3595fccc",
   "metadata": {},
   "outputs": [
    {
     "ename": "NameError",
     "evalue": "name 'nunique' is not defined",
     "output_type": "error",
     "traceback": [
      "\u001b[0;31m---------------------------------------------------------------------------\u001b[0m",
      "\u001b[0;31mNameError\u001b[0m                                 Traceback (most recent call last)",
      "\u001b[0;32m<ipython-input-102-c88b2c263595>\u001b[0m in \u001b[0;36m<module>\u001b[0;34m\u001b[0m\n\u001b[0;32m----> 1\u001b[0;31m \u001b[0mnunique\u001b[0m\u001b[0;34m(\u001b[0m\u001b[0mdf\u001b[0m\u001b[0;34m[\u001b[0m\u001b[0;34m'id'\u001b[0m\u001b[0;34m]\u001b[0m\u001b[0;34m)\u001b[0m\u001b[0;34m\u001b[0m\u001b[0;34m\u001b[0m\u001b[0m\n\u001b[0m",
      "\u001b[0;31mNameError\u001b[0m: name 'nunique' is not defined"
     ]
    }
   ],
   "source": [
    "df['id']"
   ]
  },
  {
   "cell_type": "code",
   "execution_count": null,
   "id": "ecd51d15",
   "metadata": {},
   "outputs": [],
   "source": [
    "df['transact'] / "
   ]
  },
  {
   "cell_type": "code",
   "execution_count": 46,
   "id": "fed37990",
   "metadata": {},
   "outputs": [
    {
     "data": {
      "text/html": [
       "<div>\n",
       "<style scoped>\n",
       "    .dataframe tbody tr th:only-of-type {\n",
       "        vertical-align: middle;\n",
       "    }\n",
       "\n",
       "    .dataframe tbody tr th {\n",
       "        vertical-align: top;\n",
       "    }\n",
       "\n",
       "    .dataframe thead th {\n",
       "        text-align: right;\n",
       "    }\n",
       "</style>\n",
       "<table border=\"1\" class=\"dataframe\">\n",
       "  <thead>\n",
       "    <tr style=\"text-align: right;\">\n",
       "      <th></th>\n",
       "      <th>transact</th>\n",
       "      <th>D_TRANSACTION_DATE</th>\n",
       "    </tr>\n",
       "  </thead>\n",
       "  <tbody>\n",
       "    <tr>\n",
       "      <th>0</th>\n",
       "      <td>17000.00</td>\n",
       "      <td>2021-07-31</td>\n",
       "    </tr>\n",
       "    <tr>\n",
       "      <th>1</th>\n",
       "      <td>-27265.00</td>\n",
       "      <td>2021-07-30</td>\n",
       "    </tr>\n",
       "    <tr>\n",
       "      <th>2</th>\n",
       "      <td>608.02</td>\n",
       "      <td>2021-07-31</td>\n",
       "    </tr>\n",
       "    <tr>\n",
       "      <th>3</th>\n",
       "      <td>9670.00</td>\n",
       "      <td>2021-07-31</td>\n",
       "    </tr>\n",
       "    <tr>\n",
       "      <th>4</th>\n",
       "      <td>703.60</td>\n",
       "      <td>2021-08-31</td>\n",
       "    </tr>\n",
       "    <tr>\n",
       "      <th>5</th>\n",
       "      <td>-27265.00</td>\n",
       "      <td>2021-08-30</td>\n",
       "    </tr>\n",
       "    <tr>\n",
       "      <th>6</th>\n",
       "      <td>17000.00</td>\n",
       "      <td>2021-08-31</td>\n",
       "    </tr>\n",
       "    <tr>\n",
       "      <th>7</th>\n",
       "      <td>9560.00</td>\n",
       "      <td>2021-08-31</td>\n",
       "    </tr>\n",
       "    <tr>\n",
       "      <th>8</th>\n",
       "      <td>-27265.05</td>\n",
       "      <td>2021-09-30</td>\n",
       "    </tr>\n",
       "    <tr>\n",
       "      <th>9</th>\n",
       "      <td>1153.55</td>\n",
       "      <td>2021-09-30</td>\n",
       "    </tr>\n",
       "    <tr>\n",
       "      <th>10</th>\n",
       "      <td>17000.00</td>\n",
       "      <td>2021-09-30</td>\n",
       "    </tr>\n",
       "    <tr>\n",
       "      <th>11</th>\n",
       "      <td>9111.00</td>\n",
       "      <td>2021-09-30</td>\n",
       "    </tr>\n",
       "    <tr>\n",
       "      <th>12</th>\n",
       "      <td>-27265.05</td>\n",
       "      <td>2021-01-11</td>\n",
       "    </tr>\n",
       "    <tr>\n",
       "      <th>13</th>\n",
       "      <td>-27265.05</td>\n",
       "      <td>2021-11-30</td>\n",
       "    </tr>\n",
       "    <tr>\n",
       "      <th>14</th>\n",
       "      <td>16315.00</td>\n",
       "      <td>2021-02-11</td>\n",
       "    </tr>\n",
       "    <tr>\n",
       "      <th>15</th>\n",
       "      <td>1750.13</td>\n",
       "      <td>2021-02-11</td>\n",
       "    </tr>\n",
       "    <tr>\n",
       "      <th>16</th>\n",
       "      <td>9200.00</td>\n",
       "      <td>2021-02-11</td>\n",
       "    </tr>\n",
       "    <tr>\n",
       "      <th>17</th>\n",
       "      <td>-0.95</td>\n",
       "      <td>2021-12-31</td>\n",
       "    </tr>\n",
       "    <tr>\n",
       "      <th>18</th>\n",
       "      <td>1562.50</td>\n",
       "      <td>2021-01-12</td>\n",
       "    </tr>\n",
       "    <tr>\n",
       "      <th>19</th>\n",
       "      <td>8700.00</td>\n",
       "      <td>2021-01-12</td>\n",
       "    </tr>\n",
       "    <tr>\n",
       "      <th>20</th>\n",
       "      <td>17000.00</td>\n",
       "      <td>2021-01-12</td>\n",
       "    </tr>\n",
       "    <tr>\n",
       "      <th>21</th>\n",
       "      <td>-27265.05</td>\n",
       "      <td>2021-12-31</td>\n",
       "    </tr>\n",
       "    <tr>\n",
       "      <th>22</th>\n",
       "      <td>17000.00</td>\n",
       "      <td>2021-03-26</td>\n",
       "    </tr>\n",
       "    <tr>\n",
       "      <th>23</th>\n",
       "      <td>735.90</td>\n",
       "      <td>2021-03-26</td>\n",
       "    </tr>\n",
       "    <tr>\n",
       "      <th>24</th>\n",
       "      <td>-27265.00</td>\n",
       "      <td>2021-03-26</td>\n",
       "    </tr>\n",
       "    <tr>\n",
       "      <th>25</th>\n",
       "      <td>-735.00</td>\n",
       "      <td>2021-03-26</td>\n",
       "    </tr>\n",
       "    <tr>\n",
       "      <th>26</th>\n",
       "      <td>10270.00</td>\n",
       "      <td>2021-03-26</td>\n",
       "    </tr>\n",
       "    <tr>\n",
       "      <th>27</th>\n",
       "      <td>9500.00</td>\n",
       "      <td>2021-04-26</td>\n",
       "    </tr>\n",
       "    <tr>\n",
       "      <th>28</th>\n",
       "      <td>17000.00</td>\n",
       "      <td>2021-04-26</td>\n",
       "    </tr>\n",
       "    <tr>\n",
       "      <th>29</th>\n",
       "      <td>-27265.00</td>\n",
       "      <td>2021-04-26</td>\n",
       "    </tr>\n",
       "    <tr>\n",
       "      <th>30</th>\n",
       "      <td>766.87</td>\n",
       "      <td>2021-04-26</td>\n",
       "    </tr>\n",
       "    <tr>\n",
       "      <th>31</th>\n",
       "      <td>8714.00</td>\n",
       "      <td>2021-05-27</td>\n",
       "    </tr>\n",
       "    <tr>\n",
       "      <th>32</th>\n",
       "      <td>-27265.00</td>\n",
       "      <td>2021-05-27</td>\n",
       "    </tr>\n",
       "    <tr>\n",
       "      <th>33</th>\n",
       "      <td>-773.00</td>\n",
       "      <td>2021-05-31</td>\n",
       "    </tr>\n",
       "    <tr>\n",
       "      <th>34</th>\n",
       "      <td>17000.00</td>\n",
       "      <td>2021-05-27</td>\n",
       "    </tr>\n",
       "    <tr>\n",
       "      <th>35</th>\n",
       "      <td>-0.08</td>\n",
       "      <td>2021-06-30</td>\n",
       "    </tr>\n",
       "    <tr>\n",
       "      <th>36</th>\n",
       "      <td>-773.00</td>\n",
       "      <td>2021-01-06</td>\n",
       "    </tr>\n",
       "    <tr>\n",
       "      <th>37</th>\n",
       "      <td>17000.00</td>\n",
       "      <td>2021-06-28</td>\n",
       "    </tr>\n",
       "    <tr>\n",
       "      <th>38</th>\n",
       "      <td>583.60</td>\n",
       "      <td>2021-06-28</td>\n",
       "    </tr>\n",
       "    <tr>\n",
       "      <th>39</th>\n",
       "      <td>-27265.00</td>\n",
       "      <td>2021-06-28</td>\n",
       "    </tr>\n",
       "    <tr>\n",
       "      <th>40</th>\n",
       "      <td>9660.00</td>\n",
       "      <td>2021-06-28</td>\n",
       "    </tr>\n",
       "    <tr>\n",
       "      <th>41</th>\n",
       "      <td>3116.00</td>\n",
       "      <td>2021-01-06</td>\n",
       "    </tr>\n",
       "    <tr>\n",
       "      <th>42</th>\n",
       "      <td>9720.00</td>\n",
       "      <td>2021-02-26</td>\n",
       "    </tr>\n",
       "    <tr>\n",
       "      <th>43</th>\n",
       "      <td>-27265.00</td>\n",
       "      <td>2021-02-26</td>\n",
       "    </tr>\n",
       "    <tr>\n",
       "      <th>44</th>\n",
       "      <td>17000.00</td>\n",
       "      <td>2021-02-26</td>\n",
       "    </tr>\n",
       "    <tr>\n",
       "      <th>45</th>\n",
       "      <td>531.25</td>\n",
       "      <td>2021-02-26</td>\n",
       "    </tr>\n",
       "    <tr>\n",
       "      <th>46</th>\n",
       "      <td>1340.75</td>\n",
       "      <td>2021-01-26</td>\n",
       "    </tr>\n",
       "    <tr>\n",
       "      <th>47</th>\n",
       "      <td>9930.00</td>\n",
       "      <td>2021-01-26</td>\n",
       "    </tr>\n",
       "    <tr>\n",
       "      <th>48</th>\n",
       "      <td>-27265.00</td>\n",
       "      <td>2021-01-26</td>\n",
       "    </tr>\n",
       "    <tr>\n",
       "      <th>49</th>\n",
       "      <td>16000.00</td>\n",
       "      <td>2021-01-26</td>\n",
       "    </tr>\n",
       "  </tbody>\n",
       "</table>\n",
       "</div>"
      ],
      "text/plain": [
       "    transact D_TRANSACTION_DATE\n",
       "0   17000.00         2021-07-31\n",
       "1  -27265.00         2021-07-30\n",
       "2     608.02         2021-07-31\n",
       "3    9670.00         2021-07-31\n",
       "4     703.60         2021-08-31\n",
       "5  -27265.00         2021-08-30\n",
       "6   17000.00         2021-08-31\n",
       "7    9560.00         2021-08-31\n",
       "8  -27265.05         2021-09-30\n",
       "9    1153.55         2021-09-30\n",
       "10  17000.00         2021-09-30\n",
       "11   9111.00         2021-09-30\n",
       "12 -27265.05         2021-01-11\n",
       "13 -27265.05         2021-11-30\n",
       "14  16315.00         2021-02-11\n",
       "15   1750.13         2021-02-11\n",
       "16   9200.00         2021-02-11\n",
       "17     -0.95         2021-12-31\n",
       "18   1562.50         2021-01-12\n",
       "19   8700.00         2021-01-12\n",
       "20  17000.00         2021-01-12\n",
       "21 -27265.05         2021-12-31\n",
       "22  17000.00         2021-03-26\n",
       "23    735.90         2021-03-26\n",
       "24 -27265.00         2021-03-26\n",
       "25   -735.00         2021-03-26\n",
       "26  10270.00         2021-03-26\n",
       "27   9500.00         2021-04-26\n",
       "28  17000.00         2021-04-26\n",
       "29 -27265.00         2021-04-26\n",
       "30    766.87         2021-04-26\n",
       "31   8714.00         2021-05-27\n",
       "32 -27265.00         2021-05-27\n",
       "33   -773.00         2021-05-31\n",
       "34  17000.00         2021-05-27\n",
       "35     -0.08         2021-06-30\n",
       "36   -773.00         2021-01-06\n",
       "37  17000.00         2021-06-28\n",
       "38    583.60         2021-06-28\n",
       "39 -27265.00         2021-06-28\n",
       "40   9660.00         2021-06-28\n",
       "41   3116.00         2021-01-06\n",
       "42   9720.00         2021-02-26\n",
       "43 -27265.00         2021-02-26\n",
       "44  17000.00         2021-02-26\n",
       "45    531.25         2021-02-26\n",
       "46   1340.75         2021-01-26\n",
       "47   9930.00         2021-01-26\n",
       "48 -27265.00         2021-01-26\n",
       "49  16000.00         2021-01-26"
      ]
     },
     "execution_count": 46,
     "metadata": {},
     "output_type": "execute_result"
    }
   ],
   "source": [
    "np.digitize(df['transact'], bins)"
   ]
  },
  {
   "cell_type": "code",
   "execution_count": 35,
   "id": "59a3ddb6",
   "metadata": {},
   "outputs": [
    {
     "data": {
      "text/html": [
       "<div>\n",
       "<style scoped>\n",
       "    .dataframe tbody tr th:only-of-type {\n",
       "        vertical-align: middle;\n",
       "    }\n",
       "\n",
       "    .dataframe tbody tr th {\n",
       "        vertical-align: top;\n",
       "    }\n",
       "\n",
       "    .dataframe thead th {\n",
       "        text-align: right;\n",
       "    }\n",
       "</style>\n",
       "<table border=\"1\" class=\"dataframe\">\n",
       "  <thead>\n",
       "    <tr style=\"text-align: right;\">\n",
       "      <th></th>\n",
       "      <th>mult</th>\n",
       "      <th>D_TRAN_AMOUNT</th>\n",
       "    </tr>\n",
       "  </thead>\n",
       "  <tbody>\n",
       "    <tr>\n",
       "      <th>0</th>\n",
       "      <td>1</td>\n",
       "      <td>17000.00</td>\n",
       "    </tr>\n",
       "    <tr>\n",
       "      <th>1</th>\n",
       "      <td>-1</td>\n",
       "      <td>27265.00</td>\n",
       "    </tr>\n",
       "    <tr>\n",
       "      <th>2</th>\n",
       "      <td>1</td>\n",
       "      <td>608.02</td>\n",
       "    </tr>\n",
       "    <tr>\n",
       "      <th>3</th>\n",
       "      <td>1</td>\n",
       "      <td>9670.00</td>\n",
       "    </tr>\n",
       "    <tr>\n",
       "      <th>4</th>\n",
       "      <td>1</td>\n",
       "      <td>703.60</td>\n",
       "    </tr>\n",
       "    <tr>\n",
       "      <th>5</th>\n",
       "      <td>-1</td>\n",
       "      <td>27265.00</td>\n",
       "    </tr>\n",
       "    <tr>\n",
       "      <th>6</th>\n",
       "      <td>1</td>\n",
       "      <td>17000.00</td>\n",
       "    </tr>\n",
       "    <tr>\n",
       "      <th>7</th>\n",
       "      <td>1</td>\n",
       "      <td>9560.00</td>\n",
       "    </tr>\n",
       "    <tr>\n",
       "      <th>8</th>\n",
       "      <td>-1</td>\n",
       "      <td>27265.05</td>\n",
       "    </tr>\n",
       "    <tr>\n",
       "      <th>9</th>\n",
       "      <td>1</td>\n",
       "      <td>1153.55</td>\n",
       "    </tr>\n",
       "    <tr>\n",
       "      <th>10</th>\n",
       "      <td>1</td>\n",
       "      <td>17000.00</td>\n",
       "    </tr>\n",
       "    <tr>\n",
       "      <th>11</th>\n",
       "      <td>1</td>\n",
       "      <td>9111.00</td>\n",
       "    </tr>\n",
       "    <tr>\n",
       "      <th>12</th>\n",
       "      <td>-1</td>\n",
       "      <td>27265.05</td>\n",
       "    </tr>\n",
       "    <tr>\n",
       "      <th>13</th>\n",
       "      <td>-1</td>\n",
       "      <td>27265.05</td>\n",
       "    </tr>\n",
       "    <tr>\n",
       "      <th>14</th>\n",
       "      <td>1</td>\n",
       "      <td>16315.00</td>\n",
       "    </tr>\n",
       "    <tr>\n",
       "      <th>15</th>\n",
       "      <td>1</td>\n",
       "      <td>1750.13</td>\n",
       "    </tr>\n",
       "    <tr>\n",
       "      <th>16</th>\n",
       "      <td>1</td>\n",
       "      <td>9200.00</td>\n",
       "    </tr>\n",
       "    <tr>\n",
       "      <th>17</th>\n",
       "      <td>-1</td>\n",
       "      <td>0.95</td>\n",
       "    </tr>\n",
       "    <tr>\n",
       "      <th>18</th>\n",
       "      <td>1</td>\n",
       "      <td>1562.50</td>\n",
       "    </tr>\n",
       "    <tr>\n",
       "      <th>19</th>\n",
       "      <td>1</td>\n",
       "      <td>8700.00</td>\n",
       "    </tr>\n",
       "    <tr>\n",
       "      <th>20</th>\n",
       "      <td>1</td>\n",
       "      <td>17000.00</td>\n",
       "    </tr>\n",
       "    <tr>\n",
       "      <th>21</th>\n",
       "      <td>-1</td>\n",
       "      <td>27265.05</td>\n",
       "    </tr>\n",
       "    <tr>\n",
       "      <th>22</th>\n",
       "      <td>1</td>\n",
       "      <td>17000.00</td>\n",
       "    </tr>\n",
       "    <tr>\n",
       "      <th>23</th>\n",
       "      <td>1</td>\n",
       "      <td>735.90</td>\n",
       "    </tr>\n",
       "    <tr>\n",
       "      <th>24</th>\n",
       "      <td>-1</td>\n",
       "      <td>27265.00</td>\n",
       "    </tr>\n",
       "    <tr>\n",
       "      <th>25</th>\n",
       "      <td>-1</td>\n",
       "      <td>735.00</td>\n",
       "    </tr>\n",
       "    <tr>\n",
       "      <th>26</th>\n",
       "      <td>1</td>\n",
       "      <td>10270.00</td>\n",
       "    </tr>\n",
       "    <tr>\n",
       "      <th>27</th>\n",
       "      <td>1</td>\n",
       "      <td>9500.00</td>\n",
       "    </tr>\n",
       "    <tr>\n",
       "      <th>28</th>\n",
       "      <td>1</td>\n",
       "      <td>17000.00</td>\n",
       "    </tr>\n",
       "    <tr>\n",
       "      <th>29</th>\n",
       "      <td>-1</td>\n",
       "      <td>27265.00</td>\n",
       "    </tr>\n",
       "    <tr>\n",
       "      <th>30</th>\n",
       "      <td>1</td>\n",
       "      <td>766.87</td>\n",
       "    </tr>\n",
       "    <tr>\n",
       "      <th>31</th>\n",
       "      <td>1</td>\n",
       "      <td>8714.00</td>\n",
       "    </tr>\n",
       "    <tr>\n",
       "      <th>32</th>\n",
       "      <td>-1</td>\n",
       "      <td>27265.00</td>\n",
       "    </tr>\n",
       "    <tr>\n",
       "      <th>33</th>\n",
       "      <td>-1</td>\n",
       "      <td>773.00</td>\n",
       "    </tr>\n",
       "    <tr>\n",
       "      <th>34</th>\n",
       "      <td>1</td>\n",
       "      <td>17000.00</td>\n",
       "    </tr>\n",
       "    <tr>\n",
       "      <th>35</th>\n",
       "      <td>-1</td>\n",
       "      <td>0.08</td>\n",
       "    </tr>\n",
       "    <tr>\n",
       "      <th>36</th>\n",
       "      <td>-1</td>\n",
       "      <td>773.00</td>\n",
       "    </tr>\n",
       "    <tr>\n",
       "      <th>37</th>\n",
       "      <td>1</td>\n",
       "      <td>17000.00</td>\n",
       "    </tr>\n",
       "    <tr>\n",
       "      <th>38</th>\n",
       "      <td>1</td>\n",
       "      <td>583.60</td>\n",
       "    </tr>\n",
       "    <tr>\n",
       "      <th>39</th>\n",
       "      <td>-1</td>\n",
       "      <td>27265.00</td>\n",
       "    </tr>\n",
       "    <tr>\n",
       "      <th>40</th>\n",
       "      <td>1</td>\n",
       "      <td>9660.00</td>\n",
       "    </tr>\n",
       "    <tr>\n",
       "      <th>41</th>\n",
       "      <td>1</td>\n",
       "      <td>3116.00</td>\n",
       "    </tr>\n",
       "    <tr>\n",
       "      <th>42</th>\n",
       "      <td>1</td>\n",
       "      <td>9720.00</td>\n",
       "    </tr>\n",
       "    <tr>\n",
       "      <th>43</th>\n",
       "      <td>-1</td>\n",
       "      <td>27265.00</td>\n",
       "    </tr>\n",
       "    <tr>\n",
       "      <th>44</th>\n",
       "      <td>1</td>\n",
       "      <td>17000.00</td>\n",
       "    </tr>\n",
       "    <tr>\n",
       "      <th>45</th>\n",
       "      <td>1</td>\n",
       "      <td>531.25</td>\n",
       "    </tr>\n",
       "    <tr>\n",
       "      <th>46</th>\n",
       "      <td>1</td>\n",
       "      <td>1340.75</td>\n",
       "    </tr>\n",
       "    <tr>\n",
       "      <th>47</th>\n",
       "      <td>1</td>\n",
       "      <td>9930.00</td>\n",
       "    </tr>\n",
       "    <tr>\n",
       "      <th>48</th>\n",
       "      <td>-1</td>\n",
       "      <td>27265.00</td>\n",
       "    </tr>\n",
       "    <tr>\n",
       "      <th>49</th>\n",
       "      <td>1</td>\n",
       "      <td>16000.00</td>\n",
       "    </tr>\n",
       "  </tbody>\n",
       "</table>\n",
       "</div>"
      ],
      "text/plain": [
       "    mult  D_TRAN_AMOUNT\n",
       "0      1       17000.00\n",
       "1     -1       27265.00\n",
       "2      1         608.02\n",
       "3      1        9670.00\n",
       "4      1         703.60\n",
       "5     -1       27265.00\n",
       "6      1       17000.00\n",
       "7      1        9560.00\n",
       "8     -1       27265.05\n",
       "9      1        1153.55\n",
       "10     1       17000.00\n",
       "11     1        9111.00\n",
       "12    -1       27265.05\n",
       "13    -1       27265.05\n",
       "14     1       16315.00\n",
       "15     1        1750.13\n",
       "16     1        9200.00\n",
       "17    -1           0.95\n",
       "18     1        1562.50\n",
       "19     1        8700.00\n",
       "20     1       17000.00\n",
       "21    -1       27265.05\n",
       "22     1       17000.00\n",
       "23     1         735.90\n",
       "24    -1       27265.00\n",
       "25    -1         735.00\n",
       "26     1       10270.00\n",
       "27     1        9500.00\n",
       "28     1       17000.00\n",
       "29    -1       27265.00\n",
       "30     1         766.87\n",
       "31     1        8714.00\n",
       "32    -1       27265.00\n",
       "33    -1         773.00\n",
       "34     1       17000.00\n",
       "35    -1           0.08\n",
       "36    -1         773.00\n",
       "37     1       17000.00\n",
       "38     1         583.60\n",
       "39    -1       27265.00\n",
       "40     1        9660.00\n",
       "41     1        3116.00\n",
       "42     1        9720.00\n",
       "43    -1       27265.00\n",
       "44     1       17000.00\n",
       "45     1         531.25\n",
       "46     1        1340.75\n",
       "47     1        9930.00\n",
       "48    -1       27265.00\n",
       "49     1       16000.00"
      ]
     },
     "execution_count": 35,
     "metadata": {},
     "output_type": "execute_result"
    }
   ],
   "source": [
    "df"
   ]
  },
  {
   "cell_type": "code",
   "execution_count": null,
   "id": "5d2a30dd",
   "metadata": {},
   "outputs": [],
   "source": []
  },
  {
   "cell_type": "code",
   "execution_count": null,
   "id": "75e727d2",
   "metadata": {},
   "outputs": [],
   "source": []
  },
  {
   "cell_type": "code",
   "execution_count": null,
   "id": "66ff338b",
   "metadata": {},
   "outputs": [],
   "source": []
  },
  {
   "cell_type": "code",
   "execution_count": null,
   "id": "2387a53b",
   "metadata": {},
   "outputs": [],
   "source": []
  },
  {
   "cell_type": "code",
   "execution_count": null,
   "id": "15897471",
   "metadata": {},
   "outputs": [],
   "source": []
  },
  {
   "cell_type": "code",
   "execution_count": null,
   "id": "16bc3fde",
   "metadata": {},
   "outputs": [],
   "source": []
  },
  {
   "cell_type": "code",
   "execution_count": null,
   "id": "6eb82c6e",
   "metadata": {},
   "outputs": [],
   "source": []
  },
  {
   "cell_type": "code",
   "execution_count": null,
   "id": "bfcd2660",
   "metadata": {},
   "outputs": [],
   "source": []
  },
  {
   "cell_type": "code",
   "execution_count": null,
   "id": "668df77b",
   "metadata": {},
   "outputs": [],
   "source": []
  },
  {
   "cell_type": "code",
   "execution_count": null,
   "id": "d4158ac5",
   "metadata": {},
   "outputs": [],
   "source": []
  }
 ],
 "metadata": {
  "kernelspec": {
   "display_name": "Python 3",
   "language": "python",
   "name": "python3"
  },
  "language_info": {
   "codemirror_mode": {
    "name": "ipython",
    "version": 3
   },
   "file_extension": ".py",
   "mimetype": "text/x-python",
   "name": "python",
   "nbconvert_exporter": "python",
   "pygments_lexer": "ipython3",
   "version": "3.9.5"
  }
 },
 "nbformat": 4,
 "nbformat_minor": 5
}
