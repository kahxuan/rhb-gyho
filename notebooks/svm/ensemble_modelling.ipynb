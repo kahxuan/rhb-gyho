{
 "cells": [
  {
   "cell_type": "code",
   "execution_count": 586,
   "id": "bda1af2f",
   "metadata": {},
   "outputs": [],
   "source": [
    "import os\n",
    "import json\n",
    "import pandas as pd\n",
    "import numpy as np\n",
    "from sklearn.pipeline import make_pipeline\n",
    "from sklearn.preprocessing import StandardScaler\n",
    "from sklearn.svm import SVC\n",
    "from sklearn.metrics import (\n",
    "    confusion_matrix, roc_curve, \n",
    "    precision_recall_fscore_support, plot_roc_curve, roc_auc_score\n",
    ")\n",
    "from svm_utils import *\n",
    "\n",
    "\n",
    "def get_confusion_matrix(pred_probs, y_test, threshold):\n",
    "    pred = (pred_probs > threshold).astype(int)\n",
    "    cm = pd.DataFrame(confusion_matrix(pred, y_test))\n",
    "    cm.columns = ['F', 'T']\n",
    "    cm.index = ['F', 'T']\n",
    "    cm = pd.concat([cm], keys=['True'], names=[None], axis=1)\n",
    "    cm = pd.concat([cm], keys=['Predicted'], names=[None], axis=0)\n",
    "    \n",
    "    tn = cm.values[0, 0]\n",
    "    tp = cm.values[1, 1]\n",
    "    fp = cm.values[1, 0]\n",
    "    fn = cm.values[0, 1]\n",
    "    tpr = tp/(tp+fn)\n",
    "    tnr = tn/(tn+fp)\n",
    "    tpr, tnr\n",
    "    \n",
    "    return cm, tpr, tnr"
   ]
  },
  {
   "cell_type": "code",
   "execution_count": 588,
   "id": "9717d14d",
   "metadata": {},
   "outputs": [],
   "source": [
    "data_dir = '../../data'\n",
    "pxm = 'p6m'\n",
    "\n",
    "df_reg = pd.read_csv(os.path.join(data_dir, 'model/{}/full.csv'.format(pxm)))\n",
    "train = pd.read_csv(os.path.join(data_dir, 'model/{}/train.csv'.format(pxm)))\n",
    "val = pd.read_csv(os.path.join(data_dir, 'model/{}/validate.csv'.format(pxm)))\n",
    "test = pd.read_csv(os.path.join(data_dir, 'model/{}/test.csv'.format(pxm)))\n",
    "test = test.append(val)\n",
    "\n",
    "train_idxs = [np.where(df_reg['id'] == cid)[0][0] for cid in train['id']]\n",
    "test_idxs = [np.where(df_reg['id'] == cid)[0][0] for cid in test['id']]"
   ]
  },
  {
   "cell_type": "code",
   "execution_count": 590,
   "id": "bdd54555",
   "metadata": {},
   "outputs": [],
   "source": [
    "dir_feat = 'data/features'\n",
    "feats = {}\n",
    "for fname in os.listdir(dir_feat):\n",
    "    tmp = pd.read_csv(os.path.join(dir_feat, fname))\n",
    "    feats[fname.split('.')[0]] = tmp"
   ]
  },
  {
   "cell_type": "code",
   "execution_count": 544,
   "id": "97fd4134",
   "metadata": {},
   "outputs": [],
   "source": [
    "probs = {}\n",
    "\n",
    "for model in feats:\n",
    "\n",
    "    X = feats[model].drop(['y', 'id'], axis=1)\n",
    "    X = np.array(X)\n",
    "    y = df_reg['is_affluent_cur']\n",
    "    X_train, y_train = split_by_idxs(X, y, train_idxs)\n",
    "    X_test, y_test = split_by_idxs(X, y, test_idxs)\n",
    "\n",
    "\n",
    "    svm = get_svm_classifier()\n",
    "    svm.fit(X_train, y_train)\n",
    "    pred_probs = svm.predict_proba(X_test)\n",
    "\n",
    "    probs[model] = pred_probs[:, 1]"
   ]
  },
  {
   "cell_type": "code",
   "execution_count": 717,
   "id": "a7d6a512",
   "metadata": {},
   "outputs": [],
   "source": [
    "df_preds = pd.DataFrame(probs)\n",
    "preds_en = df_preds.sum(axis=1) / 6"
   ]
  },
  {
   "cell_type": "code",
   "execution_count": 728,
   "id": "1272b221",
   "metadata": {},
   "outputs": [],
   "source": [
    "cm, tpr, tnr = get_confusion_matrix(preds_en, y_test, 0.0254)\n",
    "fp = cm.values[1, 0]\n",
    "tp = cm.values[1, 1]\n",
    "precision = tp / (fp + tp)\n",
    "auc = roc_auc_score(y_test, preds_en)"
   ]
  },
  {
   "cell_type": "code",
   "execution_count": 729,
   "id": "e3f4a67f",
   "metadata": {},
   "outputs": [
    {
     "name": "stdout",
     "output_type": "stream",
     "text": [
      "\n",
      "    AUC       : 0.7223077378485585\n",
      "    Precision : 0.10526315789473684\n",
      "\n"
     ]
    },
    {
     "data": {
      "text/html": [
       "<div>\n",
       "<style scoped>\n",
       "    .dataframe tbody tr th:only-of-type {\n",
       "        vertical-align: middle;\n",
       "    }\n",
       "\n",
       "    .dataframe tbody tr th {\n",
       "        vertical-align: top;\n",
       "    }\n",
       "\n",
       "    .dataframe thead tr th {\n",
       "        text-align: left;\n",
       "    }\n",
       "</style>\n",
       "<table border=\"1\" class=\"dataframe\">\n",
       "  <thead>\n",
       "    <tr>\n",
       "      <th></th>\n",
       "      <th></th>\n",
       "      <th colspan=\"2\" halign=\"left\">True</th>\n",
       "    </tr>\n",
       "    <tr>\n",
       "      <th></th>\n",
       "      <th></th>\n",
       "      <th>F</th>\n",
       "      <th>T</th>\n",
       "    </tr>\n",
       "  </thead>\n",
       "  <tbody>\n",
       "    <tr>\n",
       "      <th rowspan=\"2\" valign=\"top\">Predicted</th>\n",
       "      <th>F</th>\n",
       "      <td>1710</td>\n",
       "      <td>30</td>\n",
       "    </tr>\n",
       "    <tr>\n",
       "      <th>T</th>\n",
       "      <td>68</td>\n",
       "      <td>8</td>\n",
       "    </tr>\n",
       "  </tbody>\n",
       "</table>\n",
       "</div>"
      ],
      "text/plain": [
       "             True    \n",
       "                F   T\n",
       "Predicted F  1710  30\n",
       "          T    68   8"
      ]
     },
     "execution_count": 729,
     "metadata": {},
     "output_type": "execute_result"
    }
   ],
   "source": [
    "print(\"\"\"\n",
    "    AUC       : {}\n",
    "    Precision : {}\n",
    "\"\"\".format(auc, precision))\n",
    "cm"
   ]
  },
  {
   "cell_type": "code",
   "execution_count": null,
   "id": "ba1dcf7b",
   "metadata": {},
   "outputs": [],
   "source": []
  },
  {
   "cell_type": "code",
   "execution_count": null,
   "id": "e01cd0e6",
   "metadata": {},
   "outputs": [],
   "source": []
  },
  {
   "cell_type": "code",
   "execution_count": null,
   "id": "1c655bd3",
   "metadata": {},
   "outputs": [],
   "source": []
  },
  {
   "cell_type": "code",
   "execution_count": null,
   "id": "33182d2d",
   "metadata": {},
   "outputs": [],
   "source": []
  }
 ],
 "metadata": {
  "kernelspec": {
   "display_name": "Python 3",
   "language": "python",
   "name": "python3"
  },
  "language_info": {
   "codemirror_mode": {
    "name": "ipython",
    "version": 3
   },
   "file_extension": ".py",
   "mimetype": "text/x-python",
   "name": "python",
   "nbconvert_exporter": "python",
   "pygments_lexer": "ipython3",
   "version": "3.9.5"
  }
 },
 "nbformat": 4,
 "nbformat_minor": 5
}
