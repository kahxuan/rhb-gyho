{
 "cells": [
  {
   "cell_type": "code",
   "execution_count": 1,
   "id": "0a3a0e3f",
   "metadata": {},
   "outputs": [],
   "source": [
    "import os\n",
    "import pandas as pd\n",
    "import numpy as np\n",
    "import matplotlib.pyplot as plt\n",
    "from tqdm.notebook import tqdm\n",
    "\n",
    "from sklearn.linear_model import LinearRegression"
   ]
  },
  {
   "cell_type": "code",
   "execution_count": 2,
   "id": "e570c020",
   "metadata": {},
   "outputs": [
    {
     "name": "stderr",
     "output_type": "stream",
     "text": [
      "/Library/Frameworks/Python.framework/Versions/3.9/lib/python3.9/site-packages/IPython/core/interactiveshell.py:3169: DtypeWarning: Columns (7) have mixed types.Specify dtype option on import or set low_memory=False.\n",
      "  has_raised = await self.run_ast_nodes(code_ast.body, cell_name,\n"
     ]
    }
   ],
   "source": [
    "df_cur = pd.read_csv('data/cust.csv')\n",
    "df_cur['BE_SEGMENT'] = df_cur['BE_SEGMENT'].str[0].fillna(-1).astype('int')\n",
    "df_prev = pd.read_csv('data/cust_prev.csv')\n",
    "\n",
    "df_comb = df_prev.merge(df_cur, on='id', suffixes=['_prev', '_cur'], how='outer')\n",
    "df_comb = df_comb[df_comb['BE_SEGMENT_prev'] != -1]\n",
    "df_comb['be_segment_p1m'] = df_comb['BE_SEGMENT_cur']\n",
    "\n",
    "df_comb['is_affluent_prev'] = (df_comb['BE_SEGMENT_prev'] <= 2).astype(int)\n",
    "df_comb['is_affluent_cur'] = (df_comb['BE_SEGMENT_cur'] <= 2).astype(int)\n",
    "df_comb = df_comb[df_comb['is_affluent_prev'] == 0]"
   ]
  },
  {
   "cell_type": "code",
   "execution_count": 3,
   "id": "5576aaa1",
   "metadata": {},
   "outputs": [],
   "source": [
    "df_reg = df_comb[['id', 'is_affluent_cur']]\n",
    "df_reg = df_reg.drop_duplicates('id')\n",
    "\n",
    "train = pd.read_csv('data/model/train.csv')[['id', 't1']].rename({'t1': 'is_affluent_cur'}, axis=1)\n",
    "val = pd.read_csv('data/model/validate.csv')[['id', 't1']].rename({'t1': 'is_affluent_cur'}, axis=1)\n",
    "test = pd.read_csv('data/model/test.csv')[['id', 't1']].rename({'t1': 'is_affluent_cur'}, axis=1)\n",
    "\n",
    "train_idxs = [np.where(df_reg['id'] == cid)[0][0] for cid in train['id']]\n",
    "val_idxs = [np.where(df_reg['id'] == cid)[0][0] for cid in val['id']]\n",
    "test_idxs = [np.where(df_reg['id'] == cid)[0][0] for cid in test['id']]"
   ]
  },
  {
   "cell_type": "code",
   "execution_count": 4,
   "id": "09cf938b",
   "metadata": {},
   "outputs": [],
   "source": [
    "del df_comb"
   ]
  },
  {
   "cell_type": "markdown",
   "id": "be48ec6b",
   "metadata": {},
   "source": [
    "# Transactions "
   ]
  },
  {
   "cell_type": "code",
   "execution_count": 5,
   "id": "bc51571c",
   "metadata": {},
   "outputs": [],
   "source": [
    "fname = 'data/currentacct_txn.csv'\n",
    "col_date = 'D_TRANSACTION_DATE'\n",
    "col_amt = 'D_TRAN_AMOUNT'\n",
    "col_mult = 'D_TRAN_TYPE'"
   ]
  },
  {
   "cell_type": "code",
   "execution_count": 6,
   "id": "b8f972f6",
   "metadata": {},
   "outputs": [
    {
     "name": "stderr",
     "output_type": "stream",
     "text": [
      "/Library/Frameworks/Python.framework/Versions/3.9/lib/python3.9/site-packages/IPython/core/interactiveshell.py:3169: DtypeWarning: Columns (12) have mixed types.Specify dtype option on import or set low_memory=False.\n",
      "  has_raised = await self.run_ast_nodes(code_ast.body, cell_name,\n"
     ]
    }
   ],
   "source": [
    "df_saving = pd.read_csv(fname)\n",
    "# df_saving = df_saving[~df_saving['PRODUCT_TYPE'].isna()]\n",
    "\n",
    "tmp = set(df_reg['id'])\n",
    "df_saving = df_saving[[cid in tmp for cid in df_saving['id']]]\n",
    "\n",
    "df_saving['day'] = pd.to_datetime(df_saving[col_date])\n",
    "\n",
    "df_saving['transact_d'] = df_saving['transact_c'] = df_saving[col_amt]\n",
    "df_saving.loc[df_saving[col_mult] == 'C', 'transact_d'] = 0\n",
    "df_saving.loc[df_saving[col_mult] == 'D', 'transact_c'] = 0\n",
    "df_saving = df_saving[['id', 'day', 'transact_c', 'transact_d']]"
   ]
  },
  {
   "cell_type": "code",
   "execution_count": 7,
   "id": "930af3e4",
   "metadata": {},
   "outputs": [],
   "source": [
    "placeholders = []\n",
    "for cid in df_reg['id']:\n",
    "    tmp = pd.date_range(start='1/1/2021', end='31/12/2021')\n",
    "    tmp = pd.DataFrame({'day': tmp, 'transact_c': 0, 'transact_d': 0})\n",
    "    tmp.insert(0, 'id', cid)\n",
    "    placeholders.append(tmp)\n",
    "df_saving = df_saving.append(pd.concat(placeholders))\n",
    "\n",
    "df_saving['day'] = (pd.to_datetime(df_saving['day']) \\\n",
    "                       .apply(lambda x: x.value) - pd.to_datetime('1/1/2021').value) // 86400000000000\n",
    "\n",
    "df_saving = df_saving.sort_values(['id', 'day'])\n",
    "df_saving = df_saving.groupby(['id', 'day']).sum().reset_index(drop=False)"
   ]
  },
  {
   "cell_type": "markdown",
   "id": "149d7d8b",
   "metadata": {},
   "source": [
    "### Feature extraction"
   ]
  },
  {
   "cell_type": "code",
   "execution_count": 8,
   "id": "8cd5da3b",
   "metadata": {},
   "outputs": [
    {
     "data": {
      "application/vnd.jupyter.widget-view+json": {
       "model_id": "f6557d63b50b4eb7a96e19d66256c68b",
       "version_major": 2,
       "version_minor": 0
      },
      "text/plain": [
       "  0%|          | 0/5994 [00:00<?, ?it/s]"
      ]
     },
     "metadata": {},
     "output_type": "display_data"
    }
   ],
   "source": [
    "rolling_window = 21\n",
    "\n",
    "dict_rolled = {}\n",
    "for cid in tqdm(df_reg['id']):\n",
    "    df = df_saving[df_saving['id'] == cid][['transact_c', 'transact_d']]\n",
    "    df = df.rolling(window=rolling_window).apply(lambda x : sum(x) / rolling_window)\n",
    "    df = df.dropna()\n",
    "    dict_rolled[cid] = df"
   ]
  },
  {
   "cell_type": "code",
   "execution_count": 9,
   "id": "555d5309",
   "metadata": {},
   "outputs": [
    {
     "data": {
      "text/plain": [
       "(-7.649692623711514,\n",
       " 11.641895637695738,\n",
       " -7.649692623711514,\n",
       " 11.641914268140361)"
      ]
     },
     "execution_count": 9,
     "metadata": {},
     "output_type": "execute_result"
    },
    {
     "data": {
      "image/png": "[encoded data removed]",
      "text/plain": [
       "<Figure size 432x288 with 1 Axes>"
      ]
     },
     "metadata": {
      "needs_background": "light"
     },
     "output_type": "display_data"
    }
   ],
   "source": [
    "tmp = pd.concat(list(dict_rolled.values()))\n",
    "tmp = np.log(tmp.replace({0: 1}))\n",
    "tmp.boxplot()\n",
    "tmp['transact_c'].min(), tmp['transact_c'].max(), tmp['transact_d'].min(), tmp['transact_d'].max()"
   ]
  },
  {
   "cell_type": "code",
   "execution_count": 10,
   "id": "09db8ca1",
   "metadata": {
    "scrolled": true
   },
   "outputs": [
    {
     "data": {
      "application/vnd.jupyter.widget-view+json": {
       "model_id": "cd2fdc2d818541bb9299203424d0d5cf",
       "version_major": 2,
       "version_minor": 0
      },
      "text/plain": [
       "0it [00:00, ?it/s]"
      ]
     },
     "metadata": {},
     "output_type": "display_data"
    }
   ],
   "source": [
    "bin_size = 0.1\n",
    "bin_min, bin_max = -7.9, 11.5\n",
    "bins = [bin_min + i * bin_size for i in range(int((bin_max - bin_min) / bin_size) + 1)]\n",
    "\n",
    "def transacts_to_bins(transacts):\n",
    "    transacts = np.log(transacts.replace({0: 1}))\n",
    "    feat = np.zeros((len(bins)))\n",
    "    tmp = np.digitize(transacts, bins) - 1\n",
    "    tmp = pd.DataFrame(tmp).reset_index(drop=False).groupby(0).count()['index']\n",
    "    feat[tmp.index] = tmp\n",
    "    return feat\n",
    "\n",
    "X = np.zeros((len(df_reg), len(bins) * 2))\n",
    "for i, cid in tqdm(enumerate(df_reg['id'])):\n",
    "    feat_c = transacts_to_bins(dict_rolled[cid]['transact_c'])\n",
    "    feat_d = transacts_to_bins(dict_rolled[cid]['transact_d'])\n",
    "    X[i, :] = np.concatenate([feat_c, feat_d])"
   ]
  },
  {
   "cell_type": "code",
   "execution_count": 11,
   "id": "ff09920f",
   "metadata": {
    "scrolled": true
   },
   "outputs": [
    {
     "data": {
      "text/plain": [
       "array([0.000000e+00, 0.000000e+00, 8.940000e+02, 0.000000e+00,\n",
       "       0.000000e+00, 0.000000e+00, 0.000000e+00, 0.000000e+00,\n",
       "       0.000000e+00, 4.210000e+02, 0.000000e+00, 0.000000e+00,\n",
       "       0.000000e+00, 4.540000e+02, 0.000000e+00, 0.000000e+00,\n",
       "       9.190000e+02, 0.000000e+00, 1.180000e+03, 0.000000e+00,\n",
       "       9.050000e+02, 5.630000e+02, 0.000000e+00, 6.420000e+02,\n",
       "       4.540000e+02, 2.760000e+02, 2.640000e+02, 3.230000e+02,\n",
       "       5.500000e+02, 1.070000e+02, 3.150000e+02, 4.190000e+02,\n",
       "       3.170000e+02, 1.970000e+02, 2.430000e+02, 4.010000e+02,\n",
       "       4.220000e+02, 2.230000e+02, 3.990000e+02, 5.070000e+02,\n",
       "       5.000000e+02, 4.410000e+02, 5.470000e+02, 2.610000e+02,\n",
       "       4.490000e+02, 2.250000e+02, 2.780000e+02, 1.750000e+02,\n",
       "       1.540000e+02, 3.160000e+02, 2.550000e+02, 1.480000e+02,\n",
       "       1.650000e+02, 3.750000e+02, 1.830000e+02, 2.610000e+02,\n",
       "       3.940000e+02, 3.690000e+02, 3.810000e+02, 4.390000e+02,\n",
       "       3.510000e+02, 4.410000e+02, 4.650000e+02, 5.560000e+02,\n",
       "       6.530000e+02, 6.440000e+02, 3.850000e+02, 4.380000e+02,\n",
       "       2.760000e+02, 3.440000e+02, 4.200000e+02, 1.233000e+03,\n",
       "       4.770000e+02, 5.430000e+02, 3.400000e+02, 6.130000e+02,\n",
       "       6.850000e+02, 4.640000e+02, 8.330000e+02, 1.780150e+06,\n",
       "       4.500000e+02, 4.280000e+02, 6.420000e+02, 5.310000e+02,\n",
       "       6.550000e+02, 4.670000e+02, 4.680000e+02, 1.101000e+03,\n",
       "       3.040000e+02, 4.140000e+02, 4.590000e+02, 4.350000e+02,\n",
       "       4.690000e+02, 4.850000e+02, 2.022000e+03, 6.170000e+02,\n",
       "       6.970000e+02, 4.310000e+02, 1.032000e+03, 7.800000e+02,\n",
       "       8.220000e+02, 2.421000e+03, 6.510000e+02, 1.512000e+03,\n",
       "       6.430000e+02, 2.008000e+03, 8.810000e+02, 9.980000e+02,\n",
       "       1.981000e+03, 1.290000e+03, 4.213000e+03, 1.164000e+03,\n",
       "       1.963000e+03, 1.381000e+03, 2.061000e+03, 2.028000e+03,\n",
       "       2.364000e+03, 7.794000e+03, 2.025000e+03, 3.520000e+03,\n",
       "       3.286000e+03, 4.380000e+03, 3.310000e+03, 3.362000e+03,\n",
       "       8.531000e+03, 4.051000e+03, 6.103000e+03, 3.888000e+03,\n",
       "       7.865000e+03, 4.173000e+03, 5.180000e+03, 7.232000e+03,\n",
       "       4.953000e+03, 8.992000e+03, 5.663000e+03, 7.404000e+03,\n",
       "       5.865000e+03, 6.519000e+03, 6.161000e+03, 6.589000e+03,\n",
       "       9.386000e+03, 5.730000e+03, 5.622000e+03, 5.696000e+03,\n",
       "       5.586000e+03, 5.126000e+03, 3.630000e+03, 5.714000e+03,\n",
       "       4.062000e+03, 3.609000e+03, 3.673000e+03, 3.982000e+03,\n",
       "       3.089000e+03, 2.467000e+03, 2.616000e+03, 2.357000e+03,\n",
       "       2.358000e+03, 1.741000e+03, 1.933000e+03, 1.301000e+03,\n",
       "       1.398000e+03, 1.348000e+03, 1.084000e+03, 1.159000e+03,\n",
       "       1.226000e+03, 8.570000e+02, 4.380000e+02, 5.430000e+02,\n",
       "       5.910000e+02, 5.360000e+02, 5.620000e+02, 4.480000e+02,\n",
       "       3.850000e+02, 2.240000e+02, 2.200000e+02, 1.330000e+02,\n",
       "       1.700000e+02, 1.870000e+02, 1.030000e+02, 7.100000e+01,\n",
       "       8.400000e+01, 3.800000e+01, 6.800000e+01, 3.000000e+01,\n",
       "       8.000000e+00, 1.040000e+02, 3.400000e+01, 3.000000e+00,\n",
       "       1.600000e+01, 6.000000e+00, 2.100000e+01, 0.000000e+00,\n",
       "       0.000000e+00, 2.100000e+01, 0.000000e+00, 0.000000e+00,\n",
       "       5.100000e+01, 0.000000e+00, 0.000000e+00, 0.000000e+00,\n",
       "       0.000000e+00, 0.000000e+00, 0.000000e+00, 2.000000e+00,\n",
       "       0.000000e+00, 0.000000e+00, 0.000000e+00, 3.000000e+00,\n",
       "       0.000000e+00, 0.000000e+00, 3.000000e+00, 0.000000e+00,\n",
       "       1.300000e+01, 0.000000e+00, 3.000000e+00, 2.500000e+01,\n",
       "       0.000000e+00, 3.000000e+00, 3.000000e+00, 2.500000e+01,\n",
       "       2.100000e+01, 0.000000e+00, 0.000000e+00, 0.000000e+00,\n",
       "       1.800000e+01, 0.000000e+00, 0.000000e+00, 0.000000e+00,\n",
       "       0.000000e+00, 0.000000e+00, 0.000000e+00, 0.000000e+00,\n",
       "       0.000000e+00, 0.000000e+00, 0.000000e+00, 0.000000e+00,\n",
       "       0.000000e+00, 3.000000e+00, 0.000000e+00, 0.000000e+00,\n",
       "       0.000000e+00, 0.000000e+00, 1.010000e+02, 0.000000e+00,\n",
       "       0.000000e+00, 0.000000e+00, 0.000000e+00, 0.000000e+00,\n",
       "       0.000000e+00, 6.000000e+00, 2.100000e+01, 0.000000e+00,\n",
       "       2.100000e+01, 1.460000e+02, 3.000000e+00, 3.390000e+02,\n",
       "       2.700000e+01, 2.000000e+01, 1.588500e+04, 3.300000e+01,\n",
       "       1.130000e+02, 1.980000e+02, 2.310000e+02, 1.784000e+03,\n",
       "       1.640000e+02, 3.522000e+03, 1.340000e+02, 1.046000e+03,\n",
       "       4.030000e+02, 1.434000e+03, 2.880000e+02, 2.450000e+02,\n",
       "       9.020000e+02, 1.760722e+06, 7.650000e+02, 1.670000e+02,\n",
       "       4.270000e+02, 2.440000e+02, 2.970000e+02, 3.150000e+02,\n",
       "       2.350000e+02, 9.170000e+02, 3.080000e+02, 4.270000e+02,\n",
       "       4.230000e+02, 6.040000e+02, 6.980000e+02, 4.530000e+02,\n",
       "       1.867000e+03, 8.970000e+02, 7.980000e+02, 8.110000e+02,\n",
       "       1.339000e+03, 1.229000e+03, 8.060000e+02, 2.524000e+03,\n",
       "       1.130000e+03, 1.297000e+03, 1.056000e+03, 2.397000e+03,\n",
       "       1.457000e+03, 2.048000e+03, 2.628000e+03, 2.214000e+03,\n",
       "       4.177000e+03, 1.699000e+03, 2.727000e+03, 2.032000e+03,\n",
       "       2.593000e+03, 2.744000e+03, 2.679000e+03, 5.673000e+03,\n",
       "       3.230000e+03, 3.922000e+03, 3.780000e+03, 5.149000e+03,\n",
       "       4.512000e+03, 4.620000e+03, 6.744000e+03, 5.234000e+03,\n",
       "       5.662000e+03, 5.142000e+03, 7.771000e+03, 5.591000e+03,\n",
       "       6.327000e+03, 6.923000e+03, 6.403000e+03, 8.481000e+03,\n",
       "       6.599000e+03, 7.356000e+03, 6.357000e+03, 7.532000e+03,\n",
       "       6.753000e+03, 7.438000e+03, 7.759000e+03, 6.742000e+03,\n",
       "       5.866000e+03, 5.622000e+03, 5.362000e+03, 5.175000e+03,\n",
       "       5.079000e+03, 5.789000e+03, 4.604000e+03, 4.157000e+03,\n",
       "       3.818000e+03, 3.770000e+03, 3.025000e+03, 2.786000e+03,\n",
       "       2.896000e+03, 2.311000e+03, 2.389000e+03, 1.993000e+03,\n",
       "       1.911000e+03, 1.610000e+03, 1.461000e+03, 1.267000e+03,\n",
       "       1.131000e+03, 1.202000e+03, 9.100000e+02, 7.340000e+02,\n",
       "       4.230000e+02, 4.410000e+02, 3.990000e+02, 3.110000e+02,\n",
       "       6.140000e+02, 2.350000e+02, 2.790000e+02, 1.690000e+02,\n",
       "       2.540000e+02, 1.460000e+02, 1.380000e+02, 1.480000e+02,\n",
       "       8.000000e+01, 7.300000e+01, 1.500000e+01, 1.500000e+01,\n",
       "       3.000000e+01, 3.500000e+01, 1.400000e+01, 4.000000e+01,\n",
       "       7.200000e+01, 3.000000e+00, 1.300000e+01, 2.000000e+00,\n",
       "       2.000000e+00, 0.000000e+00, 1.000000e+00, 2.000000e+01])"
      ]
     },
     "execution_count": 11,
     "metadata": {},
     "output_type": "execute_result"
    }
   ],
   "source": [
    "X.sum(axis=0)"
   ]
  },
  {
   "cell_type": "markdown",
   "id": "1a9aa4c1",
   "metadata": {},
   "source": [
    "### Modelling (SVM)"
   ]
  },
  {
   "cell_type": "code",
   "execution_count": 12,
   "id": "48b9f368",
   "metadata": {},
   "outputs": [],
   "source": [
    "from sklearn.pipeline import make_pipeline\n",
    "from sklearn.preprocessing import StandardScaler\n",
    "from sklearn.svm import SVC\n",
    "from sklearn.model_selection import cross_val_score\n",
    "from sklearn.metrics import (\n",
    "    confusion_matrix, roc_curve, \n",
    "    precision_recall_fscore_support, plot_roc_curve, roc_auc_score\n",
    ")\n",
    "\n",
    "y = df_reg['is_affluent_cur']\n",
    "\n",
    "X_train = X[train_idxs, :]\n",
    "y_train = np.array(y)[train_idxs]\n",
    "X_val = X[val_idxs, :]\n",
    "y_val = np.array(y)[val_idxs]\n",
    "X_test = X[test_idxs, :]\n",
    "y_test = np.array(y)[test_idxs]"
   ]
  },
  {
   "cell_type": "code",
   "execution_count": 13,
   "id": "04513fce",
   "metadata": {},
   "outputs": [
    {
     "data": {
      "text/plain": [
       "Pipeline(steps=[('standardscaler', StandardScaler()),\n",
       "                ('svc', SVC(gamma='auto', probability=True))])"
      ]
     },
     "execution_count": 13,
     "metadata": {},
     "output_type": "execute_result"
    }
   ],
   "source": [
    "svm = make_pipeline(StandardScaler(), SVC(gamma='auto', probability=True))\n",
    "svm.fit(X_train, y_train)"
   ]
  },
  {
   "cell_type": "code",
   "execution_count": 14,
   "id": "5d2a30dd",
   "metadata": {},
   "outputs": [],
   "source": [
    "pred_probs = svm.predict_proba(X_val)"
   ]
  },
  {
   "cell_type": "code",
   "execution_count": 15,
   "id": "08e1ef0b",
   "metadata": {},
   "outputs": [
    {
     "name": "stdout",
     "output_type": "stream",
     "text": [
      "0.9329844006568143 0.8611111111111112 0.8923587279798672\n"
     ]
    },
    {
     "data": {
      "text/plain": [
       "array([[760,  24],\n",
       "       [101,  15]])"
      ]
     },
     "execution_count": 15,
     "metadata": {},
     "output_type": "execute_result"
    }
   ],
   "source": [
    "pred = (pred_probs[:, 0] < 0.955).astype(int)\n",
    "\n",
    "precision, recall, f1, _ = precision_recall_fscore_support(y_val, pred, average='weighted')\n",
    "print(precision, recall, f1)\n",
    "confusion_matrix(pred, y_val)"
   ]
  },
  {
   "cell_type": "code",
   "execution_count": 16,
   "id": "9ed3ea7f",
   "metadata": {
    "scrolled": true
   },
   "outputs": [
    {
     "data": {
      "text/plain": [
       "0.6434974239852288"
      ]
     },
     "execution_count": 16,
     "metadata": {},
     "output_type": "execute_result"
    },
    {
     "data": {
      "image/png": "[encoded data removed]",
      "text/plain": [
       "<Figure size 432x288 with 1 Axes>"
      ]
     },
     "metadata": {
      "needs_background": "light"
     },
     "output_type": "display_data"
    }
   ],
   "source": [
    "plot_roc_curve(svm, X_val, y_val)\n",
    "roc_auc_score(y_val, pred_probs[:, 1])"
   ]
  },
  {
   "cell_type": "markdown",
   "id": "dde825e5",
   "metadata": {},
   "source": [
    "Hyperparameters and result:\n",
    "```\n",
    "rolling_window = 21\n",
    "bin_size = 0.1\n",
    "bin_min, bin_max = -7.9, 11.5\n",
    "auc = 0.64/0.65\n",
    "```"
   ]
  }
 ],
 "metadata": {
  "kernelspec": {
   "display_name": "Python 3",
   "language": "python",
   "name": "python3"
  },
  "language_info": {
   "codemirror_mode": {
    "name": "ipython",
    "version": 3
   },
   "file_extension": ".py",
   "mimetype": "text/x-python",
   "name": "python",
   "nbconvert_exporter": "python",
   "pygments_lexer": "ipython3",
   "version": "3.9.5"
  }
 },
 "nbformat": 4,
 "nbformat_minor": 5
}
