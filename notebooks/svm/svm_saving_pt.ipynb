{
 "cells": [
  {
   "cell_type": "code",
   "execution_count": 318,
   "id": "0a3a0e3f",
   "metadata": {},
   "outputs": [],
   "source": [
    "import os\n",
    "import math\n",
    "import pandas as pd\n",
    "import numpy as np\n",
    "import matplotlib.pyplot as plt\n",
    "from tqdm.notebook import tqdm\n",
    "\n",
    "from sklearn.pipeline import make_pipeline\n",
    "from sklearn.preprocessing import StandardScaler\n",
    "from sklearn.svm import SVC\n",
    "from sklearn.model_selection import cross_val_score\n",
    "from sklearn.metrics import (\n",
    "    confusion_matrix, roc_curve, \n",
    "    precision_recall_fscore_support, plot_roc_curve, roc_auc_score\n",
    ")\n",
    "\n",
    "import plotly.express as px"
   ]
  },
  {
   "cell_type": "code",
   "execution_count": 319,
   "id": "d8c5664e",
   "metadata": {},
   "outputs": [],
   "source": [
    "data_dir = '../../data'"
   ]
  },
  {
   "cell_type": "code",
   "execution_count": 320,
   "id": "5576aaa1",
   "metadata": {},
   "outputs": [],
   "source": [
    "df_reg = pd.read_csv(os.path.join(data_dir, 'model/full.csv'))\n",
    "train = pd.read_csv(os.path.join(data_dir, 'model/train.csv'))\n",
    "val = pd.read_csv(os.path.join(data_dir, 'model/validate.csv'))\n",
    "test = pd.read_csv(os.path.join(data_dir, 'model/test.csv'))\n",
    "\n",
    "train_idxs = [np.where(df_reg['id'] == cid)[0][0] for cid in train['id']]\n",
    "val_idxs = [np.where(df_reg['id'] == cid)[0][0] for cid in val['id']]\n",
    "test_idxs = [np.where(df_reg['id'] == cid)[0][0] for cid in test['id']]"
   ]
  },
  {
   "cell_type": "markdown",
   "id": "be48ec6b",
   "metadata": {},
   "source": [
    "# Transactions "
   ]
  },
  {
   "cell_type": "code",
   "execution_count": 321,
   "id": "bc51571c",
   "metadata": {},
   "outputs": [],
   "source": [
    "fname = '../../data/main/savingacct_txn.csv'\n",
    "col_date = 'D_TRANSACTION_DATE'\n",
    "col_amt = 'D_TRAN_AMOUNT'\n",
    "col_mult = 'D_TRAN_TYPE'"
   ]
  },
  {
   "cell_type": "code",
   "execution_count": 322,
   "id": "b8f972f6",
   "metadata": {},
   "outputs": [
    {
     "name": "stderr",
     "output_type": "stream",
     "text": [
      "/Library/Frameworks/Python.framework/Versions/3.9/lib/python3.9/site-packages/IPython/core/interactiveshell.py:3169: DtypeWarning:\n",
      "\n",
      "Columns (14) have mixed types.Specify dtype option on import or set low_memory=False.\n",
      "\n"
     ]
    }
   ],
   "source": [
    "# reading and basic preprocessing\n",
    "df_trans = pd.read_csv(fname)\n",
    "df_trans = df_trans[df_trans['id'].isin(df_reg['id'])]\n",
    "\n",
    "df_trans['date'] = pd.to_datetime(df_trans[col_date])\n",
    "df_trans['transact_d'] = df_trans['transact_c'] = df_trans[col_amt]\n",
    "df_trans.loc[df_trans[col_mult] == 'C', 'transact_d'] = 0\n",
    "df_trans.loc[df_trans[col_mult] == 'D', 'transact_c'] = 0\n",
    "df_trans = df_trans[['id', 'date', 'transact_c', 'transact_d']]"
   ]
  },
  {
   "cell_type": "code",
   "execution_count": 323,
   "id": "ce8a53dc",
   "metadata": {},
   "outputs": [],
   "source": [
    "# summarise sum by id and day\n",
    "df_fillers = pd.DataFrame({\n",
    "    'id': np.tile(df_reg['id'], 365),\n",
    "    'date': np.repeat(pd.date_range(start='1/1/2021', end='31/12/2021'), len(df_reg['id'])),\n",
    "    'transact_c': 0, \n",
    "    'transact_d': 0\n",
    "})\n",
    "df_trans = df_trans.append(df_fillers)\n",
    "\n",
    "df_trans['day'] = (pd.to_datetime(df_trans['date']) \\\n",
    "                    .apply(lambda x: x.value) - pd.to_datetime('1/1/2021').value) // 86400000000000\n",
    "\n",
    "df_trans = df_trans.sort_values(['id', 'day'])\n",
    "df_trans = df_trans.groupby(['id', 'day']).sum().reset_index(drop=False)\n",
    "df_trans = df_trans.set_index('id')"
   ]
  },
  {
   "cell_type": "markdown",
   "id": "149d7d8b",
   "metadata": {},
   "source": [
    "### Feature extraction"
   ]
  },
  {
   "cell_type": "code",
   "execution_count": 324,
   "id": "9ac423e2",
   "metadata": {},
   "outputs": [
    {
     "data": {
      "application/vnd.jupyter.widget-view+json": {
       "model_id": "79b2bef5624a4da695ce69fbbe8e70e8",
       "version_major": 2,
       "version_minor": 0
      },
      "text/plain": [
       "  0%|          | 0/5994 [00:00<?, ?it/s]"
      ]
     },
     "metadata": {},
     "output_type": "display_data"
    }
   ],
   "source": [
    "# roll data by id\n",
    "rolling_window = 14\n",
    "\n",
    "dict_rolled = {}\n",
    "for cid in tqdm(df_reg['id']):\n",
    "    df = df_trans.loc[cid, ][['transact_c', 'transact_d']]\n",
    "    df = df.rolling(window=rolling_window).apply(lambda x : sum(x) / rolling_window)\n",
    "    df = df.dropna().reset_index(drop=True)\n",
    "    dict_rolled[cid] = df"
   ]
  },
  {
   "cell_type": "code",
   "execution_count": 325,
   "id": "bff28f9a",
   "metadata": {},
   "outputs": [
    {
     "data": {
      "image/png": "[encoded data removed]",
      "text/plain": [
       "<Figure size 432x288 with 1 Axes>"
      ]
     },
     "metadata": {
      "needs_background": "light"
     },
     "output_type": "display_data"
    }
   ],
   "source": [
    "# combine rolled dfs to check dist, min, max\n",
    "df_rolled_full = pd.concat(list(dict_rolled.values()))\n",
    "df_rolled_full = np.log(df_rolled_full.replace({0: 1}))\n",
    "_ = df_rolled_full.boxplot()"
   ]
  },
  {
   "cell_type": "code",
   "execution_count": 326,
   "id": "42393a5b",
   "metadata": {},
   "outputs": [
    {
     "data": {
      "image/png": "[encoded data removed]",
      "text/plain": [
       "<Figure size 432x288 with 1 Axes>"
      ]
     },
     "metadata": {
      "needs_background": "light"
     },
     "output_type": "display_data"
    }
   ],
   "source": [
    "# rolled diff\n",
    "df_rolled_diff = pd.concat(list(dict_rolled.values()))\n",
    "df_rolled_diff = df_rolled_diff.diff(1)\n",
    "_ = df_rolled_diff.boxplot()"
   ]
  },
  {
   "cell_type": "code",
   "execution_count": 402,
   "id": "dd86029f",
   "metadata": {},
   "outputs": [],
   "source": [
    "def log_transform(array):\n",
    "    return np.log(array.replace({0: 1}))\n",
    "\n",
    "def transacts_to_bins(transacts, bins, log=False):\n",
    "    if log:\n",
    "        transacts = log_transform(transacts)\n",
    "    feat = np.zeros((len(bins)))\n",
    "    tmp = np.digitize(transacts, bins) - 1\n",
    "    tmp = pd.DataFrame(tmp).reset_index(drop=False).groupby(0).count()['index']\n",
    "    feat[tmp.index] = tmp\n",
    "    return feat\n",
    "\n",
    "def get_diff(transacts):\n",
    "    transacts = transacts.diff(1).dropna()\n",
    "    transacts = transacts[transacts != 0]\n",
    "    return transacts\n",
    "\n",
    "def get_features(df, bins):\n",
    "    feat_c = transacts_to_bins(df['transact_c'], bins['transact_c'], log=True)\n",
    "    feat_d = transacts_to_bins(df['transact_d'], bins['transact_d'], log=True)\n",
    "#     feat_c_diff = transacts_to_bins(get_diff(df['transact_c']), bins['transact_c_diff'])\n",
    "#     feat_d_diff = transacts_to_bins(get_diff(df['transact_c']), bins['transact_d_diff'])\n",
    "    \n",
    "    meta = [('transact_c', len(feat_c)), ('transact_d', len(feat_d))]\n",
    "#     return np.concatenate([feat_c, feat_d, feat_c_diff, feat_d_diff]), meta\n",
    "#     return np.concatenate([feat_c_diff, feat_d_diff]), meta\n",
    "    return np.concatenate([feat_c, feat_d]), meta\n",
    "        "
   ]
  },
  {
   "cell_type": "markdown",
   "id": "4bb61280",
   "metadata": {},
   "source": [
    "Main feature extraction"
   ]
  },
  {
   "cell_type": "code",
   "execution_count": 397,
   "id": "91ae5a99",
   "metadata": {},
   "outputs": [],
   "source": [
    "nbins = 59\n",
    "bins = {\n",
    "    'transact_c': np.linspace(\n",
    "        df_rolled_full['transact_c'].min(), \n",
    "        df_rolled_full['transact_c'].max(), \n",
    "        nbins\n",
    "    ),\n",
    "    'transact_d': np.linspace(\n",
    "        df_rolled_full['transact_d'].min(), \n",
    "        df_rolled_full['transact_d'].max(), \n",
    "        nbins\n",
    "    ),\n",
    "#     'transact_c_diff': np.linspace(\n",
    "#         df_rolled_diff['transact_c'].min(), \n",
    "#         df_rolled_diff['transact_c'].max(), \n",
    "#         nbins\n",
    "#     ),\n",
    "#     'transact_d_diff': np.linspace(\n",
    "#         df_rolled_diff['transact_d'].min(), \n",
    "#         df_rolled_diff['transact_d'].max(), \n",
    "#         nbins\n",
    "#     )\n",
    "}\n",
    "\n",
    "X = np.zeros((len(df_reg), sum([len(bins[x]) for x in bins])))\n",
    "for i, cid in tqdm(enumerate(df_reg['id'])):\n",
    "    feat, meta = get_features(dict_rolled[cid], bins)\n",
    "    X[i, :] = feat\n",
    "\n",
    "# # remove features with all 0s\n",
    "# X = X[:, X.sum(axis=0) != 0]\n",
    "# X.shape"
   ]
  },
  {
   "cell_type": "markdown",
   "id": "f1812482",
   "metadata": {},
   "source": [
    "Visualisation"
   ]
  },
  {
   "cell_type": "code",
   "execution_count": 403,
   "id": "267e02ba",
   "metadata": {},
   "outputs": [
    {
     "data": {
      "application/vnd.jupyter.widget-view+json": {
       "model_id": "b0da17471d534c2ebbe9786ff23a7968",
       "version_major": 2,
       "version_minor": 0
      },
      "text/plain": [
       "0it [00:00, ?it/s]"
      ]
     },
     "metadata": {},
     "output_type": "display_data"
    }
   ],
   "source": [
    "nbins = 30\n",
    "bins = {\n",
    "    'transact_c': np.linspace(\n",
    "        df_rolled_full['transact_c'].min(), \n",
    "        df_rolled_full['transact_c'].max(), \n",
    "        nbins\n",
    "    ),\n",
    "    'transact_d': np.linspace(\n",
    "        df_rolled_full['transact_d'].min(), \n",
    "        df_rolled_full['transact_d'].max(), \n",
    "        nbins\n",
    "    ),\n",
    "#     'transact_c_diff': np.linspace(\n",
    "#         df_rolled_diff['transact_c'].min(), \n",
    "#         df_rolled_diff['transact_c'].max(), \n",
    "#         nbins\n",
    "#     ),\n",
    "#     'transact_d_diff': np.linspace(\n",
    "#         df_rolled_diff['transact_d'].min(), \n",
    "#         df_rolled_diff['transact_d'].max(), \n",
    "#         nbins\n",
    "#     )\n",
    "}\n",
    "X = np.zeros((len(df_reg), sum([len(bins[x]) for x in bins])))\n",
    "for i, cid in tqdm(enumerate(df_reg['id'])):\n",
    "    feat, meta = get_features(dict_rolled[cid], bins)\n",
    "    X[i, :] = feat\n",
    "    \n",
    "colnames = []\n",
    "for col, n in meta:\n",
    "    for i in range(n):\n",
    "        colnames.append(col + str(i))"
   ]
  },
  {
   "cell_type": "code",
   "execution_count": 406,
   "id": "bf09f445",
   "metadata": {},
   "outputs": [],
   "source": [
    "col = 'transact_d'\n",
    "\n",
    "df_X = pd.DataFrame(X)\n",
    "df_X.columns = colnames\n",
    "df_X['y'] = y\n",
    "df_X = df_X.melt('y', colnames, var_name=col)\n",
    "df_X[col] = df_X[col].str.extract('([0-9]+)').astype(int)"
   ]
  },
  {
   "cell_type": "code",
   "execution_count": 408,
   "id": "2b2eddab",
   "metadata": {},
   "outputs": [
    {
     "data": {
      "application/vnd.plotly.v1+json": {
       "config": {
        "plotlyServerURL": "https://plot.ly"
       },
       "data": [
        {
         "hovertemplate": "y=0<br>amount=%{x}<br>value=%{y}<extra></extra>",
         "legendgroup": "0",
         "line": {
          "color": "#636efa",
          "dash": "solid",
          "shape": "spline"
         },
         "mode": "lines",
         "name": "0",
         "orientation": "v",
         "showlegend": true,
         "type": "scatter",
         "x": [
          0.0007142857142857144,
          0.0013567741313533545,
          0.0025771704609135067,
          0.004895293498837625,
          0.009298530618447197,
          0.01766240812378877,
          0.03354945781566669,
          0.063726651079318,
          0.12104774032707998,
          0.22992821982838443,
          0.43674492502379114,
          0.8295899027809953,
          1.5757925676152778,
          2.9931924289670033,
          5.685520480899199,
          10.799553956469202,
          20.513577613609055,
          38.96520802671565,
          74.01378078282981,
          140.58797638172211,
          267.0445813476516,
          507.24685184681135,
          963.5071695146535,
          1830.1662441593621,
          3476.371102612166,
          6603.310536211932,
          12542.881283555555,
          23824.999601430063,
          45255.200394214,
          85961.51928571434
         ],
         "xaxis": "x",
         "y": [
          0,
          0,
          0,
          0,
          0,
          0,
          0,
          0,
          0,
          0,
          0,
          0,
          1.3649119748997733,
          2.312881296845041,
          4.303381558305735,
          5.671431061530416,
          10.670298065190867,
          15.304253093951543,
          17.8393759804776,
          23.60894195572599,
          22.327261635000873,
          16.760676311661147,
          8.735314624368137,
          4.198361512985882,
          1.9461390970890708,
          0.7666027540526408,
          0.2217186682935332,
          0.08497472546627156,
          0.008802510022659927,
          0.0002614606937423741
         ],
         "yaxis": "y"
        },
        {
         "hovertemplate": "y=1<br>amount=%{x}<br>value=%{y}<extra></extra>",
         "legendgroup": "1",
         "line": {
          "color": "#EF553B",
          "dash": "solid",
          "shape": "spline"
         },
         "mode": "lines",
         "name": "1",
         "orientation": "v",
         "showlegend": true,
         "type": "scatter",
         "x": [
          0.0007142857142857144,
          0.0013567741313533545,
          0.0025771704609135067,
          0.004895293498837625,
          0.009298530618447197,
          0.01766240812378877,
          0.03354945781566669,
          0.063726651079318,
          0.12104774032707998,
          0.22992821982838443,
          0.43674492502379114,
          0.8295899027809953,
          1.5757925676152778,
          2.9931924289670033,
          5.685520480899199,
          10.799553956469202,
          20.513577613609055,
          38.96520802671565,
          74.01378078282981,
          140.58797638172211,
          267.0445813476516,
          507.24685184681135,
          963.5071695146535,
          1830.1662441593621,
          3476.371102612166,
          6603.310536211932,
          12542.881283555555,
          23824.999601430063,
          45255.200394214,
          85961.51928571434
         ],
         "xaxis": "x",
         "y": [
          0,
          0,
          0,
          0,
          0,
          0,
          0,
          0,
          0,
          0,
          0,
          0,
          1.4941634241245136,
          1.727626459143969,
          3.3443579766536966,
          4.8501945525291825,
          7.13035019455253,
          9.060311284046692,
          10.334630350194553,
          15.933852140077821,
          19.904669260700388,
          21.519455252918288,
          14.527237354085603,
          12.231517509727626,
          7.429961089494164,
          4.560311284046692,
          1.828793774319066,
          0.6595330739299611,
          0.08560311284046693,
          0
         ],
         "yaxis": "y"
        }
       ],
       "layout": {
        "legend": {
         "title": {
          "text": "y"
         },
         "tracegroupgap": 0
        },
        "margin": {
         "t": 60
        },
        "template": {
         "data": {
          "bar": [
           {
            "error_x": {
             "color": "#2a3f5f"
            },
            "error_y": {
             "color": "#2a3f5f"
            },
            "marker": {
             "line": {
              "color": "#E5ECF6",
              "width": 0.5
             },
             "pattern": {
              "fillmode": "overlay",
              "size": 10,
              "solidity": 0.2
             }
            },
            "type": "bar"
           }
          ],
          "barpolar": [
           {
            "marker": {
             "line": {
              "color": "#E5ECF6",
              "width": 0.5
             },
             "pattern": {
              "fillmode": "overlay",
              "size": 10,
              "solidity": 0.2
             }
            },
            "type": "barpolar"
           }
          ],
          "carpet": [
           {
            "aaxis": {
             "endlinecolor": "#2a3f5f",
             "gridcolor": "white",
             "linecolor": "white",
             "minorgridcolor": "white",
             "startlinecolor": "#2a3f5f"
            },
            "baxis": {
             "endlinecolor": "#2a3f5f",
             "gridcolor": "white",
             "linecolor": "white",
             "minorgridcolor": "white",
             "startlinecolor": "#2a3f5f"
            },
            "type": "carpet"
           }
          ],
          "choropleth": [
           {
            "colorbar": {
             "outlinewidth": 0,
             "ticks": ""
            },
            "type": "choropleth"
           }
          ],
          "contour": [
           {
            "colorbar": {
             "outlinewidth": 0,
             "ticks": ""
            },
            "colorscale": [
             [
              0,
              "#0d0887"
             ],
             [
              0.1111111111111111,
              "#46039f"
             ],
             [
              0.2222222222222222,
              "#7201a8"
             ],
             [
              0.3333333333333333,
              "#9c179e"
             ],
             [
              0.4444444444444444,
              "#bd3786"
             ],
             [
              0.5555555555555556,
              "#d8576b"
             ],
             [
              0.6666666666666666,
              "#ed7953"
             ],
             [
              0.7777777777777778,
              "#fb9f3a"
             ],
             [
              0.8888888888888888,
              "#fdca26"
             ],
             [
              1,
              "#f0f921"
             ]
            ],
            "type": "contour"
           }
          ],
          "contourcarpet": [
           {
            "colorbar": {
             "outlinewidth": 0,
             "ticks": ""
            },
            "type": "contourcarpet"
           }
          ],
          "heatmap": [
           {
            "colorbar": {
             "outlinewidth": 0,
             "ticks": ""
            },
            "colorscale": [
             [
              0,
              "#0d0887"
             ],
             [
              0.1111111111111111,
              "#46039f"
             ],
             [
              0.2222222222222222,
              "#7201a8"
             ],
             [
              0.3333333333333333,
              "#9c179e"
             ],
             [
              0.4444444444444444,
              "#bd3786"
             ],
             [
              0.5555555555555556,
              "#d8576b"
             ],
             [
              0.6666666666666666,
              "#ed7953"
             ],
             [
              0.7777777777777778,
              "#fb9f3a"
             ],
             [
              0.8888888888888888,
              "#fdca26"
             ],
             [
              1,
              "#f0f921"
             ]
            ],
            "type": "heatmap"
           }
          ],
          "heatmapgl": [
           {
            "colorbar": {
             "outlinewidth": 0,
             "ticks": ""
            },
            "colorscale": [
             [
              0,
              "#0d0887"
             ],
             [
              0.1111111111111111,
              "#46039f"
             ],
             [
              0.2222222222222222,
              "#7201a8"
             ],
             [
              0.3333333333333333,
              "#9c179e"
             ],
             [
              0.4444444444444444,
              "#bd3786"
             ],
             [
              0.5555555555555556,
              "#d8576b"
             ],
             [
              0.6666666666666666,
              "#ed7953"
             ],
             [
              0.7777777777777778,
              "#fb9f3a"
             ],
             [
              0.8888888888888888,
              "#fdca26"
             ],
             [
              1,
              "#f0f921"
             ]
            ],
            "type": "heatmapgl"
           }
          ],
          "histogram": [
           {
            "marker": {
             "pattern": {
              "fillmode": "overlay",
              "size": 10,
              "solidity": 0.2
             }
            },
            "type": "histogram"
           }
          ],
          "histogram2d": [
           {
            "colorbar": {
             "outlinewidth": 0,
             "ticks": ""
            },
            "colorscale": [
             [
              0,
              "#0d0887"
             ],
             [
              0.1111111111111111,
              "#46039f"
             ],
             [
              0.2222222222222222,
              "#7201a8"
             ],
             [
              0.3333333333333333,
              "#9c179e"
             ],
             [
              0.4444444444444444,
              "#bd3786"
             ],
             [
              0.5555555555555556,
              "#d8576b"
             ],
             [
              0.6666666666666666,
              "#ed7953"
             ],
             [
              0.7777777777777778,
              "#fb9f3a"
             ],
             [
              0.8888888888888888,
              "#fdca26"
             ],
             [
              1,
              "#f0f921"
             ]
            ],
            "type": "histogram2d"
           }
          ],
          "histogram2dcontour": [
           {
            "colorbar": {
             "outlinewidth": 0,
             "ticks": ""
            },
            "colorscale": [
             [
              0,
              "#0d0887"
             ],
             [
              0.1111111111111111,
              "#46039f"
             ],
             [
              0.2222222222222222,
              "#7201a8"
             ],
             [
              0.3333333333333333,
              "#9c179e"
             ],
             [
              0.4444444444444444,
              "#bd3786"
             ],
             [
              0.5555555555555556,
              "#d8576b"
             ],
             [
              0.6666666666666666,
              "#ed7953"
             ],
             [
              0.7777777777777778,
              "#fb9f3a"
             ],
             [
              0.8888888888888888,
              "#fdca26"
             ],
             [
              1,
              "#f0f921"
             ]
            ],
            "type": "histogram2dcontour"
           }
          ],
          "mesh3d": [
           {
            "colorbar": {
             "outlinewidth": 0,
             "ticks": ""
            },
            "type": "mesh3d"
           }
          ],
          "parcoords": [
           {
            "line": {
             "colorbar": {
              "outlinewidth": 0,
              "ticks": ""
             }
            },
            "type": "parcoords"
           }
          ],
          "pie": [
           {
            "automargin": true,
            "type": "pie"
           }
          ],
          "scatter": [
           {
            "marker": {
             "colorbar": {
              "outlinewidth": 0,
              "ticks": ""
             }
            },
            "type": "scatter"
           }
          ],
          "scatter3d": [
           {
            "line": {
             "colorbar": {
              "outlinewidth": 0,
              "ticks": ""
             }
            },
            "marker": {
             "colorbar": {
              "outlinewidth": 0,
              "ticks": ""
             }
            },
            "type": "scatter3d"
           }
          ],
          "scattercarpet": [
           {
            "marker": {
             "colorbar": {
              "outlinewidth": 0,
              "ticks": ""
             }
            },
            "type": "scattercarpet"
           }
          ],
          "scattergeo": [
           {
            "marker": {
             "colorbar": {
              "outlinewidth": 0,
              "ticks": ""
             }
            },
            "type": "scattergeo"
           }
          ],
          "scattergl": [
           {
            "marker": {
             "colorbar": {
              "outlinewidth": 0,
              "ticks": ""
             }
            },
            "type": "scattergl"
           }
          ],
          "scattermapbox": [
           {
            "marker": {
             "colorbar": {
              "outlinewidth": 0,
              "ticks": ""
             }
            },
            "type": "scattermapbox"
           }
          ],
          "scatterpolar": [
           {
            "marker": {
             "colorbar": {
              "outlinewidth": 0,
              "ticks": ""
             }
            },
            "type": "scatterpolar"
           }
          ],
          "scatterpolargl": [
           {
            "marker": {
             "colorbar": {
              "outlinewidth": 0,
              "ticks": ""
             }
            },
            "type": "scatterpolargl"
           }
          ],
          "scatterternary": [
           {
            "marker": {
             "colorbar": {
              "outlinewidth": 0,
              "ticks": ""
             }
            },
            "type": "scatterternary"
           }
          ],
          "surface": [
           {
            "colorbar": {
             "outlinewidth": 0,
             "ticks": ""
            },
            "colorscale": [
             [
              0,
              "#0d0887"
             ],
             [
              0.1111111111111111,
              "#46039f"
             ],
             [
              0.2222222222222222,
              "#7201a8"
             ],
             [
              0.3333333333333333,
              "#9c179e"
             ],
             [
              0.4444444444444444,
              "#bd3786"
             ],
             [
              0.5555555555555556,
              "#d8576b"
             ],
             [
              0.6666666666666666,
              "#ed7953"
             ],
             [
              0.7777777777777778,
              "#fb9f3a"
             ],
             [
              0.8888888888888888,
              "#fdca26"
             ],
             [
              1,
              "#f0f921"
             ]
            ],
            "type": "surface"
           }
          ],
          "table": [
           {
            "cells": {
             "fill": {
              "color": "#EBF0F8"
             },
             "line": {
              "color": "white"
             }
            },
            "header": {
             "fill": {
              "color": "#C8D4E3"
             },
             "line": {
              "color": "white"
             }
            },
            "type": "table"
           }
          ]
         },
         "layout": {
          "annotationdefaults": {
           "arrowcolor": "#2a3f5f",
           "arrowhead": 0,
           "arrowwidth": 1
          },
          "autotypenumbers": "strict",
          "coloraxis": {
           "colorbar": {
            "outlinewidth": 0,
            "ticks": ""
           }
          },
          "colorscale": {
           "diverging": [
            [
             0,
             "#8e0152"
            ],
            [
             0.1,
             "#c51b7d"
            ],
            [
             0.2,
             "#de77ae"
            ],
            [
             0.3,
             "#f1b6da"
            ],
            [
             0.4,
             "#fde0ef"
            ],
            [
             0.5,
             "#f7f7f7"
            ],
            [
             0.6,
             "#e6f5d0"
            ],
            [
             0.7,
             "#b8e186"
            ],
            [
             0.8,
             "#7fbc41"
            ],
            [
             0.9,
             "#4d9221"
            ],
            [
             1,
             "#276419"
            ]
           ],
           "sequential": [
            [
             0,
             "#0d0887"
            ],
            [
             0.1111111111111111,
             "#46039f"
            ],
            [
             0.2222222222222222,
             "#7201a8"
            ],
            [
             0.3333333333333333,
             "#9c179e"
            ],
            [
             0.4444444444444444,
             "#bd3786"
            ],
            [
             0.5555555555555556,
             "#d8576b"
            ],
            [
             0.6666666666666666,
             "#ed7953"
            ],
            [
             0.7777777777777778,
             "#fb9f3a"
            ],
            [
             0.8888888888888888,
             "#fdca26"
            ],
            [
             1,
             "#f0f921"
            ]
           ],
           "sequentialminus": [
            [
             0,
             "#0d0887"
            ],
            [
             0.1111111111111111,
             "#46039f"
            ],
            [
             0.2222222222222222,
             "#7201a8"
            ],
            [
             0.3333333333333333,
             "#9c179e"
            ],
            [
             0.4444444444444444,
             "#bd3786"
            ],
            [
             0.5555555555555556,
             "#d8576b"
            ],
            [
             0.6666666666666666,
             "#ed7953"
            ],
            [
             0.7777777777777778,
             "#fb9f3a"
            ],
            [
             0.8888888888888888,
             "#fdca26"
            ],
            [
             1,
             "#f0f921"
            ]
           ]
          },
          "colorway": [
           "#636efa",
           "#EF553B",
           "#00cc96",
           "#ab63fa",
           "#FFA15A",
           "#19d3f3",
           "#FF6692",
           "#B6E880",
           "#FF97FF",
           "#FECB52"
          ],
          "font": {
           "color": "#2a3f5f"
          },
          "geo": {
           "bgcolor": "white",
           "lakecolor": "white",
           "landcolor": "#E5ECF6",
           "showlakes": true,
           "showland": true,
           "subunitcolor": "white"
          },
          "hoverlabel": {
           "align": "left"
          },
          "hovermode": "closest",
          "mapbox": {
           "style": "light"
          },
          "paper_bgcolor": "white",
          "plot_bgcolor": "#E5ECF6",
          "polar": {
           "angularaxis": {
            "gridcolor": "white",
            "linecolor": "white",
            "ticks": ""
           },
           "bgcolor": "#E5ECF6",
           "radialaxis": {
            "gridcolor": "white",
            "linecolor": "white",
            "ticks": ""
           }
          },
          "scene": {
           "xaxis": {
            "backgroundcolor": "#E5ECF6",
            "gridcolor": "white",
            "gridwidth": 2,
            "linecolor": "white",
            "showbackground": true,
            "ticks": "",
            "zerolinecolor": "white"
           },
           "yaxis": {
            "backgroundcolor": "#E5ECF6",
            "gridcolor": "white",
            "gridwidth": 2,
            "linecolor": "white",
            "showbackground": true,
            "ticks": "",
            "zerolinecolor": "white"
           },
           "zaxis": {
            "backgroundcolor": "#E5ECF6",
            "gridcolor": "white",
            "gridwidth": 2,
            "linecolor": "white",
            "showbackground": true,
            "ticks": "",
            "zerolinecolor": "white"
           }
          },
          "shapedefaults": {
           "line": {
            "color": "#2a3f5f"
           }
          },
          "ternary": {
           "aaxis": {
            "gridcolor": "white",
            "linecolor": "white",
            "ticks": ""
           },
           "baxis": {
            "gridcolor": "white",
            "linecolor": "white",
            "ticks": ""
           },
           "bgcolor": "#E5ECF6",
           "caxis": {
            "gridcolor": "white",
            "linecolor": "white",
            "ticks": ""
           }
          },
          "title": {
           "x": 0.05
          },
          "xaxis": {
           "automargin": true,
           "gridcolor": "white",
           "linecolor": "white",
           "ticks": "",
           "title": {
            "standoff": 15
           },
           "zerolinecolor": "white",
           "zerolinewidth": 2
          },
          "yaxis": {
           "automargin": true,
           "gridcolor": "white",
           "linecolor": "white",
           "ticks": "",
           "title": {
            "standoff": 15
           },
           "zerolinecolor": "white",
           "zerolinewidth": 2
          }
         }
        },
        "xaxis": {
         "anchor": "y",
         "domain": [
          0,
          1
         ],
         "title": {
          "text": "amount"
         }
        },
        "yaxis": {
         "anchor": "x",
         "domain": [
          0,
          1
         ],
         "title": {
          "text": "value"
         }
        }
       }
      },
      "text/html": [
       "<div>                            <div id=\"bac2fc61-3f19-4376-8104-2b213b4350ed\" class=\"plotly-graph-div\" style=\"height:525px; width:100%;\"></div>            <script type=\"text/javascript\">                require([\"plotly\"], function(Plotly) {                    window.PLOTLYENV=window.PLOTLYENV || {};                                    if (document.getElementById(\"bac2fc61-3f19-4376-8104-2b213b4350ed\")) {                    Plotly.newPlot(                        \"bac2fc61-3f19-4376-8104-2b213b4350ed\",                        [{\"hovertemplate\":\"y=0<br>amount=%{x}<br>value=%{y}<extra></extra>\",\"legendgroup\":\"0\",\"line\":{\"color\":\"#636efa\",\"dash\":\"solid\",\"shape\":\"spline\"},\"mode\":\"lines\",\"name\":\"0\",\"orientation\":\"v\",\"showlegend\":true,\"type\":\"scatter\",\"x\":[0.0007142857142857144,0.0013567741313533545,0.0025771704609135067,0.004895293498837625,0.009298530618447197,0.01766240812378877,0.03354945781566669,0.063726651079318,0.12104774032707998,0.22992821982838443,0.43674492502379114,0.8295899027809953,1.5757925676152778,2.9931924289670033,5.685520480899199,10.799553956469202,20.513577613609055,38.96520802671565,74.01378078282981,140.58797638172211,267.0445813476516,507.24685184681135,963.5071695146535,1830.1662441593621,3476.371102612166,6603.310536211932,12542.881283555555,23824.999601430063,45255.200394214,85961.51928571434],\"xaxis\":\"x\",\"y\":[0.0,0.0,0.0,0.0,0.0,0.0,0.0,0.0,0.0,0.0,0.0,0.0,1.3649119748997733,2.312881296845041,4.303381558305735,5.671431061530416,10.670298065190867,15.304253093951543,17.8393759804776,23.60894195572599,22.327261635000873,16.760676311661147,8.735314624368137,4.198361512985882,1.9461390970890708,0.7666027540526408,0.2217186682935332,0.08497472546627156,0.008802510022659927,0.0002614606937423741],\"yaxis\":\"y\"},{\"hovertemplate\":\"y=1<br>amount=%{x}<br>value=%{y}<extra></extra>\",\"legendgroup\":\"1\",\"line\":{\"color\":\"#EF553B\",\"dash\":\"solid\",\"shape\":\"spline\"},\"mode\":\"lines\",\"name\":\"1\",\"orientation\":\"v\",\"showlegend\":true,\"type\":\"scatter\",\"x\":[0.0007142857142857144,0.0013567741313533545,0.0025771704609135067,0.004895293498837625,0.009298530618447197,0.01766240812378877,0.03354945781566669,0.063726651079318,0.12104774032707998,0.22992821982838443,0.43674492502379114,0.8295899027809953,1.5757925676152778,2.9931924289670033,5.685520480899199,10.799553956469202,20.513577613609055,38.96520802671565,74.01378078282981,140.58797638172211,267.0445813476516,507.24685184681135,963.5071695146535,1830.1662441593621,3476.371102612166,6603.310536211932,12542.881283555555,23824.999601430063,45255.200394214,85961.51928571434],\"xaxis\":\"x\",\"y\":[0.0,0.0,0.0,0.0,0.0,0.0,0.0,0.0,0.0,0.0,0.0,0.0,1.4941634241245136,1.727626459143969,3.3443579766536966,4.8501945525291825,7.13035019455253,9.060311284046692,10.334630350194553,15.933852140077821,19.904669260700388,21.519455252918288,14.527237354085603,12.231517509727626,7.429961089494164,4.560311284046692,1.828793774319066,0.6595330739299611,0.08560311284046693,0.0],\"yaxis\":\"y\"}],                        {\"legend\":{\"title\":{\"text\":\"y\"},\"tracegroupgap\":0},\"margin\":{\"t\":60},\"template\":{\"data\":{\"bar\":[{\"error_x\":{\"color\":\"#2a3f5f\"},\"error_y\":{\"color\":\"#2a3f5f\"},\"marker\":{\"line\":{\"color\":\"#E5ECF6\",\"width\":0.5},\"pattern\":{\"fillmode\":\"overlay\",\"size\":10,\"solidity\":0.2}},\"type\":\"bar\"}],\"barpolar\":[{\"marker\":{\"line\":{\"color\":\"#E5ECF6\",\"width\":0.5},\"pattern\":{\"fillmode\":\"overlay\",\"size\":10,\"solidity\":0.2}},\"type\":\"barpolar\"}],\"carpet\":[{\"aaxis\":{\"endlinecolor\":\"#2a3f5f\",\"gridcolor\":\"white\",\"linecolor\":\"white\",\"minorgridcolor\":\"white\",\"startlinecolor\":\"#2a3f5f\"},\"baxis\":{\"endlinecolor\":\"#2a3f5f\",\"gridcolor\":\"white\",\"linecolor\":\"white\",\"minorgridcolor\":\"white\",\"startlinecolor\":\"#2a3f5f\"},\"type\":\"carpet\"}],\"choropleth\":[{\"colorbar\":{\"outlinewidth\":0,\"ticks\":\"\"},\"type\":\"choropleth\"}],\"contour\":[{\"colorbar\":{\"outlinewidth\":0,\"ticks\":\"\"},\"colorscale\":[[0.0,\"#0d0887\"],[0.1111111111111111,\"#46039f\"],[0.2222222222222222,\"#7201a8\"],[0.3333333333333333,\"#9c179e\"],[0.4444444444444444,\"#bd3786\"],[0.5555555555555556,\"#d8576b\"],[0.6666666666666666,\"#ed7953\"],[0.7777777777777778,\"#fb9f3a\"],[0.8888888888888888,\"#fdca26\"],[1.0,\"#f0f921\"]],\"type\":\"contour\"}],\"contourcarpet\":[{\"colorbar\":{\"outlinewidth\":0,\"ticks\":\"\"},\"type\":\"contourcarpet\"}],\"heatmap\":[{\"colorbar\":{\"outlinewidth\":0,\"ticks\":\"\"},\"colorscale\":[[0.0,\"#0d0887\"],[0.1111111111111111,\"#46039f\"],[0.2222222222222222,\"#7201a8\"],[0.3333333333333333,\"#9c179e\"],[0.4444444444444444,\"#bd3786\"],[0.5555555555555556,\"#d8576b\"],[0.6666666666666666,\"#ed7953\"],[0.7777777777777778,\"#fb9f3a\"],[0.8888888888888888,\"#fdca26\"],[1.0,\"#f0f921\"]],\"type\":\"heatmap\"}],\"heatmapgl\":[{\"colorbar\":{\"outlinewidth\":0,\"ticks\":\"\"},\"colorscale\":[[0.0,\"#0d0887\"],[0.1111111111111111,\"#46039f\"],[0.2222222222222222,\"#7201a8\"],[0.3333333333333333,\"#9c179e\"],[0.4444444444444444,\"#bd3786\"],[0.5555555555555556,\"#d8576b\"],[0.6666666666666666,\"#ed7953\"],[0.7777777777777778,\"#fb9f3a\"],[0.8888888888888888,\"#fdca26\"],[1.0,\"#f0f921\"]],\"type\":\"heatmapgl\"}],\"histogram\":[{\"marker\":{\"pattern\":{\"fillmode\":\"overlay\",\"size\":10,\"solidity\":0.2}},\"type\":\"histogram\"}],\"histogram2d\":[{\"colorbar\":{\"outlinewidth\":0,\"ticks\":\"\"},\"colorscale\":[[0.0,\"#0d0887\"],[0.1111111111111111,\"#46039f\"],[0.2222222222222222,\"#7201a8\"],[0.3333333333333333,\"#9c179e\"],[0.4444444444444444,\"#bd3786\"],[0.5555555555555556,\"#d8576b\"],[0.6666666666666666,\"#ed7953\"],[0.7777777777777778,\"#fb9f3a\"],[0.8888888888888888,\"#fdca26\"],[1.0,\"#f0f921\"]],\"type\":\"histogram2d\"}],\"histogram2dcontour\":[{\"colorbar\":{\"outlinewidth\":0,\"ticks\":\"\"},\"colorscale\":[[0.0,\"#0d0887\"],[0.1111111111111111,\"#46039f\"],[0.2222222222222222,\"#7201a8\"],[0.3333333333333333,\"#9c179e\"],[0.4444444444444444,\"#bd3786\"],[0.5555555555555556,\"#d8576b\"],[0.6666666666666666,\"#ed7953\"],[0.7777777777777778,\"#fb9f3a\"],[0.8888888888888888,\"#fdca26\"],[1.0,\"#f0f921\"]],\"type\":\"histogram2dcontour\"}],\"mesh3d\":[{\"colorbar\":{\"outlinewidth\":0,\"ticks\":\"\"},\"type\":\"mesh3d\"}],\"parcoords\":[{\"line\":{\"colorbar\":{\"outlinewidth\":0,\"ticks\":\"\"}},\"type\":\"parcoords\"}],\"pie\":[{\"automargin\":true,\"type\":\"pie\"}],\"scatter\":[{\"marker\":{\"colorbar\":{\"outlinewidth\":0,\"ticks\":\"\"}},\"type\":\"scatter\"}],\"scatter3d\":[{\"line\":{\"colorbar\":{\"outlinewidth\":0,\"ticks\":\"\"}},\"marker\":{\"colorbar\":{\"outlinewidth\":0,\"ticks\":\"\"}},\"type\":\"scatter3d\"}],\"scattercarpet\":[{\"marker\":{\"colorbar\":{\"outlinewidth\":0,\"ticks\":\"\"}},\"type\":\"scattercarpet\"}],\"scattergeo\":[{\"marker\":{\"colorbar\":{\"outlinewidth\":0,\"ticks\":\"\"}},\"type\":\"scattergeo\"}],\"scattergl\":[{\"marker\":{\"colorbar\":{\"outlinewidth\":0,\"ticks\":\"\"}},\"type\":\"scattergl\"}],\"scattermapbox\":[{\"marker\":{\"colorbar\":{\"outlinewidth\":0,\"ticks\":\"\"}},\"type\":\"scattermapbox\"}],\"scatterpolar\":[{\"marker\":{\"colorbar\":{\"outlinewidth\":0,\"ticks\":\"\"}},\"type\":\"scatterpolar\"}],\"scatterpolargl\":[{\"marker\":{\"colorbar\":{\"outlinewidth\":0,\"ticks\":\"\"}},\"type\":\"scatterpolargl\"}],\"scatterternary\":[{\"marker\":{\"colorbar\":{\"outlinewidth\":0,\"ticks\":\"\"}},\"type\":\"scatterternary\"}],\"surface\":[{\"colorbar\":{\"outlinewidth\":0,\"ticks\":\"\"},\"colorscale\":[[0.0,\"#0d0887\"],[0.1111111111111111,\"#46039f\"],[0.2222222222222222,\"#7201a8\"],[0.3333333333333333,\"#9c179e\"],[0.4444444444444444,\"#bd3786\"],[0.5555555555555556,\"#d8576b\"],[0.6666666666666666,\"#ed7953\"],[0.7777777777777778,\"#fb9f3a\"],[0.8888888888888888,\"#fdca26\"],[1.0,\"#f0f921\"]],\"type\":\"surface\"}],\"table\":[{\"cells\":{\"fill\":{\"color\":\"#EBF0F8\"},\"line\":{\"color\":\"white\"}},\"header\":{\"fill\":{\"color\":\"#C8D4E3\"},\"line\":{\"color\":\"white\"}},\"type\":\"table\"}]},\"layout\":{\"annotationdefaults\":{\"arrowcolor\":\"#2a3f5f\",\"arrowhead\":0,\"arrowwidth\":1},\"autotypenumbers\":\"strict\",\"coloraxis\":{\"colorbar\":{\"outlinewidth\":0,\"ticks\":\"\"}},\"colorscale\":{\"diverging\":[[0,\"#8e0152\"],[0.1,\"#c51b7d\"],[0.2,\"#de77ae\"],[0.3,\"#f1b6da\"],[0.4,\"#fde0ef\"],[0.5,\"#f7f7f7\"],[0.6,\"#e6f5d0\"],[0.7,\"#b8e186\"],[0.8,\"#7fbc41\"],[0.9,\"#4d9221\"],[1,\"#276419\"]],\"sequential\":[[0.0,\"#0d0887\"],[0.1111111111111111,\"#46039f\"],[0.2222222222222222,\"#7201a8\"],[0.3333333333333333,\"#9c179e\"],[0.4444444444444444,\"#bd3786\"],[0.5555555555555556,\"#d8576b\"],[0.6666666666666666,\"#ed7953\"],[0.7777777777777778,\"#fb9f3a\"],[0.8888888888888888,\"#fdca26\"],[1.0,\"#f0f921\"]],\"sequentialminus\":[[0.0,\"#0d0887\"],[0.1111111111111111,\"#46039f\"],[0.2222222222222222,\"#7201a8\"],[0.3333333333333333,\"#9c179e\"],[0.4444444444444444,\"#bd3786\"],[0.5555555555555556,\"#d8576b\"],[0.6666666666666666,\"#ed7953\"],[0.7777777777777778,\"#fb9f3a\"],[0.8888888888888888,\"#fdca26\"],[1.0,\"#f0f921\"]]},\"colorway\":[\"#636efa\",\"#EF553B\",\"#00cc96\",\"#ab63fa\",\"#FFA15A\",\"#19d3f3\",\"#FF6692\",\"#B6E880\",\"#FF97FF\",\"#FECB52\"],\"font\":{\"color\":\"#2a3f5f\"},\"geo\":{\"bgcolor\":\"white\",\"lakecolor\":\"white\",\"landcolor\":\"#E5ECF6\",\"showlakes\":true,\"showland\":true,\"subunitcolor\":\"white\"},\"hoverlabel\":{\"align\":\"left\"},\"hovermode\":\"closest\",\"mapbox\":{\"style\":\"light\"},\"paper_bgcolor\":\"white\",\"plot_bgcolor\":\"#E5ECF6\",\"polar\":{\"angularaxis\":{\"gridcolor\":\"white\",\"linecolor\":\"white\",\"ticks\":\"\"},\"bgcolor\":\"#E5ECF6\",\"radialaxis\":{\"gridcolor\":\"white\",\"linecolor\":\"white\",\"ticks\":\"\"}},\"scene\":{\"xaxis\":{\"backgroundcolor\":\"#E5ECF6\",\"gridcolor\":\"white\",\"gridwidth\":2,\"linecolor\":\"white\",\"showbackground\":true,\"ticks\":\"\",\"zerolinecolor\":\"white\"},\"yaxis\":{\"backgroundcolor\":\"#E5ECF6\",\"gridcolor\":\"white\",\"gridwidth\":2,\"linecolor\":\"white\",\"showbackground\":true,\"ticks\":\"\",\"zerolinecolor\":\"white\"},\"zaxis\":{\"backgroundcolor\":\"#E5ECF6\",\"gridcolor\":\"white\",\"gridwidth\":2,\"linecolor\":\"white\",\"showbackground\":true,\"ticks\":\"\",\"zerolinecolor\":\"white\"}},\"shapedefaults\":{\"line\":{\"color\":\"#2a3f5f\"}},\"ternary\":{\"aaxis\":{\"gridcolor\":\"white\",\"linecolor\":\"white\",\"ticks\":\"\"},\"baxis\":{\"gridcolor\":\"white\",\"linecolor\":\"white\",\"ticks\":\"\"},\"bgcolor\":\"#E5ECF6\",\"caxis\":{\"gridcolor\":\"white\",\"linecolor\":\"white\",\"ticks\":\"\"}},\"title\":{\"x\":0.05},\"xaxis\":{\"automargin\":true,\"gridcolor\":\"white\",\"linecolor\":\"white\",\"ticks\":\"\",\"title\":{\"standoff\":15},\"zerolinecolor\":\"white\",\"zerolinewidth\":2},\"yaxis\":{\"automargin\":true,\"gridcolor\":\"white\",\"linecolor\":\"white\",\"ticks\":\"\",\"title\":{\"standoff\":15},\"zerolinecolor\":\"white\",\"zerolinewidth\":2}}},\"xaxis\":{\"anchor\":\"y\",\"domain\":[0.0,1.0],\"title\":{\"text\":\"amount\"}},\"yaxis\":{\"anchor\":\"x\",\"domain\":[0.0,1.0],\"title\":{\"text\":\"value\"}}},                        {\"responsive\": true}                    ).then(function(){\n",
       "                            \n",
       "var gd = document.getElementById('bac2fc61-3f19-4376-8104-2b213b4350ed');\n",
       "var x = new MutationObserver(function (mutations, observer) {{\n",
       "        var display = window.getComputedStyle(gd).display;\n",
       "        if (!display || display === 'none') {{\n",
       "            console.log([gd, 'removed!']);\n",
       "            Plotly.purge(gd);\n",
       "            observer.disconnect();\n",
       "        }}\n",
       "}});\n",
       "\n",
       "// Listen for the removal of the full notebook cells\n",
       "var notebookContainer = gd.closest('#notebook-container');\n",
       "if (notebookContainer) {{\n",
       "    x.observe(notebookContainer, {childList: true});\n",
       "}}\n",
       "\n",
       "// Listen for the clearing of the current output cell\n",
       "var outputEl = gd.closest('.output');\n",
       "if (outputEl) {{\n",
       "    x.observe(outputEl, {childList: true});\n",
       "}}\n",
       "\n",
       "                        })                };                });            </script>        </div>"
      ]
     },
     "metadata": {},
     "output_type": "display_data"
    }
   ],
   "source": [
    "df_X_avg = df_X[['y', col, 'value']].groupby(['y', col]).mean()\n",
    "df_X_avg = df_X_avg.reset_index(drop=False)\n",
    "tmp = np.exp(bins[col])\n",
    "df_X_avg['amount'] = df_X_avg[col].map(dict(zip(range(len(tmp)), tmp)))\n",
    "df_X_avg.loc[df_X_avg['amount'] <= 1, 'value'] = 0\n",
    "\n",
    "\n",
    "fig = px.line(df_X_avg, x=\"amount\", y=\"value\", color='y', line_shape='spline')\n",
    "fig.show()"
   ]
  },
  {
   "cell_type": "markdown",
   "id": "fa2554e3",
   "metadata": {},
   "source": [
    "Param tuning"
   ]
  },
  {
   "cell_type": "code",
   "execution_count": 110,
   "id": "3933bbec",
   "metadata": {
    "scrolled": true
   },
   "outputs": [
    {
     "data": {
      "application/vnd.jupyter.widget-view+json": {
       "model_id": "d6a4c6a11bae4e83b1b3c839fa72e156",
       "version_major": 2,
       "version_minor": 0
      },
      "text/plain": [
       "  0%|          | 0/6 [00:00<?, ?it/s]"
      ]
     },
     "metadata": {},
     "output_type": "display_data"
    },
    {
     "name": "stdout",
     "output_type": "stream",
     "text": [
      "55 0.65\n",
      "56 0.64\n",
      "57 0.63\n",
      "58 0.64\n",
      "59 0.68\n",
      "60 0.66\n"
     ]
    }
   ],
   "source": [
    "y = df_reg['is_affluent_cur']\n",
    "    \n",
    "for nbins in tqdm([55, 56, 57, 58, 59, 60]):\n",
    "\n",
    "    bins = {\n",
    "        'transact_c': np.linspace(\n",
    "            df_rolled_full['transact_c'].min(), \n",
    "            df_rolled_full['transact_c'].max(), \n",
    "            nbins\n",
    "        ),\n",
    "        'transact_d': np.linspace(\n",
    "            df_rolled_full['transact_d'].min(), \n",
    "            df_rolled_full['transact_d'].max(), \n",
    "            nbins\n",
    "        ),\n",
    "    }\n",
    "\n",
    "    X = np.zeros((len(df_reg), sum([len(bins[x]) for x in bins])))\n",
    "    for i, cid in (enumerate(df_reg['id'])):\n",
    "        X[i, :] = get_features(dict_rolled[cid], bins)\n",
    "\n",
    "    # remove features with all 0s\n",
    "    X = X[:, X.sum(axis=0) != 0]\n",
    "\n",
    "    X_train, y_train = split_by_idxs(X, y, train_idxs)\n",
    "    X_val, y_val = split_by_idxs(X, y, val_idxs)\n",
    "    X_test, y_test = split_by_idxs(X, y, test_idxs)\n",
    "    \n",
    "    svm = make_pipeline(StandardScaler(), SVC(gamma='auto', probability=True))\n",
    "    svm.fit(X_train, y_train)\n",
    "    pred_probs = svm.predict_proba(X_val)\n",
    "    acc = round(roc_auc_score(y_val, pred_probs[:, 1]), 2)\n",
    "    print(nbins, acc)"
   ]
  },
  {
   "cell_type": "markdown",
   "id": "09b693d8",
   "metadata": {},
   "source": [
    "```\n",
    "10 0.57\n",
    "20 0.57\n",
    "30 0.61\n",
    "40 0.65\n",
    "50 0.64\n",
    "55 0.65\n",
    "56 0.64\n",
    "57 0.63\n",
    "58 0.64\n",
    "59 0.68\n",
    "60 0.66\n",
    "70 0.65\n",
    "80 0.63\n",
    "90 0.65\n",
    "100 0.66\n",
    "```"
   ]
  },
  {
   "cell_type": "markdown",
   "id": "1a9aa4c1",
   "metadata": {},
   "source": [
    "### Modelling (SVM)"
   ]
  },
  {
   "cell_type": "code",
   "execution_count": 329,
   "id": "48b9f368",
   "metadata": {},
   "outputs": [],
   "source": [
    "# get train test val X, y\n",
    "\n",
    "def split_by_idxs(X, y, idxs):\n",
    "    return X[idxs, :], np.array(y)[idxs]\n",
    "\n",
    "y = df_reg['is_affluent_cur']\n",
    "\n",
    "X_train, y_train = split_by_idxs(X, y, train_idxs)\n",
    "X_val, y_val = split_by_idxs(X, y, val_idxs)\n",
    "X_test, y_test = split_by_idxs(X, y, test_idxs)"
   ]
  },
  {
   "cell_type": "code",
   "execution_count": 330,
   "id": "04513fce",
   "metadata": {},
   "outputs": [
    {
     "data": {
      "text/plain": [
       "0.6706274755055243"
      ]
     },
     "execution_count": 330,
     "metadata": {},
     "output_type": "execute_result"
    }
   ],
   "source": [
    "svm = make_pipeline(StandardScaler(), SVC(gamma='auto', probability=True))\n",
    "svm.fit(X_train, y_train)\n",
    "pred_probs = svm.predict_proba(X_val)\n",
    "roc_auc_score(y_val, pred_probs[:, 1])"
   ]
  },
  {
   "cell_type": "code",
   "execution_count": null,
   "id": "bf0c7a9c",
   "metadata": {},
   "outputs": [],
   "source": []
  },
  {
   "cell_type": "code",
   "execution_count": 49,
   "id": "7dd7d95b",
   "metadata": {},
   "outputs": [
    {
     "name": "stdout",
     "output_type": "stream",
     "text": [
      "[0.9383 0.5222 0.6483]\n"
     ]
    },
    {
     "data": {
      "text/plain": [
       "array([[441,  10],\n",
       "       [420,  29]])"
      ]
     },
     "execution_count": 49,
     "metadata": {},
     "output_type": "execute_result"
    }
   ],
   "source": [
    "pred = (pred_probs[:, 0] < 0.96).astype(int)\n",
    "\n",
    "precision, recall, f1, _ = precision_recall_fscore_support(y_val, pred, average='weighted')\n",
    "print(np.array([precision, recall, f1]).round(4))\n",
    "confusion_matrix(pred, y_val)"
   ]
  },
  {
   "cell_type": "code",
   "execution_count": 50,
   "id": "9ed3ea7f",
   "metadata": {
    "scrolled": true
   },
   "outputs": [
    {
     "data": {
      "text/plain": [
       "0.6566604127579738"
      ]
     },
     "execution_count": 50,
     "metadata": {},
     "output_type": "execute_result"
    },
    {
     "data": {
      "image/png": "[encoded data removed]",
      "text/plain": [
       "<Figure size 432x288 with 1 Axes>"
      ]
     },
     "metadata": {
      "needs_background": "light"
     },
     "output_type": "display_data"
    }
   ],
   "source": [
    "plot_roc_curve(svm, X_val, y_val)\n",
    "roc_auc_score(y_val, pred_probs[:, 1])"
   ]
  }
 ],
 "metadata": {
  "kernelspec": {
   "display_name": "Python 3",
   "language": "python",
   "name": "python3"
  },
  "language_info": {
   "codemirror_mode": {
    "name": "ipython",
    "version": 3
   },
   "file_extension": ".py",
   "mimetype": "text/x-python",
   "name": "python",
   "nbconvert_exporter": "python",
   "pygments_lexer": "ipython3",
   "version": "3.9.5"
  }
 },
 "nbformat": 4,
 "nbformat_minor": 5
}
