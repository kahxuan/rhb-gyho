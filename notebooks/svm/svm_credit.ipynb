{
 "cells": [
  {
   "cell_type": "code",
   "execution_count": 1,
   "id": "0a3a0e3f",
   "metadata": {},
   "outputs": [],
   "source": [
    "import os\n",
    "import pandas as pd\n",
    "import numpy as np\n",
    "import matplotlib.pyplot as plt\n",
    "from tqdm.notebook import tqdm\n",
    "\n",
    "from sklearn.linear_model import LinearRegression"
   ]
  },
  {
   "cell_type": "code",
   "execution_count": 2,
   "id": "e570c020",
   "metadata": {},
   "outputs": [
    {
     "name": "stderr",
     "output_type": "stream",
     "text": [
      "/Library/Frameworks/Python.framework/Versions/3.9/lib/python3.9/site-packages/IPython/core/interactiveshell.py:3169: DtypeWarning: Columns (7) have mixed types.Specify dtype option on import or set low_memory=False.\n",
      "  has_raised = await self.run_ast_nodes(code_ast.body, cell_name,\n"
     ]
    }
   ],
   "source": [
    "df_cur = pd.read_csv('data/cust.csv')\n",
    "df_cur['BE_SEGMENT'] = df_cur['BE_SEGMENT'].str[0].fillna(-1).astype('int')\n",
    "df_prev = pd.read_csv('data/cust_prev.csv')\n",
    "\n",
    "df_comb = df_prev.merge(df_cur, on='id', suffixes=['_prev', '_cur'], how='outer')\n",
    "df_comb = df_comb[df_comb['BE_SEGMENT_prev'] != -1]\n",
    "df_comb['be_segment_p1m'] = df_comb['BE_SEGMENT_cur']\n",
    "\n",
    "df_comb['is_affluent_prev'] = (df_comb['BE_SEGMENT_prev'] <= 2).astype(int)\n",
    "df_comb['is_affluent_cur'] = (df_comb['BE_SEGMENT_cur'] <= 2).astype(int)\n",
    "df_comb = df_comb[df_comb['is_affluent_prev'] == 0]"
   ]
  },
  {
   "cell_type": "code",
   "execution_count": 3,
   "id": "5576aaa1",
   "metadata": {},
   "outputs": [],
   "source": [
    "df_reg = df_comb[['id', 'is_affluent_cur']]\n",
    "df_reg = df_reg.drop_duplicates('id')\n",
    "\n",
    "train = pd.read_csv('data/model/train.csv')[['id', 't1']].rename({'t1': 'is_affluent_cur'}, axis=1)\n",
    "val = pd.read_csv('data/model/validate.csv')[['id', 't1']].rename({'t1': 'is_affluent_cur'}, axis=1)\n",
    "test = pd.read_csv('data/model/test.csv')[['id', 't1']].rename({'t1': 'is_affluent_cur'}, axis=1)\n",
    "\n",
    "train_idxs = [np.where(df_reg['id'] == cid)[0][0] for cid in train['id']]\n",
    "val_idxs = [np.where(df_reg['id'] == cid)[0][0] for cid in val['id']]\n",
    "test_idxs = [np.where(df_reg['id'] == cid)[0][0] for cid in test['id']]"
   ]
  },
  {
   "cell_type": "code",
   "execution_count": 4,
   "id": "09cf938b",
   "metadata": {},
   "outputs": [],
   "source": [
    "del df_comb"
   ]
  },
  {
   "cell_type": "markdown",
   "id": "be48ec6b",
   "metadata": {},
   "source": [
    "# Transactions "
   ]
  },
  {
   "cell_type": "code",
   "execution_count": 5,
   "id": "bc51571c",
   "metadata": {},
   "outputs": [],
   "source": [
    "fname = 'data/creditcard_txn.csv'\n",
    "col_date = 'TRANSACTION_DATE'\n",
    "col_amt = 'TRANSACTION_AMT'\n",
    "col_mult = 'D_TRAN_TYPE'"
   ]
  },
  {
   "cell_type": "code",
   "execution_count": 6,
   "id": "b8f972f6",
   "metadata": {},
   "outputs": [],
   "source": [
    "df_saving = pd.read_csv(fname)\n",
    "df_saving = df_saving[df_saving['Product'] == 'Credit Card']\n",
    "\n",
    "tmp = set(df_reg['id'])\n",
    "df_saving = df_saving[[cid in tmp for cid in df_saving['id']]]\n",
    "\n",
    "df_saving['day'] = pd.to_datetime(df_saving[col_date])\n",
    "\n",
    "df_saving['transact_d'] = df_saving['transact_c'] = df_saving[col_amt]\n",
    "df_saving.loc[df_saving[col_mult] == 'C', 'transact_d'] = 0\n",
    "df_saving.loc[df_saving[col_mult] == 'D', 'transact_c'] = 0\n",
    "df_saving = df_saving[['id', 'day', 'transact_c', 'transact_d']]"
   ]
  },
  {
   "cell_type": "code",
   "execution_count": 7,
   "id": "930af3e4",
   "metadata": {},
   "outputs": [],
   "source": [
    "placeholders = []\n",
    "for cid in df_reg['id']:\n",
    "    tmp = pd.date_range(start='1/1/2021', end='31/12/2021')\n",
    "    tmp = pd.DataFrame({'day': tmp, 'transact_c': 0, 'transact_d': 0})\n",
    "    tmp.insert(0, 'id', cid)\n",
    "    placeholders.append(tmp)\n",
    "df_saving = df_saving.append(pd.concat(placeholders))\n",
    "\n",
    "df_saving['day'] = (pd.to_datetime(df_saving['day']) \\\n",
    "                       .apply(lambda x: x.value) - pd.to_datetime('1/1/2021').value) // 86400000000000\n",
    "\n",
    "df_saving = df_saving.sort_values(['id', 'day'])\n",
    "df_saving = df_saving.groupby(['id', 'day']).sum().reset_index(drop=False)"
   ]
  },
  {
   "cell_type": "markdown",
   "id": "149d7d8b",
   "metadata": {},
   "source": [
    "### Feature extraction"
   ]
  },
  {
   "cell_type": "code",
   "execution_count": 8,
   "id": "8cd5da3b",
   "metadata": {},
   "outputs": [
    {
     "data": {
      "application/vnd.jupyter.widget-view+json": {
       "model_id": "f55bfcef22cc4065bbfb3b25400cf3ca",
       "version_major": 2,
       "version_minor": 0
      },
      "text/plain": [
       "  0%|          | 0/5994 [00:00<?, ?it/s]"
      ]
     },
     "metadata": {},
     "output_type": "display_data"
    }
   ],
   "source": [
    "rolling_window = 28\n",
    "\n",
    "dict_rolled = {}\n",
    "for cid in tqdm(df_reg['id']):\n",
    "    df = df_saving[df_saving['id'] == cid][['transact_c', 'transact_d']]\n",
    "    df = df.rolling(window=rolling_window).apply(lambda x : sum(x) / rolling_window)\n",
    "    df = df.dropna()\n",
    "    dict_rolled[cid] = df"
   ]
  },
  {
   "cell_type": "code",
   "execution_count": 9,
   "id": "555d5309",
   "metadata": {},
   "outputs": [
    {
     "data": {
      "text/plain": [
       "(-7.937374696163295, 8.958981503932335, -7.937374696163295, 8.97486714847346)"
      ]
     },
     "execution_count": 9,
     "metadata": {},
     "output_type": "execute_result"
    },
    {
     "data": {
      "image/png": "[encoded data removed]",
      "text/plain": [
       "<Figure size 432x288 with 1 Axes>"
      ]
     },
     "metadata": {
      "needs_background": "light"
     },
     "output_type": "display_data"
    }
   ],
   "source": [
    "tmp = pd.concat(list(dict_rolled.values()))\n",
    "tmp = np.log(tmp.replace({0: 1}))\n",
    "tmp.boxplot()\n",
    "tmp['transact_c'].min(), tmp['transact_c'].max(), tmp['transact_d'].min(), tmp['transact_d'].max()"
   ]
  },
  {
   "cell_type": "code",
   "execution_count": 10,
   "id": "09db8ca1",
   "metadata": {
    "scrolled": true
   },
   "outputs": [
    {
     "data": {
      "application/vnd.jupyter.widget-view+json": {
       "model_id": "432da333936e40e49b8d3114f8d70dc6",
       "version_major": 2,
       "version_minor": 0
      },
      "text/plain": [
       "0it [00:00, ?it/s]"
      ]
     },
     "metadata": {},
     "output_type": "display_data"
    }
   ],
   "source": [
    "bin_size = 0.6\n",
    "bin_min, bin_max = -8, 8.9\n",
    "bins = [bin_min + i * bin_size for i in range(int((bin_max - bin_min) / bin_size) + 1)]\n",
    "\n",
    "def transacts_to_bins(transacts):\n",
    "    transacts = np.log(transacts.replace({0: 1}))\n",
    "    feat = np.zeros((len(bins)))\n",
    "    tmp = np.digitize(transacts, bins) - 1\n",
    "    tmp = pd.DataFrame(tmp).reset_index(drop=False).groupby(0).count()['index']\n",
    "    feat[tmp.index] = tmp\n",
    "    return feat\n",
    "\n",
    "X = np.zeros((len(df_reg), len(bins) * 2))\n",
    "for i, cid in tqdm(enumerate(df_reg['id'])):\n",
    "    feat_c = transacts_to_bins(dict_rolled[cid]['transact_c'])\n",
    "    feat_d = transacts_to_bins(dict_rolled[cid]['transact_d'])\n",
    "    X[i, :] = np.concatenate([feat_c, feat_d])"
   ]
  },
  {
   "cell_type": "code",
   "execution_count": 11,
   "id": "ff09920f",
   "metadata": {
    "scrolled": true
   },
   "outputs": [
    {
     "data": {
      "text/plain": [
       "array([4.41000e+02, 7.54000e+02, 7.84000e+02, 3.50800e+03, 5.86900e+03,\n",
       "       9.76600e+03, 1.43370e+04, 2.00710e+04, 2.02350e+04, 1.50310e+04,\n",
       "       1.42580e+04, 1.70110e+04, 1.69070e+04, 9.38176e+05, 3.64360e+04,\n",
       "       3.75630e+04, 6.78520e+04, 8.55750e+04, 1.39025e+05, 1.64298e+05,\n",
       "       1.50199e+05, 1.23035e+05, 7.74900e+04, 4.22990e+04, 1.77000e+04,\n",
       "       5.85300e+03, 1.52800e+03, 6.80000e+02, 7.10000e+01, 2.30000e+01,\n",
       "       7.30000e+01, 5.20000e+01, 5.90000e+01, 8.40000e+01, 6.10000e+01,\n",
       "       7.80000e+01, 3.76300e+03, 1.06700e+03, 4.53000e+02, 1.42600e+03,\n",
       "       7.93700e+03, 7.80300e+03, 8.04341e+05, 4.13520e+04, 5.57070e+04,\n",
       "       1.00452e+05, 1.37149e+05, 1.78599e+05, 2.06774e+05, 1.94838e+05,\n",
       "       1.47183e+05, 8.16140e+04, 3.59320e+04, 1.36520e+04, 4.14300e+03,\n",
       "       1.41300e+03, 6.69000e+02, 5.50000e+01])"
      ]
     },
     "execution_count": 11,
     "metadata": {},
     "output_type": "execute_result"
    }
   ],
   "source": [
    "X.sum(axis=0)"
   ]
  },
  {
   "cell_type": "markdown",
   "id": "1a9aa4c1",
   "metadata": {},
   "source": [
    "### Modelling (SVM)"
   ]
  },
  {
   "cell_type": "code",
   "execution_count": 12,
   "id": "48b9f368",
   "metadata": {},
   "outputs": [],
   "source": [
    "from sklearn.pipeline import make_pipeline\n",
    "from sklearn.preprocessing import StandardScaler\n",
    "from sklearn.svm import SVC\n",
    "from sklearn.model_selection import cross_val_score\n",
    "from sklearn.metrics import (\n",
    "    confusion_matrix, roc_curve, \n",
    "    precision_recall_fscore_support, plot_roc_curve, roc_auc_score\n",
    ")\n",
    "\n",
    "y = df_reg['is_affluent_cur']\n",
    "\n",
    "X_train = X[train_idxs, :]\n",
    "y_train = np.array(y)[train_idxs]\n",
    "X_val = X[val_idxs, :]\n",
    "y_val = np.array(y)[val_idxs]\n",
    "X_test = X[test_idxs, :]\n",
    "y_test = np.array(y)[test_idxs]"
   ]
  },
  {
   "cell_type": "code",
   "execution_count": 13,
   "id": "04513fce",
   "metadata": {},
   "outputs": [
    {
     "data": {
      "text/plain": [
       "Pipeline(steps=[('standardscaler', StandardScaler()),\n",
       "                ('svc', SVC(gamma='auto', probability=True))])"
      ]
     },
     "execution_count": 13,
     "metadata": {},
     "output_type": "execute_result"
    }
   ],
   "source": [
    "svm = make_pipeline(StandardScaler(), SVC(gamma='auto', probability=True))\n",
    "svm.fit(X_train, y_train)"
   ]
  },
  {
   "cell_type": "code",
   "execution_count": 14,
   "id": "5d2a30dd",
   "metadata": {},
   "outputs": [],
   "source": [
    "pred_probs = svm.predict_proba(X_val)"
   ]
  },
  {
   "cell_type": "code",
   "execution_count": 15,
   "id": "08e1ef0b",
   "metadata": {},
   "outputs": [
    {
     "name": "stdout",
     "output_type": "stream",
     "text": [
      "0.9200612064821582 0.4988888888888889 0.6302461339652871\n"
     ]
    },
    {
     "data": {
      "text/plain": [
       "array([[428,  18],\n",
       "       [433,  21]])"
      ]
     },
     "execution_count": 15,
     "metadata": {},
     "output_type": "execute_result"
    }
   ],
   "source": [
    "pred = (pred_probs[:, 0] < 0.955).astype(int)\n",
    "\n",
    "precision, recall, f1, _ = precision_recall_fscore_support(y_val, pred, average='weighted')\n",
    "print(precision, recall, f1)\n",
    "confusion_matrix(pred, y_val)"
   ]
  },
  {
   "cell_type": "code",
   "execution_count": 16,
   "id": "9ed3ea7f",
   "metadata": {
    "scrolled": true
   },
   "outputs": [
    {
     "data": {
      "text/plain": [
       "0.5805414098097025"
      ]
     },
     "execution_count": 16,
     "metadata": {},
     "output_type": "execute_result"
    },
    {
     "data": {
      "image/png": "[encoded data removed]",
      "text/plain": [
       "<Figure size 432x288 with 1 Axes>"
      ]
     },
     "metadata": {
      "needs_background": "light"
     },
     "output_type": "display_data"
    }
   ],
   "source": [
    "plot_roc_curve(svm, X_val, y_val)\n",
    "roc_auc_score(y_val, pred_probs[:, 1])"
   ]
  },
  {
   "cell_type": "markdown",
   "id": "0b2de8a5",
   "metadata": {},
   "source": [
    "Hyperparameters and result:\n",
    "\n",
    "```\n",
    "rolling_window = 28\n",
    "bin_size = 1\n",
    "bin_min, bin_max = -8, 9\n",
    "auc = 0.60/0.60\n",
    "```\n",
    "```\n",
    "rolling_window = 28\n",
    "bin_size = 0.6\n",
    "bin_min, bin_max = -8, 9\n",
    "auc=0.58/0.66\n",
    "```"
   ]
  },
  {
   "cell_type": "code",
   "execution_count": 17,
   "id": "ef6672c0",
   "metadata": {},
   "outputs": [
    {
     "data": {
      "text/html": [
       "<div>\n",
       "<style scoped>\n",
       "    .dataframe tbody tr th:only-of-type {\n",
       "        vertical-align: middle;\n",
       "    }\n",
       "\n",
       "    .dataframe tbody tr th {\n",
       "        vertical-align: top;\n",
       "    }\n",
       "\n",
       "    .dataframe thead th {\n",
       "        text-align: right;\n",
       "    }\n",
       "</style>\n",
       "<table border=\"1\" class=\"dataframe\">\n",
       "  <thead>\n",
       "    <tr style=\"text-align: right;\">\n",
       "      <th></th>\n",
       "      <th>id</th>\n",
       "      <th>0</th>\n",
       "      <th>1</th>\n",
       "      <th>2</th>\n",
       "      <th>3</th>\n",
       "      <th>4</th>\n",
       "      <th>5</th>\n",
       "      <th>6</th>\n",
       "      <th>7</th>\n",
       "      <th>8</th>\n",
       "      <th>...</th>\n",
       "      <th>48</th>\n",
       "      <th>49</th>\n",
       "      <th>50</th>\n",
       "      <th>51</th>\n",
       "      <th>52</th>\n",
       "      <th>53</th>\n",
       "      <th>54</th>\n",
       "      <th>55</th>\n",
       "      <th>56</th>\n",
       "      <th>57</th>\n",
       "    </tr>\n",
       "  </thead>\n",
       "  <tbody>\n",
       "    <tr>\n",
       "      <th>0</th>\n",
       "      <td>22366008</td>\n",
       "      <td>0.0</td>\n",
       "      <td>0.0</td>\n",
       "      <td>0.0</td>\n",
       "      <td>0.0</td>\n",
       "      <td>0.0</td>\n",
       "      <td>0.0</td>\n",
       "      <td>0.0</td>\n",
       "      <td>0.0</td>\n",
       "      <td>0.0</td>\n",
       "      <td>...</td>\n",
       "      <td>85.0</td>\n",
       "      <td>76.0</td>\n",
       "      <td>35.0</td>\n",
       "      <td>18.0</td>\n",
       "      <td>59.0</td>\n",
       "      <td>14.0</td>\n",
       "      <td>0.0</td>\n",
       "      <td>0.0</td>\n",
       "      <td>0.0</td>\n",
       "      <td>0.0</td>\n",
       "    </tr>\n",
       "    <tr>\n",
       "      <th>1</th>\n",
       "      <td>22367033</td>\n",
       "      <td>0.0</td>\n",
       "      <td>0.0</td>\n",
       "      <td>0.0</td>\n",
       "      <td>28.0</td>\n",
       "      <td>0.0</td>\n",
       "      <td>28.0</td>\n",
       "      <td>39.0</td>\n",
       "      <td>28.0</td>\n",
       "      <td>0.0</td>\n",
       "      <td>...</td>\n",
       "      <td>20.0</td>\n",
       "      <td>30.0</td>\n",
       "      <td>3.0</td>\n",
       "      <td>0.0</td>\n",
       "      <td>0.0</td>\n",
       "      <td>0.0</td>\n",
       "      <td>0.0</td>\n",
       "      <td>0.0</td>\n",
       "      <td>0.0</td>\n",
       "      <td>0.0</td>\n",
       "    </tr>\n",
       "    <tr>\n",
       "      <th>2</th>\n",
       "      <td>22369473</td>\n",
       "      <td>0.0</td>\n",
       "      <td>0.0</td>\n",
       "      <td>0.0</td>\n",
       "      <td>0.0</td>\n",
       "      <td>0.0</td>\n",
       "      <td>0.0</td>\n",
       "      <td>0.0</td>\n",
       "      <td>0.0</td>\n",
       "      <td>0.0</td>\n",
       "      <td>...</td>\n",
       "      <td>3.0</td>\n",
       "      <td>194.0</td>\n",
       "      <td>87.0</td>\n",
       "      <td>45.0</td>\n",
       "      <td>0.0</td>\n",
       "      <td>0.0</td>\n",
       "      <td>0.0</td>\n",
       "      <td>0.0</td>\n",
       "      <td>0.0</td>\n",
       "      <td>0.0</td>\n",
       "    </tr>\n",
       "    <tr>\n",
       "      <th>3</th>\n",
       "      <td>22372056</td>\n",
       "      <td>0.0</td>\n",
       "      <td>0.0</td>\n",
       "      <td>0.0</td>\n",
       "      <td>0.0</td>\n",
       "      <td>0.0</td>\n",
       "      <td>0.0</td>\n",
       "      <td>0.0</td>\n",
       "      <td>0.0</td>\n",
       "      <td>0.0</td>\n",
       "      <td>...</td>\n",
       "      <td>0.0</td>\n",
       "      <td>0.0</td>\n",
       "      <td>0.0</td>\n",
       "      <td>0.0</td>\n",
       "      <td>0.0</td>\n",
       "      <td>0.0</td>\n",
       "      <td>0.0</td>\n",
       "      <td>0.0</td>\n",
       "      <td>0.0</td>\n",
       "      <td>0.0</td>\n",
       "    </tr>\n",
       "    <tr>\n",
       "      <th>4</th>\n",
       "      <td>22382850</td>\n",
       "      <td>0.0</td>\n",
       "      <td>0.0</td>\n",
       "      <td>0.0</td>\n",
       "      <td>0.0</td>\n",
       "      <td>0.0</td>\n",
       "      <td>0.0</td>\n",
       "      <td>0.0</td>\n",
       "      <td>0.0</td>\n",
       "      <td>0.0</td>\n",
       "      <td>...</td>\n",
       "      <td>19.0</td>\n",
       "      <td>142.0</td>\n",
       "      <td>65.0</td>\n",
       "      <td>9.0</td>\n",
       "      <td>0.0</td>\n",
       "      <td>0.0</td>\n",
       "      <td>0.0</td>\n",
       "      <td>0.0</td>\n",
       "      <td>0.0</td>\n",
       "      <td>0.0</td>\n",
       "    </tr>\n",
       "    <tr>\n",
       "      <th>...</th>\n",
       "      <td>...</td>\n",
       "      <td>...</td>\n",
       "      <td>...</td>\n",
       "      <td>...</td>\n",
       "      <td>...</td>\n",
       "      <td>...</td>\n",
       "      <td>...</td>\n",
       "      <td>...</td>\n",
       "      <td>...</td>\n",
       "      <td>...</td>\n",
       "      <td>...</td>\n",
       "      <td>...</td>\n",
       "      <td>...</td>\n",
       "      <td>...</td>\n",
       "      <td>...</td>\n",
       "      <td>...</td>\n",
       "      <td>...</td>\n",
       "      <td>...</td>\n",
       "      <td>...</td>\n",
       "      <td>...</td>\n",
       "      <td>...</td>\n",
       "    </tr>\n",
       "    <tr>\n",
       "      <th>5989</th>\n",
       "      <td>17253418</td>\n",
       "      <td>0.0</td>\n",
       "      <td>0.0</td>\n",
       "      <td>0.0</td>\n",
       "      <td>0.0</td>\n",
       "      <td>0.0</td>\n",
       "      <td>0.0</td>\n",
       "      <td>0.0</td>\n",
       "      <td>0.0</td>\n",
       "      <td>0.0</td>\n",
       "      <td>...</td>\n",
       "      <td>173.0</td>\n",
       "      <td>81.0</td>\n",
       "      <td>11.0</td>\n",
       "      <td>28.0</td>\n",
       "      <td>0.0</td>\n",
       "      <td>0.0</td>\n",
       "      <td>0.0</td>\n",
       "      <td>0.0</td>\n",
       "      <td>0.0</td>\n",
       "      <td>0.0</td>\n",
       "    </tr>\n",
       "    <tr>\n",
       "      <th>5990</th>\n",
       "      <td>26244841</td>\n",
       "      <td>0.0</td>\n",
       "      <td>0.0</td>\n",
       "      <td>0.0</td>\n",
       "      <td>0.0</td>\n",
       "      <td>0.0</td>\n",
       "      <td>0.0</td>\n",
       "      <td>3.0</td>\n",
       "      <td>0.0</td>\n",
       "      <td>0.0</td>\n",
       "      <td>...</td>\n",
       "      <td>0.0</td>\n",
       "      <td>28.0</td>\n",
       "      <td>48.0</td>\n",
       "      <td>17.0</td>\n",
       "      <td>9.0</td>\n",
       "      <td>27.0</td>\n",
       "      <td>0.0</td>\n",
       "      <td>0.0</td>\n",
       "      <td>0.0</td>\n",
       "      <td>0.0</td>\n",
       "    </tr>\n",
       "    <tr>\n",
       "      <th>5991</th>\n",
       "      <td>26249148</td>\n",
       "      <td>0.0</td>\n",
       "      <td>0.0</td>\n",
       "      <td>0.0</td>\n",
       "      <td>0.0</td>\n",
       "      <td>0.0</td>\n",
       "      <td>73.0</td>\n",
       "      <td>0.0</td>\n",
       "      <td>0.0</td>\n",
       "      <td>24.0</td>\n",
       "      <td>...</td>\n",
       "      <td>0.0</td>\n",
       "      <td>0.0</td>\n",
       "      <td>0.0</td>\n",
       "      <td>0.0</td>\n",
       "      <td>0.0</td>\n",
       "      <td>0.0</td>\n",
       "      <td>0.0</td>\n",
       "      <td>0.0</td>\n",
       "      <td>0.0</td>\n",
       "      <td>0.0</td>\n",
       "    </tr>\n",
       "    <tr>\n",
       "      <th>5992</th>\n",
       "      <td>26250390</td>\n",
       "      <td>0.0</td>\n",
       "      <td>0.0</td>\n",
       "      <td>0.0</td>\n",
       "      <td>0.0</td>\n",
       "      <td>0.0</td>\n",
       "      <td>0.0</td>\n",
       "      <td>0.0</td>\n",
       "      <td>0.0</td>\n",
       "      <td>0.0</td>\n",
       "      <td>...</td>\n",
       "      <td>0.0</td>\n",
       "      <td>0.0</td>\n",
       "      <td>0.0</td>\n",
       "      <td>0.0</td>\n",
       "      <td>0.0</td>\n",
       "      <td>0.0</td>\n",
       "      <td>0.0</td>\n",
       "      <td>0.0</td>\n",
       "      <td>0.0</td>\n",
       "      <td>0.0</td>\n",
       "    </tr>\n",
       "    <tr>\n",
       "      <th>5993</th>\n",
       "      <td>26252691</td>\n",
       "      <td>0.0</td>\n",
       "      <td>0.0</td>\n",
       "      <td>0.0</td>\n",
       "      <td>0.0</td>\n",
       "      <td>0.0</td>\n",
       "      <td>0.0</td>\n",
       "      <td>0.0</td>\n",
       "      <td>0.0</td>\n",
       "      <td>0.0</td>\n",
       "      <td>...</td>\n",
       "      <td>10.0</td>\n",
       "      <td>274.0</td>\n",
       "      <td>28.0</td>\n",
       "      <td>0.0</td>\n",
       "      <td>0.0</td>\n",
       "      <td>0.0</td>\n",
       "      <td>0.0</td>\n",
       "      <td>0.0</td>\n",
       "      <td>0.0</td>\n",
       "      <td>0.0</td>\n",
       "    </tr>\n",
       "  </tbody>\n",
       "</table>\n",
       "<p>5994 rows × 59 columns</p>\n",
       "</div>"
      ],
      "text/plain": [
       "            id    0    1    2     3    4     5     6     7     8  ...     48  \\\n",
       "0     22366008  0.0  0.0  0.0   0.0  0.0   0.0   0.0   0.0   0.0  ...   85.0   \n",
       "1     22367033  0.0  0.0  0.0  28.0  0.0  28.0  39.0  28.0   0.0  ...   20.0   \n",
       "2     22369473  0.0  0.0  0.0   0.0  0.0   0.0   0.0   0.0   0.0  ...    3.0   \n",
       "3     22372056  0.0  0.0  0.0   0.0  0.0   0.0   0.0   0.0   0.0  ...    0.0   \n",
       "4     22382850  0.0  0.0  0.0   0.0  0.0   0.0   0.0   0.0   0.0  ...   19.0   \n",
       "...        ...  ...  ...  ...   ...  ...   ...   ...   ...   ...  ...    ...   \n",
       "5989  17253418  0.0  0.0  0.0   0.0  0.0   0.0   0.0   0.0   0.0  ...  173.0   \n",
       "5990  26244841  0.0  0.0  0.0   0.0  0.0   0.0   3.0   0.0   0.0  ...    0.0   \n",
       "5991  26249148  0.0  0.0  0.0   0.0  0.0  73.0   0.0   0.0  24.0  ...    0.0   \n",
       "5992  26250390  0.0  0.0  0.0   0.0  0.0   0.0   0.0   0.0   0.0  ...    0.0   \n",
       "5993  26252691  0.0  0.0  0.0   0.0  0.0   0.0   0.0   0.0   0.0  ...   10.0   \n",
       "\n",
       "         49    50    51    52    53   54   55   56   57  \n",
       "0      76.0  35.0  18.0  59.0  14.0  0.0  0.0  0.0  0.0  \n",
       "1      30.0   3.0   0.0   0.0   0.0  0.0  0.0  0.0  0.0  \n",
       "2     194.0  87.0  45.0   0.0   0.0  0.0  0.0  0.0  0.0  \n",
       "3       0.0   0.0   0.0   0.0   0.0  0.0  0.0  0.0  0.0  \n",
       "4     142.0  65.0   9.0   0.0   0.0  0.0  0.0  0.0  0.0  \n",
       "...     ...   ...   ...   ...   ...  ...  ...  ...  ...  \n",
       "5989   81.0  11.0  28.0   0.0   0.0  0.0  0.0  0.0  0.0  \n",
       "5990   28.0  48.0  17.0   9.0  27.0  0.0  0.0  0.0  0.0  \n",
       "5991    0.0   0.0   0.0   0.0   0.0  0.0  0.0  0.0  0.0  \n",
       "5992    0.0   0.0   0.0   0.0   0.0  0.0  0.0  0.0  0.0  \n",
       "5993  274.0  28.0   0.0   0.0   0.0  0.0  0.0  0.0  0.0  \n",
       "\n",
       "[5994 rows x 59 columns]"
      ]
     },
     "execution_count": 17,
     "metadata": {},
     "output_type": "execute_result"
    }
   ],
   "source": [
    "tmp = pd.DataFrame(X)\n",
    "tmp.insert(0, 'id', df_reg.reset_index()['id'])\n",
    "tmp"
   ]
  },
  {
   "cell_type": "code",
   "execution_count": null,
   "id": "82fd9703",
   "metadata": {},
   "outputs": [],
   "source": []
  }
 ],
 "metadata": {
  "kernelspec": {
   "display_name": "Python 3",
   "language": "python",
   "name": "python3"
  },
  "language_info": {
   "codemirror_mode": {
    "name": "ipython",
    "version": 3
   },
   "file_extension": ".py",
   "mimetype": "text/x-python",
   "name": "python",
   "nbconvert_exporter": "python",
   "pygments_lexer": "ipython3",
   "version": "3.9.5"
  }
 },
 "nbformat": 4,
 "nbformat_minor": 5
}
