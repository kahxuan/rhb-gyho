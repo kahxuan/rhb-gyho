{
 "cells": [
  {
   "cell_type": "code",
   "execution_count": 1,
   "id": "0a3a0e3f",
   "metadata": {},
   "outputs": [],
   "source": [
    "import os\n",
    "import math\n",
    "import pandas as pd\n",
    "import numpy as np\n",
    "import matplotlib.pyplot as plt\n",
    "from tqdm.notebook import tqdm\n",
    "\n",
    "from sklearn.pipeline import make_pipeline\n",
    "from sklearn.preprocessing import StandardScaler\n",
    "from sklearn.svm import SVC\n",
    "from sklearn.model_selection import StratifiedKFold\n",
    "from sklearn.metrics import (\n",
    "    confusion_matrix, roc_curve, \n",
    "    precision_recall_fscore_support, plot_roc_curve, roc_auc_score\n",
    ")\n",
    "\n",
    "import plotly.express as px\n",
    "\n",
    "from svm_utils import *\n",
    "from feature_extraction import *"
   ]
  },
  {
   "cell_type": "code",
   "execution_count": 2,
   "id": "d8c5664e",
   "metadata": {},
   "outputs": [],
   "source": [
    "data_dir = '../../data'\n",
    "pxm = 'p6m'\n",
    "start_date = '2021/01/01'\n",
    "end_date = '2021/06/30'"
   ]
  },
  {
   "cell_type": "code",
   "execution_count": 222,
   "id": "5576aaa1",
   "metadata": {},
   "outputs": [],
   "source": [
    "df_reg = pd.read_csv(os.path.join(data_dir, 'model/{}/full.csv'.format(pxm)))\n",
    "train = pd.read_csv(os.path.join(data_dir, 'model/{}/train.csv'.format(pxm)))\n",
    "val = pd.read_csv(os.path.join(data_dir, 'model/{}/validate.csv'.format(pxm)))\n",
    "test = pd.read_csv(os.path.join(data_dir, 'model/{}/test.csv'.format(pxm)))\n",
    "test = test.append(val)\n",
    "\n",
    "train_idxs = [np.where(df_reg['id'] == cid)[0][0] for cid in train['id']]\n",
    "test_idxs = [np.where(df_reg['id'] == cid)[0][0] for cid in test['id']]"
   ]
  },
  {
   "cell_type": "markdown",
   "id": "be48ec6b",
   "metadata": {},
   "source": [
    "# Transactions "
   ]
  },
  {
   "cell_type": "code",
   "execution_count": 4,
   "id": "5e57a979",
   "metadata": {},
   "outputs": [],
   "source": [
    "df_main = {}"
   ]
  },
  {
   "cell_type": "code",
   "execution_count": 5,
   "id": "702945c8",
   "metadata": {},
   "outputs": [
    {
     "name": "stderr",
     "output_type": "stream",
     "text": [
      "/Library/Frameworks/Python.framework/Versions/3.9/lib/python3.9/site-packages/IPython/core/interactiveshell.py:3361: DtypeWarning: Columns (12) have mixed types.Specify dtype option on import or set low_memory=False.\n",
      "  if (await self.run_code(code, result,  async_=asy)):\n"
     ]
    }
   ],
   "source": [
    "fname = os.path.join(data_dir, 'main/currentacct_txn.csv')\n",
    "df_trans = read_current(fname, df_reg['id'])\n",
    "df_trans = summarise_id_day(df_trans, df_reg['id'], start_date, end_date)\n",
    "df_main['current'] = df_trans"
   ]
  },
  {
   "cell_type": "code",
   "execution_count": 6,
   "id": "f25109db",
   "metadata": {},
   "outputs": [],
   "source": [
    "fname = os.path.join(data_dir, 'main/creditcard_txn.csv')\n",
    "df_trans = read_credit(fname, df_reg['id'])\n",
    "df_trans = summarise_id_day(df_trans, df_reg['id'], start_date, end_date)\n",
    "df_main['credit'] = df_trans"
   ]
  },
  {
   "cell_type": "code",
   "execution_count": 7,
   "id": "b026f661",
   "metadata": {
    "scrolled": true
   },
   "outputs": [
    {
     "name": "stderr",
     "output_type": "stream",
     "text": [
      "/Library/Frameworks/Python.framework/Versions/3.9/lib/python3.9/site-packages/IPython/core/interactiveshell.py:3361: DtypeWarning: Columns (14) have mixed types.Specify dtype option on import or set low_memory=False.\n",
      "  if (await self.run_code(code, result,  async_=asy)):\n"
     ]
    }
   ],
   "source": [
    "fname = os.path.join(data_dir, 'main/savingacct_txn.csv')\n",
    "df_trans = read_saving(fname, df_reg['id'])\n",
    "df_trans = summarise_id_day(df_trans, df_reg['id'], start_date, end_date)\n",
    "df_main['saving'] = df_trans"
   ]
  },
  {
   "cell_type": "markdown",
   "id": "149d7d8b",
   "metadata": {},
   "source": [
    "### Feature extraction"
   ]
  },
  {
   "cell_type": "markdown",
   "id": "861f9860",
   "metadata": {},
   "source": [
    "Param tuning"
   ]
  },
  {
   "cell_type": "code",
   "execution_count": 58,
   "id": "2990d3a5",
   "metadata": {
    "scrolled": false
   },
   "outputs": [
    {
     "data": {
      "application/vnd.jupyter.widget-view+json": {
       "model_id": "70a82a97c3a14e63ba9203f3621a0470",
       "version_major": 2,
       "version_minor": 0
      },
      "text/plain": [
       "  0%|          | 0/6049 [00:00<?, ?it/s]"
      ]
     },
     "metadata": {},
     "output_type": "display_data"
    },
    {
     "name": "stdout",
     "output_type": "stream",
     "text": [
      "saving 7 diff 30 [0.65 0.66 0.63] 0.6482\n",
      "saving 7 diff 40 [0.63 0.63 0.62] 0.6282\n",
      "saving 7 diff 50 [0.62 0.61 0.62] 0.617\n",
      "saving 7 diff 60 [0.66 0.63 0.67] 0.6563\n",
      "saving 7 transact 30 [0.62 0.7  0.62] 0.6453\n",
      "saving 7 transact 40 [0.59 0.63 0.57] 0.5963\n",
      "saving 7 transact 50 [0.66 0.67 0.65] 0.6573\n",
      "saving 7 transact 60 [0.64 0.67 0.65] 0.6536\n"
     ]
    },
    {
     "data": {
      "application/vnd.jupyter.widget-view+json": {
       "model_id": "1221ccb4e4d44cf593dd3bfd38cabe63",
       "version_major": 2,
       "version_minor": 0
      },
      "text/plain": [
       "  0%|          | 0/6049 [00:00<?, ?it/s]"
      ]
     },
     "metadata": {},
     "output_type": "display_data"
    },
    {
     "name": "stdout",
     "output_type": "stream",
     "text": [
      "saving 14 diff 30 [0.69 0.65 0.59] 0.641\n",
      "saving 14 diff 40 [0.7  0.64 0.64] 0.6593\n",
      "saving 14 diff 50 [0.63 0.6  0.6 ] 0.6097\n",
      "saving 14 diff 60 [0.62 0.61 0.64] 0.6201\n",
      "saving 14 transact 30 [0.64 0.73 0.65] 0.6759\n",
      "saving 14 transact 40 [0.59 0.66 0.59] 0.6108\n",
      "saving 14 transact 50 [0.68 0.71 0.63] 0.6721\n",
      "saving 14 transact 60 [0.66 0.69 0.64] 0.6624\n"
     ]
    },
    {
     "data": {
      "application/vnd.jupyter.widget-view+json": {
       "model_id": "e5c27e75d7f9434cbd8d906a3559b8e5",
       "version_major": 2,
       "version_minor": 0
      },
      "text/plain": [
       "  0%|          | 0/6049 [00:00<?, ?it/s]"
      ]
     },
     "metadata": {},
     "output_type": "display_data"
    },
    {
     "name": "stdout",
     "output_type": "stream",
     "text": [
      "saving 21 diff 30 [0.66 0.62 0.66] 0.649\n",
      "saving 21 diff 40 [0.63 0.64 0.63] 0.633\n",
      "saving 21 diff 50 [0.65 0.64 0.62] 0.637\n",
      "saving 21 diff 60 [0.6  0.63 0.65] 0.6244\n",
      "saving 21 transact 30 [0.64 0.67 0.65] 0.6531\n",
      "saving 21 transact 40 [0.61 0.73 0.6 ] 0.6472\n",
      "saving 21 transact 50 [0.66 0.69 0.63] 0.6596\n",
      "saving 21 transact 60 [0.62 0.67 0.65] 0.6496\n"
     ]
    },
    {
     "data": {
      "application/vnd.jupyter.widget-view+json": {
       "model_id": "13323ffb2cc04d37a8058cda909b8af7",
       "version_major": 2,
       "version_minor": 0
      },
      "text/plain": [
       "  0%|          | 0/6049 [00:00<?, ?it/s]"
      ]
     },
     "metadata": {},
     "output_type": "display_data"
    },
    {
     "name": "stdout",
     "output_type": "stream",
     "text": [
      "saving 28 diff 30 [0.57 0.6  0.63] 0.603\n",
      "saving 28 diff 40 [0.59 0.61 0.65] 0.6181\n",
      "saving 28 diff 50 [0.6  0.63 0.71] 0.6451\n",
      "saving 28 diff 60 [0.66 0.67 0.72] 0.6832\n",
      "saving 28 transact 30 [0.61 0.65 0.63] 0.6305\n",
      "saving 28 transact 40 [0.56 0.71 0.61] 0.6243\n",
      "saving 28 transact 50 [0.6  0.68 0.61] 0.6296\n",
      "saving 28 transact 60 [0.61 0.63 0.59] 0.6111\n"
     ]
    },
    {
     "data": {
      "application/vnd.jupyter.widget-view+json": {
       "model_id": "dcb81b9139a945778fe1b349e9eae878",
       "version_major": 2,
       "version_minor": 0
      },
      "text/plain": [
       "  0%|          | 0/6049 [00:00<?, ?it/s]"
      ]
     },
     "metadata": {},
     "output_type": "display_data"
    },
    {
     "name": "stdout",
     "output_type": "stream",
     "text": [
      "current 7 diff 30 [0.55 0.55 0.62] 0.572\n",
      "current 7 diff 40 [0.53 0.58 0.59] 0.564\n",
      "current 7 diff 50 [0.57 0.54 0.61] 0.5723\n",
      "current 7 diff 60 [0.57 0.57 0.58] 0.5734\n",
      "current 7 transact 30 [0.57 0.54 0.67] 0.5936\n",
      "current 7 transact 40 [0.57 0.56 0.3 ] 0.4768\n",
      "current 7 transact 50 [0.55 0.56 0.69] 0.602\n",
      "current 7 transact 60 [0.58 0.59 0.63] 0.5975\n"
     ]
    },
    {
     "data": {
      "application/vnd.jupyter.widget-view+json": {
       "model_id": "7311806d94614635825c3a0a6162a02a",
       "version_major": 2,
       "version_minor": 0
      },
      "text/plain": [
       "  0%|          | 0/6049 [00:00<?, ?it/s]"
      ]
     },
     "metadata": {},
     "output_type": "display_data"
    },
    {
     "name": "stdout",
     "output_type": "stream",
     "text": [
      "current 14 diff 30 [0.54 0.55 0.61] 0.5655\n",
      "current 14 diff 40 [0.53 0.62 0.55] 0.5678\n",
      "current 14 diff 50 [0.53 0.6  0.64] 0.5875\n",
      "current 14 diff 60 [0.52 0.6  0.63] 0.5832\n",
      "current 14 transact 30 [0.52 0.52 0.48] 0.5101\n",
      "current 14 transact 40 [0.59 0.61 0.63] 0.6084\n",
      "current 14 transact 50 [0.58 0.55 0.65] 0.5955\n",
      "current 14 transact 60 [0.58 0.61 0.62] 0.5995\n"
     ]
    },
    {
     "data": {
      "application/vnd.jupyter.widget-view+json": {
       "model_id": "9632b47eaf184ef09082f3ad13da7af6",
       "version_major": 2,
       "version_minor": 0
      },
      "text/plain": [
       "  0%|          | 0/6049 [00:00<?, ?it/s]"
      ]
     },
     "metadata": {},
     "output_type": "display_data"
    },
    {
     "name": "stdout",
     "output_type": "stream",
     "text": [
      "current 21 diff 30 [0.55 0.56 0.49] 0.5308\n",
      "current 21 diff 40 [0.53 0.54 0.58] 0.5489\n",
      "current 21 diff 50 [0.52 0.6  0.57] 0.5645\n",
      "current 21 diff 60 [0.52 0.6  0.57] 0.5629\n",
      "current 21 transact 30 [0.57 0.57 0.54] 0.5603\n",
      "current 21 transact 40 [0.58 0.54 0.6 ] 0.573\n",
      "current 21 transact 50 [0.59 0.52 0.59] 0.5659\n",
      "current 21 transact 60 [0.58 0.61 0.59] 0.5929\n"
     ]
    },
    {
     "data": {
      "application/vnd.jupyter.widget-view+json": {
       "model_id": "53743c411d744bf6be8d8377b1955350",
       "version_major": 2,
       "version_minor": 0
      },
      "text/plain": [
       "  0%|          | 0/6049 [00:00<?, ?it/s]"
      ]
     },
     "metadata": {},
     "output_type": "display_data"
    },
    {
     "name": "stdout",
     "output_type": "stream",
     "text": [
      "current 28 diff 30 [0.58 0.6  0.53] 0.5684\n",
      "current 28 diff 40 [0.51 0.61 0.52] 0.546\n",
      "current 28 diff 50 [0.53 0.57 0.6 ] 0.5655\n",
      "current 28 diff 60 [0.52 0.54 0.54] 0.5365\n",
      "current 28 transact 30 [0.58 0.58 0.58] 0.5797\n",
      "current 28 transact 40 [0.56 0.54 0.6 ] 0.5666\n",
      "current 28 transact 50 [0.56 0.53 0.59] 0.56\n",
      "current 28 transact 60 [0.56 0.61 0.56] 0.5743\n"
     ]
    },
    {
     "data": {
      "application/vnd.jupyter.widget-view+json": {
       "model_id": "14cdd5bb3249499f88fbb21486f04da4",
       "version_major": 2,
       "version_minor": 0
      },
      "text/plain": [
       "  0%|          | 0/6049 [00:00<?, ?it/s]"
      ]
     },
     "metadata": {},
     "output_type": "display_data"
    },
    {
     "name": "stdout",
     "output_type": "stream",
     "text": [
      "credit 7 diff 30 [0.47 0.49 0.55] 0.5016\n",
      "credit 7 diff 40 [0.47 0.5  0.51] 0.4935\n",
      "credit 7 diff 50 [0.52 0.39 0.5 ] 0.4702\n",
      "credit 7 diff 60 [0.5  0.45 0.54] 0.4953\n",
      "credit 7 transact 30 [0.62 0.53 0.43] 0.5251\n",
      "credit 7 transact 40 [0.38 0.47 0.46] 0.4379\n",
      "credit 7 transact 50 [0.39 0.45 0.49] 0.4464\n",
      "credit 7 transact 60 [0.46 0.54 0.52] 0.5041\n"
     ]
    },
    {
     "data": {
      "application/vnd.jupyter.widget-view+json": {
       "model_id": "4c9c9be136e946dc8ce774837451ee59",
       "version_major": 2,
       "version_minor": 0
      },
      "text/plain": [
       "  0%|          | 0/6049 [00:00<?, ?it/s]"
      ]
     },
     "metadata": {},
     "output_type": "display_data"
    },
    {
     "name": "stdout",
     "output_type": "stream",
     "text": [
      "credit 14 diff 30 [0.52 0.46 0.53] 0.5053\n",
      "credit 14 diff 40 [0.49 0.47 0.43] 0.4635\n",
      "credit 14 diff 50 [0.49 0.5  0.6 ] 0.5277\n",
      "credit 14 diff 60 [0.45 0.47 0.45] 0.4555\n",
      "credit 14 transact 30 [0.5  0.46 0.48] 0.4811\n",
      "credit 14 transact 40 [0.44 0.48 0.56] 0.495\n",
      "credit 14 transact 50 [0.49 0.52 0.42] 0.4744\n",
      "credit 14 transact 60 [0.47 0.54 0.54] 0.5156\n"
     ]
    },
    {
     "data": {
      "application/vnd.jupyter.widget-view+json": {
       "model_id": "3bede2cd055e4f4595edbbb4659cf14d",
       "version_major": 2,
       "version_minor": 0
      },
      "text/plain": [
       "  0%|          | 0/6049 [00:00<?, ?it/s]"
      ]
     },
     "metadata": {},
     "output_type": "display_data"
    },
    {
     "name": "stdout",
     "output_type": "stream",
     "text": [
      "credit 21 diff 30 [0.41 0.44 0.48] 0.4429\n",
      "credit 21 diff 40 [0.46 0.44 0.4 ] 0.4334\n",
      "credit 21 diff 50 [0.44 0.45 0.53] 0.4724\n",
      "credit 21 diff 60 [0.37 0.43 0.49] 0.4323\n",
      "credit 21 transact 30 [0.41 0.52 0.52] 0.4847\n",
      "credit 21 transact 40 [0.45 0.5  0.6 ] 0.5166\n",
      "credit 21 transact 50 [0.5  0.51 0.44] 0.4855\n",
      "credit 21 transact 60 [0.51 0.55 0.6 ] 0.554\n"
     ]
    },
    {
     "data": {
      "application/vnd.jupyter.widget-view+json": {
       "model_id": "49e573fbbc734bc2a8c44a0a2d75ba5c",
       "version_major": 2,
       "version_minor": 0
      },
      "text/plain": [
       "  0%|          | 0/6049 [00:00<?, ?it/s]"
      ]
     },
     "metadata": {},
     "output_type": "display_data"
    },
    {
     "name": "stdout",
     "output_type": "stream",
     "text": [
      "credit 28 diff 30 [0.54 0.42 0.49] 0.4852\n",
      "credit 28 diff 40 [0.56 0.39 0.46] 0.4718\n",
      "credit 28 diff 50 [0.44 0.44 0.46] 0.4441\n",
      "credit 28 diff 60 [0.57 0.42 0.43] 0.47\n",
      "credit 28 transact 30 [0.45 0.54 0.44] 0.4775\n",
      "credit 28 transact 40 [0.54 0.49 0.63] 0.5513\n",
      "credit 28 transact 50 [0.54 0.48 0.62] 0.5474\n",
      "credit 28 transact 60 [0.47 0.5  0.56] 0.51\n"
     ]
    }
   ],
   "source": [
    "for acc_type in ['saving', 'current', 'credit']:\n",
    "    \n",
    "    df_trans = df_main[acc_type]\n",
    "    \n",
    "    for rolling_window in [7, 14, 21, 28]:\n",
    "\n",
    "        cache_dir = 'rolled_cache/{}'.format(acc_type)\n",
    "        dict_rolled = roll_df_cache(df_trans, df_reg['id'], rolling_window, cache_dir)\n",
    "\n",
    "\n",
    "        df_rolled_full = pd.concat(list(dict_rolled.values()))\n",
    "        df_rolled_full = np.log(df_rolled_full.replace({0: 1}))\n",
    "\n",
    "        # rolled diff\n",
    "        df_rolled_diff = pd.concat(list(dict_rolled.values()))\n",
    "        df_rolled_diff = get_diff(df_rolled_diff)\n",
    "        df_rolled_diff = np.log(df_rolled_diff.replace({0: 1}))\n",
    "\n",
    "\n",
    "        for selected in ['diff', 'transact']:\n",
    "\n",
    "            selected_c = selected + '_c'\n",
    "            selected_d = selected + '_d'\n",
    "            selected_full_df = df_rolled_full if selected == 'transact' else df_rolled_diff\n",
    "            selected_feat_extractor = get_X_amount if selected == 'transact' else get_X_diff\n",
    "\n",
    "            y = df_reg['is_affluent_cur']\n",
    "\n",
    "            for nbins in [30, 40, 50, 60]:\n",
    "\n",
    "                bins = {\n",
    "                    selected_c: np.linspace(\n",
    "                        selected_full_df[selected_c].min(), \n",
    "                        selected_full_df[selected_c].max(), \n",
    "                        nbins\n",
    "                    ),\n",
    "                    selected_d: np.linspace(\n",
    "                        selected_full_df[selected_d].min(), \n",
    "                        selected_full_df[selected_d].max(), \n",
    "                        nbins\n",
    "                    )\n",
    "                }\n",
    "\n",
    "                X, meta = selected_feat_extractor(dict_rolled, df_reg['id'], bins)\n",
    "\n",
    "                # remove features with all 0s\n",
    "                X = X[:, X.sum(axis=0) > 10]\n",
    "\n",
    "                X_train, y_train = split_by_idxs(X, y, train_idxs)\n",
    "\n",
    "                # cross validation\n",
    "                scores = []\n",
    "                skf = StratifiedKFold(n_splits=3, random_state=None, shuffle=False)\n",
    "                for train_index, test_index in skf.split(X_train, y_train):\n",
    "                    svm = get_svm_classifier()\n",
    "                    svm.fit(X_train[train_index, :], y_train[train_index])\n",
    "                    pred_probs = svm.predict_proba(X_train[test_index, :])\n",
    "                    score = roc_auc_score(y_train[test_index], pred_probs[:, 1])\n",
    "                    scores.append(score)\n",
    "                scores = np.array(scores)\n",
    "                print(acc_type, rolling_window, selected, nbins, scores.round(2), round(scores.mean(), 4))"
   ]
  },
  {
   "cell_type": "markdown",
   "id": "f1812482",
   "metadata": {},
   "source": [
    "Visualisation"
   ]
  },
  {
   "cell_type": "code",
   "execution_count": 310,
   "id": "267e02ba",
   "metadata": {},
   "outputs": [
    {
     "data": {
      "application/vnd.plotly.v1+json": {
       "config": {
        "plotlyServerURL": "https://plot.ly"
       },
       "data": [
        {
         "hovertemplate": "y=0.0<br>type=diff_c<br>amount=%{x}<br>value=%{y}<extra></extra>",
         "legendgroup": "0.0",
         "line": {
          "color": "#636efa",
          "dash": "solid",
          "shape": "spline"
         },
         "mode": "lines",
         "name": "0.0",
         "orientation": "v",
         "showlegend": true,
         "type": "scatter",
         "x": [
          0,
          1,
          2,
          3,
          4,
          5,
          6,
          7,
          8,
          9,
          10,
          11,
          12,
          13,
          14,
          15,
          16,
          17,
          18,
          19,
          20,
          21,
          22,
          23,
          24,
          25,
          26,
          27,
          28,
          29
         ],
         "xaxis": "x",
         "y": [
          0,
          0.7559493670886076,
          0.3682700421940928,
          0.6725738396624472,
          0.6043881856540084,
          0.9221940928270043,
          1.2678481012658227,
          1.370801687763713,
          2.2519831223628692,
          2.299746835443038,
          2.761350210970464,
          3.2887763713080167,
          3.0962025316455697,
          3.1669198312236286,
          2.8352742616033755,
          2.628354430379747,
          2.1760337552742617,
          1.7837974683544304,
          1.360675105485232,
          0.9621940928270042,
          0.6617721518987342,
          0.38244725738396623,
          0.2239662447257384,
          0.15257383966244725,
          0.03172995780590717,
          0.012827004219409282,
          0.004894514767932489,
          0.0010126582278481013,
          0.0021940928270042194,
          0.00016877637130801687
         ],
         "yaxis": "y"
        },
        {
         "hovertemplate": "y=0.0<br>type=diff_d<br>amount=%{x}<br>value=%{y}<extra></extra>",
         "legendgroup": "0.0",
         "line": {
          "color": "#636efa",
          "dash": "solid",
          "shape": "spline"
         },
         "mode": "lines",
         "name": "0.0",
         "orientation": "v",
         "showlegend": false,
         "type": "scatter",
         "x": [
          0,
          1,
          2,
          3,
          4,
          5,
          6,
          7,
          8,
          9,
          10,
          11,
          12,
          13,
          14,
          15,
          16,
          17,
          18,
          19,
          20,
          21,
          22,
          23,
          24,
          25,
          26,
          27,
          28,
          29
         ],
         "xaxis": "x2",
         "y": [
          0,
          1.6958649789029536,
          0.6751054852320675,
          0.9117299578059072,
          1.9714767932489452,
          1.9572995780590716,
          2.688607594936709,
          2.7640506329113923,
          3.6712236286919833,
          3.9870042194092825,
          4.232911392405064,
          4.504303797468355,
          4.65789029535865,
          4.451645569620253,
          4.233248945147679,
          3.383628691983122,
          2.7640506329113923,
          2.0892827004219408,
          1.4477637130801688,
          1.00168776371308,
          0.6259915611814346,
          0.42970464135021097,
          0.19240506329113924,
          0.07713080168776372,
          0.0369620253164557,
          0.01890295358649789,
          0.007594936708860759,
          0.003881856540084388,
          0.0008438818565400844,
          0.00016877637130801687
         ],
         "yaxis": "y2"
        },
        {
         "hovertemplate": "y=1.0<br>type=diff_c<br>amount=%{x}<br>value=%{y}<extra></extra>",
         "legendgroup": "1.0",
         "line": {
          "color": "#EF553B",
          "dash": "solid",
          "shape": "spline"
         },
         "mode": "lines",
         "name": "1.0",
         "orientation": "v",
         "showlegend": true,
         "type": "scatter",
         "x": [
          0,
          1,
          2,
          3,
          4,
          5,
          6,
          7,
          8,
          9,
          10,
          11,
          12,
          13,
          14,
          15,
          16,
          17,
          18,
          19,
          20,
          21,
          22,
          23,
          24,
          25,
          26,
          27,
          28,
          29
         ],
         "xaxis": "x",
         "y": [
          0,
          1.1370967741935485,
          0.31451612903225806,
          0.6048387096774194,
          0.5483870967741935,
          0.7338709677419355,
          0.8306451612903226,
          0.8790322580645161,
          1.032258064516129,
          1.4838709677419355,
          1.5403225806451613,
          2.064516129032258,
          2.217741935483871,
          2.3629032258064515,
          2.5403225806451615,
          2.25,
          2.7419354838709675,
          1.8709677419354838,
          1.3951612903225807,
          1.3387096774193548,
          1.1209677419354838,
          0.9758064516129032,
          0.7903225806451613,
          0.3467741935483871,
          0.10483870967741936,
          0.008064516129032258,
          0.12903225806451613,
          0,
          0,
          0
         ],
         "yaxis": "y"
        },
        {
         "hovertemplate": "y=1.0<br>type=diff_d<br>amount=%{x}<br>value=%{y}<extra></extra>",
         "legendgroup": "1.0",
         "line": {
          "color": "#EF553B",
          "dash": "solid",
          "shape": "spline"
         },
         "mode": "lines",
         "name": "1.0",
         "orientation": "v",
         "showlegend": false,
         "type": "scatter",
         "x": [
          0,
          1,
          2,
          3,
          4,
          5,
          6,
          7,
          8,
          9,
          10,
          11,
          12,
          13,
          14,
          15,
          16,
          17,
          18,
          19,
          20,
          21,
          22,
          23,
          24,
          25,
          26,
          27,
          28,
          29
         ],
         "xaxis": "x2",
         "y": [
          0,
          1.3870967741935485,
          0.1532258064516129,
          0.3548387096774194,
          1.4516129032258065,
          2.435483870967742,
          2.467741935483871,
          2.838709677419355,
          2.782258064516129,
          3.411290322580645,
          2.370967741935484,
          3.1370967741935485,
          3.024193548387097,
          3.806451612903226,
          4.096774193548387,
          3.782258064516129,
          3.7983870967741935,
          3.161290322580645,
          2.2580645161290325,
          1.5,
          0.8225806451612904,
          0.532258064516129,
          0.4274193548387097,
          0.25,
          0.12903225806451613,
          0.03225806451612903,
          0.10483870967741936,
          0.04838709677419355,
          0,
          0
         ],
         "yaxis": "y2"
        }
       ],
       "layout": {
        "annotations": [
         {
          "font": {},
          "showarrow": false,
          "text": "type=diff_c",
          "x": 0.245,
          "xanchor": "center",
          "xref": "paper",
          "y": 1,
          "yanchor": "bottom",
          "yref": "paper"
         },
         {
          "font": {},
          "showarrow": false,
          "text": "type=diff_d",
          "x": 0.755,
          "xanchor": "center",
          "xref": "paper",
          "y": 1,
          "yanchor": "bottom",
          "yref": "paper"
         }
        ],
        "legend": {
         "title": {
          "text": "y"
         },
         "tracegroupgap": 0
        },
        "margin": {
         "t": 60
        },
        "template": {
         "data": {
          "bar": [
           {
            "error_x": {
             "color": "#2a3f5f"
            },
            "error_y": {
             "color": "#2a3f5f"
            },
            "marker": {
             "line": {
              "color": "#E5ECF6",
              "width": 0.5
             },
             "pattern": {
              "fillmode": "overlay",
              "size": 10,
              "solidity": 0.2
             }
            },
            "type": "bar"
           }
          ],
          "barpolar": [
           {
            "marker": {
             "line": {
              "color": "#E5ECF6",
              "width": 0.5
             },
             "pattern": {
              "fillmode": "overlay",
              "size": 10,
              "solidity": 0.2
             }
            },
            "type": "barpolar"
           }
          ],
          "carpet": [
           {
            "aaxis": {
             "endlinecolor": "#2a3f5f",
             "gridcolor": "white",
             "linecolor": "white",
             "minorgridcolor": "white",
             "startlinecolor": "#2a3f5f"
            },
            "baxis": {
             "endlinecolor": "#2a3f5f",
             "gridcolor": "white",
             "linecolor": "white",
             "minorgridcolor": "white",
             "startlinecolor": "#2a3f5f"
            },
            "type": "carpet"
           }
          ],
          "choropleth": [
           {
            "colorbar": {
             "outlinewidth": 0,
             "ticks": ""
            },
            "type": "choropleth"
           }
          ],
          "contour": [
           {
            "colorbar": {
             "outlinewidth": 0,
             "ticks": ""
            },
            "colorscale": [
             [
              0,
              "#0d0887"
             ],
             [
              0.1111111111111111,
              "#46039f"
             ],
             [
              0.2222222222222222,
              "#7201a8"
             ],
             [
              0.3333333333333333,
              "#9c179e"
             ],
             [
              0.4444444444444444,
              "#bd3786"
             ],
             [
              0.5555555555555556,
              "#d8576b"
             ],
             [
              0.6666666666666666,
              "#ed7953"
             ],
             [
              0.7777777777777778,
              "#fb9f3a"
             ],
             [
              0.8888888888888888,
              "#fdca26"
             ],
             [
              1,
              "#f0f921"
             ]
            ],
            "type": "contour"
           }
          ],
          "contourcarpet": [
           {
            "colorbar": {
             "outlinewidth": 0,
             "ticks": ""
            },
            "type": "contourcarpet"
           }
          ],
          "heatmap": [
           {
            "colorbar": {
             "outlinewidth": 0,
             "ticks": ""
            },
            "colorscale": [
             [
              0,
              "#0d0887"
             ],
             [
              0.1111111111111111,
              "#46039f"
             ],
             [
              0.2222222222222222,
              "#7201a8"
             ],
             [
              0.3333333333333333,
              "#9c179e"
             ],
             [
              0.4444444444444444,
              "#bd3786"
             ],
             [
              0.5555555555555556,
              "#d8576b"
             ],
             [
              0.6666666666666666,
              "#ed7953"
             ],
             [
              0.7777777777777778,
              "#fb9f3a"
             ],
             [
              0.8888888888888888,
              "#fdca26"
             ],
             [
              1,
              "#f0f921"
             ]
            ],
            "type": "heatmap"
           }
          ],
          "heatmapgl": [
           {
            "colorbar": {
             "outlinewidth": 0,
             "ticks": ""
            },
            "colorscale": [
             [
              0,
              "#0d0887"
             ],
             [
              0.1111111111111111,
              "#46039f"
             ],
             [
              0.2222222222222222,
              "#7201a8"
             ],
             [
              0.3333333333333333,
              "#9c179e"
             ],
             [
              0.4444444444444444,
              "#bd3786"
             ],
             [
              0.5555555555555556,
              "#d8576b"
             ],
             [
              0.6666666666666666,
              "#ed7953"
             ],
             [
              0.7777777777777778,
              "#fb9f3a"
             ],
             [
              0.8888888888888888,
              "#fdca26"
             ],
             [
              1,
              "#f0f921"
             ]
            ],
            "type": "heatmapgl"
           }
          ],
          "histogram": [
           {
            "marker": {
             "pattern": {
              "fillmode": "overlay",
              "size": 10,
              "solidity": 0.2
             }
            },
            "type": "histogram"
           }
          ],
          "histogram2d": [
           {
            "colorbar": {
             "outlinewidth": 0,
             "ticks": ""
            },
            "colorscale": [
             [
              0,
              "#0d0887"
             ],
             [
              0.1111111111111111,
              "#46039f"
             ],
             [
              0.2222222222222222,
              "#7201a8"
             ],
             [
              0.3333333333333333,
              "#9c179e"
             ],
             [
              0.4444444444444444,
              "#bd3786"
             ],
             [
              0.5555555555555556,
              "#d8576b"
             ],
             [
              0.6666666666666666,
              "#ed7953"
             ],
             [
              0.7777777777777778,
              "#fb9f3a"
             ],
             [
              0.8888888888888888,
              "#fdca26"
             ],
             [
              1,
              "#f0f921"
             ]
            ],
            "type": "histogram2d"
           }
          ],
          "histogram2dcontour": [
           {
            "colorbar": {
             "outlinewidth": 0,
             "ticks": ""
            },
            "colorscale": [
             [
              0,
              "#0d0887"
             ],
             [
              0.1111111111111111,
              "#46039f"
             ],
             [
              0.2222222222222222,
              "#7201a8"
             ],
             [
              0.3333333333333333,
              "#9c179e"
             ],
             [
              0.4444444444444444,
              "#bd3786"
             ],
             [
              0.5555555555555556,
              "#d8576b"
             ],
             [
              0.6666666666666666,
              "#ed7953"
             ],
             [
              0.7777777777777778,
              "#fb9f3a"
             ],
             [
              0.8888888888888888,
              "#fdca26"
             ],
             [
              1,
              "#f0f921"
             ]
            ],
            "type": "histogram2dcontour"
           }
          ],
          "mesh3d": [
           {
            "colorbar": {
             "outlinewidth": 0,
             "ticks": ""
            },
            "type": "mesh3d"
           }
          ],
          "parcoords": [
           {
            "line": {
             "colorbar": {
              "outlinewidth": 0,
              "ticks": ""
             }
            },
            "type": "parcoords"
           }
          ],
          "pie": [
           {
            "automargin": true,
            "type": "pie"
           }
          ],
          "scatter": [
           {
            "marker": {
             "colorbar": {
              "outlinewidth": 0,
              "ticks": ""
             }
            },
            "type": "scatter"
           }
          ],
          "scatter3d": [
           {
            "line": {
             "colorbar": {
              "outlinewidth": 0,
              "ticks": ""
             }
            },
            "marker": {
             "colorbar": {
              "outlinewidth": 0,
              "ticks": ""
             }
            },
            "type": "scatter3d"
           }
          ],
          "scattercarpet": [
           {
            "marker": {
             "colorbar": {
              "outlinewidth": 0,
              "ticks": ""
             }
            },
            "type": "scattercarpet"
           }
          ],
          "scattergeo": [
           {
            "marker": {
             "colorbar": {
              "outlinewidth": 0,
              "ticks": ""
             }
            },
            "type": "scattergeo"
           }
          ],
          "scattergl": [
           {
            "marker": {
             "colorbar": {
              "outlinewidth": 0,
              "ticks": ""
             }
            },
            "type": "scattergl"
           }
          ],
          "scattermapbox": [
           {
            "marker": {
             "colorbar": {
              "outlinewidth": 0,
              "ticks": ""
             }
            },
            "type": "scattermapbox"
           }
          ],
          "scatterpolar": [
           {
            "marker": {
             "colorbar": {
              "outlinewidth": 0,
              "ticks": ""
             }
            },
            "type": "scatterpolar"
           }
          ],
          "scatterpolargl": [
           {
            "marker": {
             "colorbar": {
              "outlinewidth": 0,
              "ticks": ""
             }
            },
            "type": "scatterpolargl"
           }
          ],
          "scatterternary": [
           {
            "marker": {
             "colorbar": {
              "outlinewidth": 0,
              "ticks": ""
             }
            },
            "type": "scatterternary"
           }
          ],
          "surface": [
           {
            "colorbar": {
             "outlinewidth": 0,
             "ticks": ""
            },
            "colorscale": [
             [
              0,
              "#0d0887"
             ],
             [
              0.1111111111111111,
              "#46039f"
             ],
             [
              0.2222222222222222,
              "#7201a8"
             ],
             [
              0.3333333333333333,
              "#9c179e"
             ],
             [
              0.4444444444444444,
              "#bd3786"
             ],
             [
              0.5555555555555556,
              "#d8576b"
             ],
             [
              0.6666666666666666,
              "#ed7953"
             ],
             [
              0.7777777777777778,
              "#fb9f3a"
             ],
             [
              0.8888888888888888,
              "#fdca26"
             ],
             [
              1,
              "#f0f921"
             ]
            ],
            "type": "surface"
           }
          ],
          "table": [
           {
            "cells": {
             "fill": {
              "color": "#EBF0F8"
             },
             "line": {
              "color": "white"
             }
            },
            "header": {
             "fill": {
              "color": "#C8D4E3"
             },
             "line": {
              "color": "white"
             }
            },
            "type": "table"
           }
          ]
         },
         "layout": {
          "annotationdefaults": {
           "arrowcolor": "#2a3f5f",
           "arrowhead": 0,
           "arrowwidth": 1
          },
          "autotypenumbers": "strict",
          "coloraxis": {
           "colorbar": {
            "outlinewidth": 0,
            "ticks": ""
           }
          },
          "colorscale": {
           "diverging": [
            [
             0,
             "#8e0152"
            ],
            [
             0.1,
             "#c51b7d"
            ],
            [
             0.2,
             "#de77ae"
            ],
            [
             0.3,
             "#f1b6da"
            ],
            [
             0.4,
             "#fde0ef"
            ],
            [
             0.5,
             "#f7f7f7"
            ],
            [
             0.6,
             "#e6f5d0"
            ],
            [
             0.7,
             "#b8e186"
            ],
            [
             0.8,
             "#7fbc41"
            ],
            [
             0.9,
             "#4d9221"
            ],
            [
             1,
             "#276419"
            ]
           ],
           "sequential": [
            [
             0,
             "#0d0887"
            ],
            [
             0.1111111111111111,
             "#46039f"
            ],
            [
             0.2222222222222222,
             "#7201a8"
            ],
            [
             0.3333333333333333,
             "#9c179e"
            ],
            [
             0.4444444444444444,
             "#bd3786"
            ],
            [
             0.5555555555555556,
             "#d8576b"
            ],
            [
             0.6666666666666666,
             "#ed7953"
            ],
            [
             0.7777777777777778,
             "#fb9f3a"
            ],
            [
             0.8888888888888888,
             "#fdca26"
            ],
            [
             1,
             "#f0f921"
            ]
           ],
           "sequentialminus": [
            [
             0,
             "#0d0887"
            ],
            [
             0.1111111111111111,
             "#46039f"
            ],
            [
             0.2222222222222222,
             "#7201a8"
            ],
            [
             0.3333333333333333,
             "#9c179e"
            ],
            [
             0.4444444444444444,
             "#bd3786"
            ],
            [
             0.5555555555555556,
             "#d8576b"
            ],
            [
             0.6666666666666666,
             "#ed7953"
            ],
            [
             0.7777777777777778,
             "#fb9f3a"
            ],
            [
             0.8888888888888888,
             "#fdca26"
            ],
            [
             1,
             "#f0f921"
            ]
           ]
          },
          "colorway": [
           "#636efa",
           "#EF553B",
           "#00cc96",
           "#ab63fa",
           "#FFA15A",
           "#19d3f3",
           "#FF6692",
           "#B6E880",
           "#FF97FF",
           "#FECB52"
          ],
          "font": {
           "color": "#2a3f5f"
          },
          "geo": {
           "bgcolor": "white",
           "lakecolor": "white",
           "landcolor": "#E5ECF6",
           "showlakes": true,
           "showland": true,
           "subunitcolor": "white"
          },
          "hoverlabel": {
           "align": "left"
          },
          "hovermode": "closest",
          "mapbox": {
           "style": "light"
          },
          "paper_bgcolor": "white",
          "plot_bgcolor": "#E5ECF6",
          "polar": {
           "angularaxis": {
            "gridcolor": "white",
            "linecolor": "white",
            "ticks": ""
           },
           "bgcolor": "#E5ECF6",
           "radialaxis": {
            "gridcolor": "white",
            "linecolor": "white",
            "ticks": ""
           }
          },
          "scene": {
           "xaxis": {
            "backgroundcolor": "#E5ECF6",
            "gridcolor": "white",
            "gridwidth": 2,
            "linecolor": "white",
            "showbackground": true,
            "ticks": "",
            "zerolinecolor": "white"
           },
           "yaxis": {
            "backgroundcolor": "#E5ECF6",
            "gridcolor": "white",
            "gridwidth": 2,
            "linecolor": "white",
            "showbackground": true,
            "ticks": "",
            "zerolinecolor": "white"
           },
           "zaxis": {
            "backgroundcolor": "#E5ECF6",
            "gridcolor": "white",
            "gridwidth": 2,
            "linecolor": "white",
            "showbackground": true,
            "ticks": "",
            "zerolinecolor": "white"
           }
          },
          "shapedefaults": {
           "line": {
            "color": "#2a3f5f"
           }
          },
          "ternary": {
           "aaxis": {
            "gridcolor": "white",
            "linecolor": "white",
            "ticks": ""
           },
           "baxis": {
            "gridcolor": "white",
            "linecolor": "white",
            "ticks": ""
           },
           "bgcolor": "#E5ECF6",
           "caxis": {
            "gridcolor": "white",
            "linecolor": "white",
            "ticks": ""
           }
          },
          "title": {
           "x": 0.05
          },
          "xaxis": {
           "automargin": true,
           "gridcolor": "white",
           "linecolor": "white",
           "ticks": "",
           "title": {
            "standoff": 15
           },
           "zerolinecolor": "white",
           "zerolinewidth": 2
          },
          "yaxis": {
           "automargin": true,
           "gridcolor": "white",
           "linecolor": "white",
           "ticks": "",
           "title": {
            "standoff": 15
           },
           "zerolinecolor": "white",
           "zerolinewidth": 2
          }
         }
        },
        "xaxis": {
         "anchor": "y",
         "domain": [
          0,
          0.49
         ],
         "title": {
          "text": "amount"
         }
        },
        "xaxis2": {
         "anchor": "y2",
         "domain": [
          0.51,
          1
         ],
         "matches": "x",
         "title": {
          "text": "amount"
         }
        },
        "yaxis": {
         "anchor": "x",
         "domain": [
          0,
          1
         ],
         "title": {
          "text": "value"
         }
        },
        "yaxis2": {
         "anchor": "x2",
         "domain": [
          0,
          1
         ],
         "matches": "y",
         "showticklabels": false
        }
       }
      },
      "text/html": [
       "<div>                            <div id=\"a9c32264-add7-47be-9c8f-8bb24cc9ea5d\" class=\"plotly-graph-div\" style=\"height:525px; width:100%;\"></div>            <script type=\"text/javascript\">                require([\"plotly\"], function(Plotly) {                    window.PLOTLYENV=window.PLOTLYENV || {};                                    if (document.getElementById(\"a9c32264-add7-47be-9c8f-8bb24cc9ea5d\")) {                    Plotly.newPlot(                        \"a9c32264-add7-47be-9c8f-8bb24cc9ea5d\",                        [{\"hovertemplate\":\"y=0.0<br>type=diff_c<br>amount=%{x}<br>value=%{y}<extra></extra>\",\"legendgroup\":\"0.0\",\"line\":{\"color\":\"#636efa\",\"dash\":\"solid\",\"shape\":\"spline\"},\"mode\":\"lines\",\"name\":\"0.0\",\"orientation\":\"v\",\"showlegend\":true,\"type\":\"scatter\",\"x\":[0,1,2,3,4,5,6,7,8,9,10,11,12,13,14,15,16,17,18,19,20,21,22,23,24,25,26,27,28,29],\"xaxis\":\"x\",\"y\":[0.0,0.7559493670886076,0.3682700421940928,0.6725738396624472,0.6043881856540084,0.9221940928270043,1.2678481012658227,1.370801687763713,2.2519831223628692,2.299746835443038,2.761350210970464,3.2887763713080167,3.0962025316455697,3.1669198312236286,2.8352742616033755,2.628354430379747,2.1760337552742617,1.7837974683544304,1.360675105485232,0.9621940928270042,0.6617721518987342,0.38244725738396623,0.2239662447257384,0.15257383966244725,0.03172995780590717,0.012827004219409282,0.004894514767932489,0.0010126582278481013,0.0021940928270042194,0.00016877637130801687],\"yaxis\":\"y\"},{\"hovertemplate\":\"y=0.0<br>type=diff_d<br>amount=%{x}<br>value=%{y}<extra></extra>\",\"legendgroup\":\"0.0\",\"line\":{\"color\":\"#636efa\",\"dash\":\"solid\",\"shape\":\"spline\"},\"mode\":\"lines\",\"name\":\"0.0\",\"orientation\":\"v\",\"showlegend\":false,\"type\":\"scatter\",\"x\":[0,1,2,3,4,5,6,7,8,9,10,11,12,13,14,15,16,17,18,19,20,21,22,23,24,25,26,27,28,29],\"xaxis\":\"x2\",\"y\":[0.0,1.6958649789029536,0.6751054852320675,0.9117299578059072,1.9714767932489452,1.9572995780590716,2.688607594936709,2.7640506329113923,3.6712236286919833,3.9870042194092825,4.232911392405064,4.504303797468355,4.65789029535865,4.451645569620253,4.233248945147679,3.383628691983122,2.7640506329113923,2.0892827004219408,1.4477637130801688,1.00168776371308,0.6259915611814346,0.42970464135021097,0.19240506329113924,0.07713080168776372,0.0369620253164557,0.01890295358649789,0.007594936708860759,0.003881856540084388,0.0008438818565400844,0.00016877637130801687],\"yaxis\":\"y2\"},{\"hovertemplate\":\"y=1.0<br>type=diff_c<br>amount=%{x}<br>value=%{y}<extra></extra>\",\"legendgroup\":\"1.0\",\"line\":{\"color\":\"#EF553B\",\"dash\":\"solid\",\"shape\":\"spline\"},\"mode\":\"lines\",\"name\":\"1.0\",\"orientation\":\"v\",\"showlegend\":true,\"type\":\"scatter\",\"x\":[0,1,2,3,4,5,6,7,8,9,10,11,12,13,14,15,16,17,18,19,20,21,22,23,24,25,26,27,28,29],\"xaxis\":\"x\",\"y\":[0.0,1.1370967741935485,0.31451612903225806,0.6048387096774194,0.5483870967741935,0.7338709677419355,0.8306451612903226,0.8790322580645161,1.032258064516129,1.4838709677419355,1.5403225806451613,2.064516129032258,2.217741935483871,2.3629032258064515,2.5403225806451615,2.25,2.7419354838709675,1.8709677419354838,1.3951612903225807,1.3387096774193548,1.1209677419354838,0.9758064516129032,0.7903225806451613,0.3467741935483871,0.10483870967741936,0.008064516129032258,0.12903225806451613,0.0,0.0,0.0],\"yaxis\":\"y\"},{\"hovertemplate\":\"y=1.0<br>type=diff_d<br>amount=%{x}<br>value=%{y}<extra></extra>\",\"legendgroup\":\"1.0\",\"line\":{\"color\":\"#EF553B\",\"dash\":\"solid\",\"shape\":\"spline\"},\"mode\":\"lines\",\"name\":\"1.0\",\"orientation\":\"v\",\"showlegend\":false,\"type\":\"scatter\",\"x\":[0,1,2,3,4,5,6,7,8,9,10,11,12,13,14,15,16,17,18,19,20,21,22,23,24,25,26,27,28,29],\"xaxis\":\"x2\",\"y\":[0.0,1.3870967741935485,0.1532258064516129,0.3548387096774194,1.4516129032258065,2.435483870967742,2.467741935483871,2.838709677419355,2.782258064516129,3.411290322580645,2.370967741935484,3.1370967741935485,3.024193548387097,3.806451612903226,4.096774193548387,3.782258064516129,3.7983870967741935,3.161290322580645,2.2580645161290325,1.5,0.8225806451612904,0.532258064516129,0.4274193548387097,0.25,0.12903225806451613,0.03225806451612903,0.10483870967741936,0.04838709677419355,0.0,0.0],\"yaxis\":\"y2\"}],                        {\"annotations\":[{\"font\":{},\"showarrow\":false,\"text\":\"type=diff_c\",\"x\":0.245,\"xanchor\":\"center\",\"xref\":\"paper\",\"y\":1.0,\"yanchor\":\"bottom\",\"yref\":\"paper\"},{\"font\":{},\"showarrow\":false,\"text\":\"type=diff_d\",\"x\":0.755,\"xanchor\":\"center\",\"xref\":\"paper\",\"y\":1.0,\"yanchor\":\"bottom\",\"yref\":\"paper\"}],\"legend\":{\"title\":{\"text\":\"y\"},\"tracegroupgap\":0},\"margin\":{\"t\":60},\"template\":{\"data\":{\"bar\":[{\"error_x\":{\"color\":\"#2a3f5f\"},\"error_y\":{\"color\":\"#2a3f5f\"},\"marker\":{\"line\":{\"color\":\"#E5ECF6\",\"width\":0.5},\"pattern\":{\"fillmode\":\"overlay\",\"size\":10,\"solidity\":0.2}},\"type\":\"bar\"}],\"barpolar\":[{\"marker\":{\"line\":{\"color\":\"#E5ECF6\",\"width\":0.5},\"pattern\":{\"fillmode\":\"overlay\",\"size\":10,\"solidity\":0.2}},\"type\":\"barpolar\"}],\"carpet\":[{\"aaxis\":{\"endlinecolor\":\"#2a3f5f\",\"gridcolor\":\"white\",\"linecolor\":\"white\",\"minorgridcolor\":\"white\",\"startlinecolor\":\"#2a3f5f\"},\"baxis\":{\"endlinecolor\":\"#2a3f5f\",\"gridcolor\":\"white\",\"linecolor\":\"white\",\"minorgridcolor\":\"white\",\"startlinecolor\":\"#2a3f5f\"},\"type\":\"carpet\"}],\"choropleth\":[{\"colorbar\":{\"outlinewidth\":0,\"ticks\":\"\"},\"type\":\"choropleth\"}],\"contour\":[{\"colorbar\":{\"outlinewidth\":0,\"ticks\":\"\"},\"colorscale\":[[0.0,\"#0d0887\"],[0.1111111111111111,\"#46039f\"],[0.2222222222222222,\"#7201a8\"],[0.3333333333333333,\"#9c179e\"],[0.4444444444444444,\"#bd3786\"],[0.5555555555555556,\"#d8576b\"],[0.6666666666666666,\"#ed7953\"],[0.7777777777777778,\"#fb9f3a\"],[0.8888888888888888,\"#fdca26\"],[1.0,\"#f0f921\"]],\"type\":\"contour\"}],\"contourcarpet\":[{\"colorbar\":{\"outlinewidth\":0,\"ticks\":\"\"},\"type\":\"contourcarpet\"}],\"heatmap\":[{\"colorbar\":{\"outlinewidth\":0,\"ticks\":\"\"},\"colorscale\":[[0.0,\"#0d0887\"],[0.1111111111111111,\"#46039f\"],[0.2222222222222222,\"#7201a8\"],[0.3333333333333333,\"#9c179e\"],[0.4444444444444444,\"#bd3786\"],[0.5555555555555556,\"#d8576b\"],[0.6666666666666666,\"#ed7953\"],[0.7777777777777778,\"#fb9f3a\"],[0.8888888888888888,\"#fdca26\"],[1.0,\"#f0f921\"]],\"type\":\"heatmap\"}],\"heatmapgl\":[{\"colorbar\":{\"outlinewidth\":0,\"ticks\":\"\"},\"colorscale\":[[0.0,\"#0d0887\"],[0.1111111111111111,\"#46039f\"],[0.2222222222222222,\"#7201a8\"],[0.3333333333333333,\"#9c179e\"],[0.4444444444444444,\"#bd3786\"],[0.5555555555555556,\"#d8576b\"],[0.6666666666666666,\"#ed7953\"],[0.7777777777777778,\"#fb9f3a\"],[0.8888888888888888,\"#fdca26\"],[1.0,\"#f0f921\"]],\"type\":\"heatmapgl\"}],\"histogram\":[{\"marker\":{\"pattern\":{\"fillmode\":\"overlay\",\"size\":10,\"solidity\":0.2}},\"type\":\"histogram\"}],\"histogram2d\":[{\"colorbar\":{\"outlinewidth\":0,\"ticks\":\"\"},\"colorscale\":[[0.0,\"#0d0887\"],[0.1111111111111111,\"#46039f\"],[0.2222222222222222,\"#7201a8\"],[0.3333333333333333,\"#9c179e\"],[0.4444444444444444,\"#bd3786\"],[0.5555555555555556,\"#d8576b\"],[0.6666666666666666,\"#ed7953\"],[0.7777777777777778,\"#fb9f3a\"],[0.8888888888888888,\"#fdca26\"],[1.0,\"#f0f921\"]],\"type\":\"histogram2d\"}],\"histogram2dcontour\":[{\"colorbar\":{\"outlinewidth\":0,\"ticks\":\"\"},\"colorscale\":[[0.0,\"#0d0887\"],[0.1111111111111111,\"#46039f\"],[0.2222222222222222,\"#7201a8\"],[0.3333333333333333,\"#9c179e\"],[0.4444444444444444,\"#bd3786\"],[0.5555555555555556,\"#d8576b\"],[0.6666666666666666,\"#ed7953\"],[0.7777777777777778,\"#fb9f3a\"],[0.8888888888888888,\"#fdca26\"],[1.0,\"#f0f921\"]],\"type\":\"histogram2dcontour\"}],\"mesh3d\":[{\"colorbar\":{\"outlinewidth\":0,\"ticks\":\"\"},\"type\":\"mesh3d\"}],\"parcoords\":[{\"line\":{\"colorbar\":{\"outlinewidth\":0,\"ticks\":\"\"}},\"type\":\"parcoords\"}],\"pie\":[{\"automargin\":true,\"type\":\"pie\"}],\"scatter\":[{\"marker\":{\"colorbar\":{\"outlinewidth\":0,\"ticks\":\"\"}},\"type\":\"scatter\"}],\"scatter3d\":[{\"line\":{\"colorbar\":{\"outlinewidth\":0,\"ticks\":\"\"}},\"marker\":{\"colorbar\":{\"outlinewidth\":0,\"ticks\":\"\"}},\"type\":\"scatter3d\"}],\"scattercarpet\":[{\"marker\":{\"colorbar\":{\"outlinewidth\":0,\"ticks\":\"\"}},\"type\":\"scattercarpet\"}],\"scattergeo\":[{\"marker\":{\"colorbar\":{\"outlinewidth\":0,\"ticks\":\"\"}},\"type\":\"scattergeo\"}],\"scattergl\":[{\"marker\":{\"colorbar\":{\"outlinewidth\":0,\"ticks\":\"\"}},\"type\":\"scattergl\"}],\"scattermapbox\":[{\"marker\":{\"colorbar\":{\"outlinewidth\":0,\"ticks\":\"\"}},\"type\":\"scattermapbox\"}],\"scatterpolar\":[{\"marker\":{\"colorbar\":{\"outlinewidth\":0,\"ticks\":\"\"}},\"type\":\"scatterpolar\"}],\"scatterpolargl\":[{\"marker\":{\"colorbar\":{\"outlinewidth\":0,\"ticks\":\"\"}},\"type\":\"scatterpolargl\"}],\"scatterternary\":[{\"marker\":{\"colorbar\":{\"outlinewidth\":0,\"ticks\":\"\"}},\"type\":\"scatterternary\"}],\"surface\":[{\"colorbar\":{\"outlinewidth\":0,\"ticks\":\"\"},\"colorscale\":[[0.0,\"#0d0887\"],[0.1111111111111111,\"#46039f\"],[0.2222222222222222,\"#7201a8\"],[0.3333333333333333,\"#9c179e\"],[0.4444444444444444,\"#bd3786\"],[0.5555555555555556,\"#d8576b\"],[0.6666666666666666,\"#ed7953\"],[0.7777777777777778,\"#fb9f3a\"],[0.8888888888888888,\"#fdca26\"],[1.0,\"#f0f921\"]],\"type\":\"surface\"}],\"table\":[{\"cells\":{\"fill\":{\"color\":\"#EBF0F8\"},\"line\":{\"color\":\"white\"}},\"header\":{\"fill\":{\"color\":\"#C8D4E3\"},\"line\":{\"color\":\"white\"}},\"type\":\"table\"}]},\"layout\":{\"annotationdefaults\":{\"arrowcolor\":\"#2a3f5f\",\"arrowhead\":0,\"arrowwidth\":1},\"autotypenumbers\":\"strict\",\"coloraxis\":{\"colorbar\":{\"outlinewidth\":0,\"ticks\":\"\"}},\"colorscale\":{\"diverging\":[[0,\"#8e0152\"],[0.1,\"#c51b7d\"],[0.2,\"#de77ae\"],[0.3,\"#f1b6da\"],[0.4,\"#fde0ef\"],[0.5,\"#f7f7f7\"],[0.6,\"#e6f5d0\"],[0.7,\"#b8e186\"],[0.8,\"#7fbc41\"],[0.9,\"#4d9221\"],[1,\"#276419\"]],\"sequential\":[[0.0,\"#0d0887\"],[0.1111111111111111,\"#46039f\"],[0.2222222222222222,\"#7201a8\"],[0.3333333333333333,\"#9c179e\"],[0.4444444444444444,\"#bd3786\"],[0.5555555555555556,\"#d8576b\"],[0.6666666666666666,\"#ed7953\"],[0.7777777777777778,\"#fb9f3a\"],[0.8888888888888888,\"#fdca26\"],[1.0,\"#f0f921\"]],\"sequentialminus\":[[0.0,\"#0d0887\"],[0.1111111111111111,\"#46039f\"],[0.2222222222222222,\"#7201a8\"],[0.3333333333333333,\"#9c179e\"],[0.4444444444444444,\"#bd3786\"],[0.5555555555555556,\"#d8576b\"],[0.6666666666666666,\"#ed7953\"],[0.7777777777777778,\"#fb9f3a\"],[0.8888888888888888,\"#fdca26\"],[1.0,\"#f0f921\"]]},\"colorway\":[\"#636efa\",\"#EF553B\",\"#00cc96\",\"#ab63fa\",\"#FFA15A\",\"#19d3f3\",\"#FF6692\",\"#B6E880\",\"#FF97FF\",\"#FECB52\"],\"font\":{\"color\":\"#2a3f5f\"},\"geo\":{\"bgcolor\":\"white\",\"lakecolor\":\"white\",\"landcolor\":\"#E5ECF6\",\"showlakes\":true,\"showland\":true,\"subunitcolor\":\"white\"},\"hoverlabel\":{\"align\":\"left\"},\"hovermode\":\"closest\",\"mapbox\":{\"style\":\"light\"},\"paper_bgcolor\":\"white\",\"plot_bgcolor\":\"#E5ECF6\",\"polar\":{\"angularaxis\":{\"gridcolor\":\"white\",\"linecolor\":\"white\",\"ticks\":\"\"},\"bgcolor\":\"#E5ECF6\",\"radialaxis\":{\"gridcolor\":\"white\",\"linecolor\":\"white\",\"ticks\":\"\"}},\"scene\":{\"xaxis\":{\"backgroundcolor\":\"#E5ECF6\",\"gridcolor\":\"white\",\"gridwidth\":2,\"linecolor\":\"white\",\"showbackground\":true,\"ticks\":\"\",\"zerolinecolor\":\"white\"},\"yaxis\":{\"backgroundcolor\":\"#E5ECF6\",\"gridcolor\":\"white\",\"gridwidth\":2,\"linecolor\":\"white\",\"showbackground\":true,\"ticks\":\"\",\"zerolinecolor\":\"white\"},\"zaxis\":{\"backgroundcolor\":\"#E5ECF6\",\"gridcolor\":\"white\",\"gridwidth\":2,\"linecolor\":\"white\",\"showbackground\":true,\"ticks\":\"\",\"zerolinecolor\":\"white\"}},\"shapedefaults\":{\"line\":{\"color\":\"#2a3f5f\"}},\"ternary\":{\"aaxis\":{\"gridcolor\":\"white\",\"linecolor\":\"white\",\"ticks\":\"\"},\"baxis\":{\"gridcolor\":\"white\",\"linecolor\":\"white\",\"ticks\":\"\"},\"bgcolor\":\"#E5ECF6\",\"caxis\":{\"gridcolor\":\"white\",\"linecolor\":\"white\",\"ticks\":\"\"}},\"title\":{\"x\":0.05},\"xaxis\":{\"automargin\":true,\"gridcolor\":\"white\",\"linecolor\":\"white\",\"ticks\":\"\",\"title\":{\"standoff\":15},\"zerolinecolor\":\"white\",\"zerolinewidth\":2},\"yaxis\":{\"automargin\":true,\"gridcolor\":\"white\",\"linecolor\":\"white\",\"ticks\":\"\",\"title\":{\"standoff\":15},\"zerolinecolor\":\"white\",\"zerolinewidth\":2}}},\"xaxis\":{\"anchor\":\"y\",\"domain\":[0.0,0.49],\"title\":{\"text\":\"amount\"}},\"xaxis2\":{\"anchor\":\"y2\",\"domain\":[0.51,1.0],\"matches\":\"x\",\"title\":{\"text\":\"amount\"}},\"yaxis\":{\"anchor\":\"x\",\"domain\":[0.0,1.0],\"title\":{\"text\":\"value\"}},\"yaxis2\":{\"anchor\":\"x2\",\"domain\":[0.0,1.0],\"matches\":\"y\",\"showticklabels\":false}},                        {\"responsive\": true}                    ).then(function(){\n",
       "                            \n",
       "var gd = document.getElementById('a9c32264-add7-47be-9c8f-8bb24cc9ea5d');\n",
       "var x = new MutationObserver(function (mutations, observer) {{\n",
       "        var display = window.getComputedStyle(gd).display;\n",
       "        if (!display || display === 'none') {{\n",
       "            console.log([gd, 'removed!']);\n",
       "            Plotly.purge(gd);\n",
       "            observer.disconnect();\n",
       "        }}\n",
       "}});\n",
       "\n",
       "// Listen for the removal of the full notebook cells\n",
       "var notebookContainer = gd.closest('#notebook-container');\n",
       "if (notebookContainer) {{\n",
       "    x.observe(notebookContainer, {childList: true});\n",
       "}}\n",
       "\n",
       "// Listen for the clearing of the current output cell\n",
       "var outputEl = gd.closest('.output');\n",
       "if (outputEl) {{\n",
       "    x.observe(outputEl, {childList: true});\n",
       "}}\n",
       "\n",
       "                        })                };                });            </script>        </div>"
      ]
     },
     "metadata": {},
     "output_type": "display_data"
    }
   ],
   "source": [
    "# selected = 'transact'\n",
    "selected = 'diff'\n",
    "selected_c = selected + '_c'\n",
    "selected_d = selected + '_d'\n",
    "\n",
    "nbins = 30\n",
    "\n",
    "if selected == 'diff':\n",
    "    bins = {\n",
    "        'diff_c': np.linspace(\n",
    "            df_rolled_diff['diff_c'].min(), \n",
    "            df_rolled_diff['diff_c'].max(), \n",
    "            nbins\n",
    "        ),\n",
    "        'diff_d': np.linspace(\n",
    "            df_rolled_diff['diff_d'].min(), \n",
    "            df_rolled_diff['diff_d'].max(), \n",
    "            nbins\n",
    "        )\n",
    "    }\n",
    "    X, meta = get_X_diff(dict_rolled, df_reg['id'], bins)\n",
    "else:\n",
    "    bins = {\n",
    "        'transact_c': np.linspace(\n",
    "            df_rolled_full['transact_c'].min(), \n",
    "            df_rolled_full['transact_c'].max(), \n",
    "            nbins\n",
    "        ),\n",
    "        'transact_d': np.linspace(\n",
    "            df_rolled_full['transact_d'].min(), \n",
    "            df_rolled_full['transact_d'].max(), \n",
    "            nbins\n",
    "        )\n",
    "    }\n",
    "    X, meta = get_X_amount(dict_rolled, df_reg['id'], bins)\n",
    "X[:, X.sum(axis=0).argsort()[-2:]] = 0\n",
    "y = df_reg['is_affluent_cur']\n",
    "plot_features(X, meta, y)"
   ]
  },
  {
   "cell_type": "code",
   "execution_count": 312,
   "id": "cbb937ff",
   "metadata": {},
   "outputs": [],
   "source": [
    "# tidy to demo df\n",
    "\n",
    "colnames = []\n",
    "for col, n in meta:\n",
    "    for i in range(n):\n",
    "        colnames.append(col + str(i))\n",
    "\n",
    "df_X = pd.DataFrame(X)\n",
    "df_X.columns = colnames\n",
    "df_X['y'] = y\n",
    "df_X = df_X.melt('y', colnames, var_name='transact')\n",
    "df_X['type'] = df_X['transact'].str.extract('([a-zA-Z_]+)')\n",
    "df_X['transact'] = df_X['transact'].str.extract('([0-9]+)').astype(int)\n",
    "df_X_avg = df_X.groupby(['type', 'y', 'transact']).mean()\n",
    "df_X_avg = df_X_avg.reset_index(drop=False)\n",
    "df_X_avg['y'] = df_X_avg['y'].replace({1: 'Affluent', 0: 'Non-Affluent'})\n",
    "for colname in [selected_c, selected_d]:\n",
    "    df_X_avg.loc[df_X_avg['type'] == colname, 'transact'] = bins[colname][df_X_avg.loc[df_X_avg['type'] == colname, 'transact'].astype(int)]\n",
    "df_X_avg['transact'] = np.exp(df_X_avg['transact'])\n",
    "df_X_avg['value'] = df_X_avg['value'].round(2)\n",
    "df_X_avg['transact'] = df_X_avg['transact'].round(2)\n",
    "df_X_avg['type'] = df_X_avg['type'].replace({selected_c: 'credit', selected_d: 'debit'})\n",
    "df_X_avg = df_X_avg.rename(\n",
    "    {\n",
    "        'value': 'Frequency', \n",
    "        'y': 'Segment after 6 months', \n",
    "        'transact': 'Transaction Amount' if selected == 'transact' else 'First Difference',\n",
    "        'type': 'Type'\n",
    "    }, \n",
    "    axis=1\n",
    ")\n",
    "\n",
    "# path = os.path.join(data_dir, 'demo', acc_type, 'summ_diff.csv' if selected == 'diff' else 'summ_amount.csv')\n",
    "# df_X_avg.to_csv(path, index=False)"
   ]
  },
  {
   "cell_type": "code",
   "execution_count": 313,
   "id": "08fda950",
   "metadata": {},
   "outputs": [
    {
     "data": {
      "application/vnd.plotly.v1+json": {
       "config": {
        "plotlyServerURL": "https://plot.ly"
       },
       "data": [
        {
         "hovertemplate": "Segment after 6 months=Non-Affluent<br>First Difference=%{x}<br>Frequency=%{y}<extra></extra>",
         "legendgroup": "Non-Affluent",
         "line": {
          "color": "#636efa",
          "dash": "solid",
          "shape": "spline"
         },
         "mode": "lines",
         "name": "Non-Affluent",
         "orientation": "v",
         "showlegend": true,
         "type": "scatter",
         "x": [
          1,
          1.38,
          1.9,
          2.62,
          3.62,
          4.99,
          6.88,
          9.49,
          13.08,
          18.04,
          24.88,
          34.31,
          47.32,
          65.25,
          89.99,
          124.1,
          171.14,
          236.01,
          325.47,
          448.84,
          618.98,
          853.62,
          1177.19,
          1623.42,
          2238.79,
          3087.44,
          4257.77,
          5871.73,
          8097.48,
          11166.93
         ],
         "xaxis": "x",
         "y": [
          0,
          0.76,
          0.37,
          0.67,
          0.6,
          0.92,
          1.27,
          1.37,
          2.25,
          2.3,
          2.76,
          3.29,
          3.1,
          3.17,
          2.84,
          2.63,
          2.18,
          1.78,
          1.36,
          0.96,
          0.66,
          0.38,
          0.22,
          0.15,
          0.03,
          0.01,
          0,
          0,
          0,
          0
         ],
         "yaxis": "y"
        },
        {
         "hovertemplate": "Segment after 6 months=Affluent<br>First Difference=%{x}<br>Frequency=%{y}<extra></extra>",
         "legendgroup": "Affluent",
         "line": {
          "color": "#EF553B",
          "dash": "solid",
          "shape": "spline"
         },
         "mode": "lines",
         "name": "Affluent",
         "orientation": "v",
         "showlegend": true,
         "type": "scatter",
         "x": [
          1,
          1.38,
          1.9,
          2.62,
          3.62,
          4.99,
          6.88,
          9.49,
          13.08,
          18.04,
          24.88,
          34.31,
          47.32,
          65.25,
          89.99,
          124.1,
          171.14,
          236.01,
          325.47,
          448.84,
          618.98,
          853.62,
          1177.19,
          1623.42,
          2238.79,
          3087.44,
          4257.77,
          5871.73,
          8097.48,
          11166.93
         ],
         "xaxis": "x",
         "y": [
          0,
          1.14,
          0.31,
          0.6,
          0.55,
          0.73,
          0.83,
          0.88,
          1.03,
          1.48,
          1.54,
          2.06,
          2.22,
          2.36,
          2.54,
          2.25,
          2.74,
          1.87,
          1.4,
          1.34,
          1.12,
          0.98,
          0.79,
          0.35,
          0.1,
          0.01,
          0.13,
          0,
          0,
          0
         ],
         "yaxis": "y"
        }
       ],
       "layout": {
        "legend": {
         "orientation": "h",
         "title": {
          "text": "Segment after 6 months"
         },
         "tracegroupgap": 0,
         "x": 0,
         "xanchor": "left",
         "y": 1.02,
         "yanchor": "bottom"
        },
        "margin": {
         "b": 0,
         "l": 0,
         "r": 0,
         "t": 0
        },
        "paper_bgcolor": "rgba(0,0,0,0)",
        "plot_bgcolor": "rgba(0,0,0,0)",
        "template": {
         "data": {
          "bar": [
           {
            "error_x": {
             "color": "#2a3f5f"
            },
            "error_y": {
             "color": "#2a3f5f"
            },
            "marker": {
             "line": {
              "color": "#E5ECF6",
              "width": 0.5
             },
             "pattern": {
              "fillmode": "overlay",
              "size": 10,
              "solidity": 0.2
             }
            },
            "type": "bar"
           }
          ],
          "barpolar": [
           {
            "marker": {
             "line": {
              "color": "#E5ECF6",
              "width": 0.5
             },
             "pattern": {
              "fillmode": "overlay",
              "size": 10,
              "solidity": 0.2
             }
            },
            "type": "barpolar"
           }
          ],
          "carpet": [
           {
            "aaxis": {
             "endlinecolor": "#2a3f5f",
             "gridcolor": "white",
             "linecolor": "white",
             "minorgridcolor": "white",
             "startlinecolor": "#2a3f5f"
            },
            "baxis": {
             "endlinecolor": "#2a3f5f",
             "gridcolor": "white",
             "linecolor": "white",
             "minorgridcolor": "white",
             "startlinecolor": "#2a3f5f"
            },
            "type": "carpet"
           }
          ],
          "choropleth": [
           {
            "colorbar": {
             "outlinewidth": 0,
             "ticks": ""
            },
            "type": "choropleth"
           }
          ],
          "contour": [
           {
            "colorbar": {
             "outlinewidth": 0,
             "ticks": ""
            },
            "colorscale": [
             [
              0,
              "#0d0887"
             ],
             [
              0.1111111111111111,
              "#46039f"
             ],
             [
              0.2222222222222222,
              "#7201a8"
             ],
             [
              0.3333333333333333,
              "#9c179e"
             ],
             [
              0.4444444444444444,
              "#bd3786"
             ],
             [
              0.5555555555555556,
              "#d8576b"
             ],
             [
              0.6666666666666666,
              "#ed7953"
             ],
             [
              0.7777777777777778,
              "#fb9f3a"
             ],
             [
              0.8888888888888888,
              "#fdca26"
             ],
             [
              1,
              "#f0f921"
             ]
            ],
            "type": "contour"
           }
          ],
          "contourcarpet": [
           {
            "colorbar": {
             "outlinewidth": 0,
             "ticks": ""
            },
            "type": "contourcarpet"
           }
          ],
          "heatmap": [
           {
            "colorbar": {
             "outlinewidth": 0,
             "ticks": ""
            },
            "colorscale": [
             [
              0,
              "#0d0887"
             ],
             [
              0.1111111111111111,
              "#46039f"
             ],
             [
              0.2222222222222222,
              "#7201a8"
             ],
             [
              0.3333333333333333,
              "#9c179e"
             ],
             [
              0.4444444444444444,
              "#bd3786"
             ],
             [
              0.5555555555555556,
              "#d8576b"
             ],
             [
              0.6666666666666666,
              "#ed7953"
             ],
             [
              0.7777777777777778,
              "#fb9f3a"
             ],
             [
              0.8888888888888888,
              "#fdca26"
             ],
             [
              1,
              "#f0f921"
             ]
            ],
            "type": "heatmap"
           }
          ],
          "heatmapgl": [
           {
            "colorbar": {
             "outlinewidth": 0,
             "ticks": ""
            },
            "colorscale": [
             [
              0,
              "#0d0887"
             ],
             [
              0.1111111111111111,
              "#46039f"
             ],
             [
              0.2222222222222222,
              "#7201a8"
             ],
             [
              0.3333333333333333,
              "#9c179e"
             ],
             [
              0.4444444444444444,
              "#bd3786"
             ],
             [
              0.5555555555555556,
              "#d8576b"
             ],
             [
              0.6666666666666666,
              "#ed7953"
             ],
             [
              0.7777777777777778,
              "#fb9f3a"
             ],
             [
              0.8888888888888888,
              "#fdca26"
             ],
             [
              1,
              "#f0f921"
             ]
            ],
            "type": "heatmapgl"
           }
          ],
          "histogram": [
           {
            "marker": {
             "pattern": {
              "fillmode": "overlay",
              "size": 10,
              "solidity": 0.2
             }
            },
            "type": "histogram"
           }
          ],
          "histogram2d": [
           {
            "colorbar": {
             "outlinewidth": 0,
             "ticks": ""
            },
            "colorscale": [
             [
              0,
              "#0d0887"
             ],
             [
              0.1111111111111111,
              "#46039f"
             ],
             [
              0.2222222222222222,
              "#7201a8"
             ],
             [
              0.3333333333333333,
              "#9c179e"
             ],
             [
              0.4444444444444444,
              "#bd3786"
             ],
             [
              0.5555555555555556,
              "#d8576b"
             ],
             [
              0.6666666666666666,
              "#ed7953"
             ],
             [
              0.7777777777777778,
              "#fb9f3a"
             ],
             [
              0.8888888888888888,
              "#fdca26"
             ],
             [
              1,
              "#f0f921"
             ]
            ],
            "type": "histogram2d"
           }
          ],
          "histogram2dcontour": [
           {
            "colorbar": {
             "outlinewidth": 0,
             "ticks": ""
            },
            "colorscale": [
             [
              0,
              "#0d0887"
             ],
             [
              0.1111111111111111,
              "#46039f"
             ],
             [
              0.2222222222222222,
              "#7201a8"
             ],
             [
              0.3333333333333333,
              "#9c179e"
             ],
             [
              0.4444444444444444,
              "#bd3786"
             ],
             [
              0.5555555555555556,
              "#d8576b"
             ],
             [
              0.6666666666666666,
              "#ed7953"
             ],
             [
              0.7777777777777778,
              "#fb9f3a"
             ],
             [
              0.8888888888888888,
              "#fdca26"
             ],
             [
              1,
              "#f0f921"
             ]
            ],
            "type": "histogram2dcontour"
           }
          ],
          "mesh3d": [
           {
            "colorbar": {
             "outlinewidth": 0,
             "ticks": ""
            },
            "type": "mesh3d"
           }
          ],
          "parcoords": [
           {
            "line": {
             "colorbar": {
              "outlinewidth": 0,
              "ticks": ""
             }
            },
            "type": "parcoords"
           }
          ],
          "pie": [
           {
            "automargin": true,
            "type": "pie"
           }
          ],
          "scatter": [
           {
            "marker": {
             "colorbar": {
              "outlinewidth": 0,
              "ticks": ""
             }
            },
            "type": "scatter"
           }
          ],
          "scatter3d": [
           {
            "line": {
             "colorbar": {
              "outlinewidth": 0,
              "ticks": ""
             }
            },
            "marker": {
             "colorbar": {
              "outlinewidth": 0,
              "ticks": ""
             }
            },
            "type": "scatter3d"
           }
          ],
          "scattercarpet": [
           {
            "marker": {
             "colorbar": {
              "outlinewidth": 0,
              "ticks": ""
             }
            },
            "type": "scattercarpet"
           }
          ],
          "scattergeo": [
           {
            "marker": {
             "colorbar": {
              "outlinewidth": 0,
              "ticks": ""
             }
            },
            "type": "scattergeo"
           }
          ],
          "scattergl": [
           {
            "marker": {
             "colorbar": {
              "outlinewidth": 0,
              "ticks": ""
             }
            },
            "type": "scattergl"
           }
          ],
          "scattermapbox": [
           {
            "marker": {
             "colorbar": {
              "outlinewidth": 0,
              "ticks": ""
             }
            },
            "type": "scattermapbox"
           }
          ],
          "scatterpolar": [
           {
            "marker": {
             "colorbar": {
              "outlinewidth": 0,
              "ticks": ""
             }
            },
            "type": "scatterpolar"
           }
          ],
          "scatterpolargl": [
           {
            "marker": {
             "colorbar": {
              "outlinewidth": 0,
              "ticks": ""
             }
            },
            "type": "scatterpolargl"
           }
          ],
          "scatterternary": [
           {
            "marker": {
             "colorbar": {
              "outlinewidth": 0,
              "ticks": ""
             }
            },
            "type": "scatterternary"
           }
          ],
          "surface": [
           {
            "colorbar": {
             "outlinewidth": 0,
             "ticks": ""
            },
            "colorscale": [
             [
              0,
              "#0d0887"
             ],
             [
              0.1111111111111111,
              "#46039f"
             ],
             [
              0.2222222222222222,
              "#7201a8"
             ],
             [
              0.3333333333333333,
              "#9c179e"
             ],
             [
              0.4444444444444444,
              "#bd3786"
             ],
             [
              0.5555555555555556,
              "#d8576b"
             ],
             [
              0.6666666666666666,
              "#ed7953"
             ],
             [
              0.7777777777777778,
              "#fb9f3a"
             ],
             [
              0.8888888888888888,
              "#fdca26"
             ],
             [
              1,
              "#f0f921"
             ]
            ],
            "type": "surface"
           }
          ],
          "table": [
           {
            "cells": {
             "fill": {
              "color": "#EBF0F8"
             },
             "line": {
              "color": "white"
             }
            },
            "header": {
             "fill": {
              "color": "#C8D4E3"
             },
             "line": {
              "color": "white"
             }
            },
            "type": "table"
           }
          ]
         },
         "layout": {
          "annotationdefaults": {
           "arrowcolor": "#2a3f5f",
           "arrowhead": 0,
           "arrowwidth": 1
          },
          "autotypenumbers": "strict",
          "coloraxis": {
           "colorbar": {
            "outlinewidth": 0,
            "ticks": ""
           }
          },
          "colorscale": {
           "diverging": [
            [
             0,
             "#8e0152"
            ],
            [
             0.1,
             "#c51b7d"
            ],
            [
             0.2,
             "#de77ae"
            ],
            [
             0.3,
             "#f1b6da"
            ],
            [
             0.4,
             "#fde0ef"
            ],
            [
             0.5,
             "#f7f7f7"
            ],
            [
             0.6,
             "#e6f5d0"
            ],
            [
             0.7,
             "#b8e186"
            ],
            [
             0.8,
             "#7fbc41"
            ],
            [
             0.9,
             "#4d9221"
            ],
            [
             1,
             "#276419"
            ]
           ],
           "sequential": [
            [
             0,
             "#0d0887"
            ],
            [
             0.1111111111111111,
             "#46039f"
            ],
            [
             0.2222222222222222,
             "#7201a8"
            ],
            [
             0.3333333333333333,
             "#9c179e"
            ],
            [
             0.4444444444444444,
             "#bd3786"
            ],
            [
             0.5555555555555556,
             "#d8576b"
            ],
            [
             0.6666666666666666,
             "#ed7953"
            ],
            [
             0.7777777777777778,
             "#fb9f3a"
            ],
            [
             0.8888888888888888,
             "#fdca26"
            ],
            [
             1,
             "#f0f921"
            ]
           ],
           "sequentialminus": [
            [
             0,
             "#0d0887"
            ],
            [
             0.1111111111111111,
             "#46039f"
            ],
            [
             0.2222222222222222,
             "#7201a8"
            ],
            [
             0.3333333333333333,
             "#9c179e"
            ],
            [
             0.4444444444444444,
             "#bd3786"
            ],
            [
             0.5555555555555556,
             "#d8576b"
            ],
            [
             0.6666666666666666,
             "#ed7953"
            ],
            [
             0.7777777777777778,
             "#fb9f3a"
            ],
            [
             0.8888888888888888,
             "#fdca26"
            ],
            [
             1,
             "#f0f921"
            ]
           ]
          },
          "colorway": [
           "#636efa",
           "#EF553B",
           "#00cc96",
           "#ab63fa",
           "#FFA15A",
           "#19d3f3",
           "#FF6692",
           "#B6E880",
           "#FF97FF",
           "#FECB52"
          ],
          "font": {
           "color": "#2a3f5f"
          },
          "geo": {
           "bgcolor": "white",
           "lakecolor": "white",
           "landcolor": "#E5ECF6",
           "showlakes": true,
           "showland": true,
           "subunitcolor": "white"
          },
          "hoverlabel": {
           "align": "left"
          },
          "hovermode": "closest",
          "mapbox": {
           "style": "light"
          },
          "paper_bgcolor": "white",
          "plot_bgcolor": "#E5ECF6",
          "polar": {
           "angularaxis": {
            "gridcolor": "white",
            "linecolor": "white",
            "ticks": ""
           },
           "bgcolor": "#E5ECF6",
           "radialaxis": {
            "gridcolor": "white",
            "linecolor": "white",
            "ticks": ""
           }
          },
          "scene": {
           "xaxis": {
            "backgroundcolor": "#E5ECF6",
            "gridcolor": "white",
            "gridwidth": 2,
            "linecolor": "white",
            "showbackground": true,
            "ticks": "",
            "zerolinecolor": "white"
           },
           "yaxis": {
            "backgroundcolor": "#E5ECF6",
            "gridcolor": "white",
            "gridwidth": 2,
            "linecolor": "white",
            "showbackground": true,
            "ticks": "",
            "zerolinecolor": "white"
           },
           "zaxis": {
            "backgroundcolor": "#E5ECF6",
            "gridcolor": "white",
            "gridwidth": 2,
            "linecolor": "white",
            "showbackground": true,
            "ticks": "",
            "zerolinecolor": "white"
           }
          },
          "shapedefaults": {
           "line": {
            "color": "#2a3f5f"
           }
          },
          "ternary": {
           "aaxis": {
            "gridcolor": "white",
            "linecolor": "white",
            "ticks": ""
           },
           "baxis": {
            "gridcolor": "white",
            "linecolor": "white",
            "ticks": ""
           },
           "bgcolor": "#E5ECF6",
           "caxis": {
            "gridcolor": "white",
            "linecolor": "white",
            "ticks": ""
           }
          },
          "title": {
           "x": 0.05
          },
          "xaxis": {
           "automargin": true,
           "gridcolor": "white",
           "linecolor": "white",
           "ticks": "",
           "title": {
            "standoff": 15
           },
           "zerolinecolor": "white",
           "zerolinewidth": 2
          },
          "yaxis": {
           "automargin": true,
           "gridcolor": "white",
           "linecolor": "white",
           "ticks": "",
           "title": {
            "standoff": 15
           },
           "zerolinecolor": "white",
           "zerolinewidth": 2
          }
         }
        },
        "xaxis": {
         "anchor": "y",
         "domain": [
          0,
          1
         ],
         "title": {
          "text": "First Difference"
         },
         "type": "log"
        },
        "yaxis": {
         "anchor": "x",
         "domain": [
          0,
          1
         ],
         "title": {
          "text": "Frequency"
         }
        }
       }
      },
      "text/html": [
       "<div>                            <div id=\"862d7ec6-19df-47b9-a755-77e21e13b98d\" class=\"plotly-graph-div\" style=\"height:525px; width:100%;\"></div>            <script type=\"text/javascript\">                require([\"plotly\"], function(Plotly) {                    window.PLOTLYENV=window.PLOTLYENV || {};                                    if (document.getElementById(\"862d7ec6-19df-47b9-a755-77e21e13b98d\")) {                    Plotly.newPlot(                        \"862d7ec6-19df-47b9-a755-77e21e13b98d\",                        [{\"hovertemplate\":\"Segment after 6 months=Non-Affluent<br>First Difference=%{x}<br>Frequency=%{y}<extra></extra>\",\"legendgroup\":\"Non-Affluent\",\"line\":{\"color\":\"#636efa\",\"dash\":\"solid\",\"shape\":\"spline\"},\"mode\":\"lines\",\"name\":\"Non-Affluent\",\"orientation\":\"v\",\"showlegend\":true,\"type\":\"scatter\",\"x\":[1.0,1.38,1.9,2.62,3.62,4.99,6.88,9.49,13.08,18.04,24.88,34.31,47.32,65.25,89.99,124.1,171.14,236.01,325.47,448.84,618.98,853.62,1177.19,1623.42,2238.79,3087.44,4257.77,5871.73,8097.48,11166.93],\"xaxis\":\"x\",\"y\":[0.0,0.76,0.37,0.67,0.6,0.92,1.27,1.37,2.25,2.3,2.76,3.29,3.1,3.17,2.84,2.63,2.18,1.78,1.36,0.96,0.66,0.38,0.22,0.15,0.03,0.01,0.0,0.0,0.0,0.0],\"yaxis\":\"y\"},{\"hovertemplate\":\"Segment after 6 months=Affluent<br>First Difference=%{x}<br>Frequency=%{y}<extra></extra>\",\"legendgroup\":\"Affluent\",\"line\":{\"color\":\"#EF553B\",\"dash\":\"solid\",\"shape\":\"spline\"},\"mode\":\"lines\",\"name\":\"Affluent\",\"orientation\":\"v\",\"showlegend\":true,\"type\":\"scatter\",\"x\":[1.0,1.38,1.9,2.62,3.62,4.99,6.88,9.49,13.08,18.04,24.88,34.31,47.32,65.25,89.99,124.1,171.14,236.01,325.47,448.84,618.98,853.62,1177.19,1623.42,2238.79,3087.44,4257.77,5871.73,8097.48,11166.93],\"xaxis\":\"x\",\"y\":[0.0,1.14,0.31,0.6,0.55,0.73,0.83,0.88,1.03,1.48,1.54,2.06,2.22,2.36,2.54,2.25,2.74,1.87,1.4,1.34,1.12,0.98,0.79,0.35,0.1,0.01,0.13,0.0,0.0,0.0],\"yaxis\":\"y\"}],                        {\"legend\":{\"orientation\":\"h\",\"title\":{\"text\":\"Segment after 6 months\"},\"tracegroupgap\":0,\"x\":0,\"xanchor\":\"left\",\"y\":1.02,\"yanchor\":\"bottom\"},\"margin\":{\"b\":0,\"l\":0,\"r\":0,\"t\":0},\"paper_bgcolor\":\"rgba(0,0,0,0)\",\"plot_bgcolor\":\"rgba(0,0,0,0)\",\"template\":{\"data\":{\"bar\":[{\"error_x\":{\"color\":\"#2a3f5f\"},\"error_y\":{\"color\":\"#2a3f5f\"},\"marker\":{\"line\":{\"color\":\"#E5ECF6\",\"width\":0.5},\"pattern\":{\"fillmode\":\"overlay\",\"size\":10,\"solidity\":0.2}},\"type\":\"bar\"}],\"barpolar\":[{\"marker\":{\"line\":{\"color\":\"#E5ECF6\",\"width\":0.5},\"pattern\":{\"fillmode\":\"overlay\",\"size\":10,\"solidity\":0.2}},\"type\":\"barpolar\"}],\"carpet\":[{\"aaxis\":{\"endlinecolor\":\"#2a3f5f\",\"gridcolor\":\"white\",\"linecolor\":\"white\",\"minorgridcolor\":\"white\",\"startlinecolor\":\"#2a3f5f\"},\"baxis\":{\"endlinecolor\":\"#2a3f5f\",\"gridcolor\":\"white\",\"linecolor\":\"white\",\"minorgridcolor\":\"white\",\"startlinecolor\":\"#2a3f5f\"},\"type\":\"carpet\"}],\"choropleth\":[{\"colorbar\":{\"outlinewidth\":0,\"ticks\":\"\"},\"type\":\"choropleth\"}],\"contour\":[{\"colorbar\":{\"outlinewidth\":0,\"ticks\":\"\"},\"colorscale\":[[0.0,\"#0d0887\"],[0.1111111111111111,\"#46039f\"],[0.2222222222222222,\"#7201a8\"],[0.3333333333333333,\"#9c179e\"],[0.4444444444444444,\"#bd3786\"],[0.5555555555555556,\"#d8576b\"],[0.6666666666666666,\"#ed7953\"],[0.7777777777777778,\"#fb9f3a\"],[0.8888888888888888,\"#fdca26\"],[1.0,\"#f0f921\"]],\"type\":\"contour\"}],\"contourcarpet\":[{\"colorbar\":{\"outlinewidth\":0,\"ticks\":\"\"},\"type\":\"contourcarpet\"}],\"heatmap\":[{\"colorbar\":{\"outlinewidth\":0,\"ticks\":\"\"},\"colorscale\":[[0.0,\"#0d0887\"],[0.1111111111111111,\"#46039f\"],[0.2222222222222222,\"#7201a8\"],[0.3333333333333333,\"#9c179e\"],[0.4444444444444444,\"#bd3786\"],[0.5555555555555556,\"#d8576b\"],[0.6666666666666666,\"#ed7953\"],[0.7777777777777778,\"#fb9f3a\"],[0.8888888888888888,\"#fdca26\"],[1.0,\"#f0f921\"]],\"type\":\"heatmap\"}],\"heatmapgl\":[{\"colorbar\":{\"outlinewidth\":0,\"ticks\":\"\"},\"colorscale\":[[0.0,\"#0d0887\"],[0.1111111111111111,\"#46039f\"],[0.2222222222222222,\"#7201a8\"],[0.3333333333333333,\"#9c179e\"],[0.4444444444444444,\"#bd3786\"],[0.5555555555555556,\"#d8576b\"],[0.6666666666666666,\"#ed7953\"],[0.7777777777777778,\"#fb9f3a\"],[0.8888888888888888,\"#fdca26\"],[1.0,\"#f0f921\"]],\"type\":\"heatmapgl\"}],\"histogram\":[{\"marker\":{\"pattern\":{\"fillmode\":\"overlay\",\"size\":10,\"solidity\":0.2}},\"type\":\"histogram\"}],\"histogram2d\":[{\"colorbar\":{\"outlinewidth\":0,\"ticks\":\"\"},\"colorscale\":[[0.0,\"#0d0887\"],[0.1111111111111111,\"#46039f\"],[0.2222222222222222,\"#7201a8\"],[0.3333333333333333,\"#9c179e\"],[0.4444444444444444,\"#bd3786\"],[0.5555555555555556,\"#d8576b\"],[0.6666666666666666,\"#ed7953\"],[0.7777777777777778,\"#fb9f3a\"],[0.8888888888888888,\"#fdca26\"],[1.0,\"#f0f921\"]],\"type\":\"histogram2d\"}],\"histogram2dcontour\":[{\"colorbar\":{\"outlinewidth\":0,\"ticks\":\"\"},\"colorscale\":[[0.0,\"#0d0887\"],[0.1111111111111111,\"#46039f\"],[0.2222222222222222,\"#7201a8\"],[0.3333333333333333,\"#9c179e\"],[0.4444444444444444,\"#bd3786\"],[0.5555555555555556,\"#d8576b\"],[0.6666666666666666,\"#ed7953\"],[0.7777777777777778,\"#fb9f3a\"],[0.8888888888888888,\"#fdca26\"],[1.0,\"#f0f921\"]],\"type\":\"histogram2dcontour\"}],\"mesh3d\":[{\"colorbar\":{\"outlinewidth\":0,\"ticks\":\"\"},\"type\":\"mesh3d\"}],\"parcoords\":[{\"line\":{\"colorbar\":{\"outlinewidth\":0,\"ticks\":\"\"}},\"type\":\"parcoords\"}],\"pie\":[{\"automargin\":true,\"type\":\"pie\"}],\"scatter\":[{\"marker\":{\"colorbar\":{\"outlinewidth\":0,\"ticks\":\"\"}},\"type\":\"scatter\"}],\"scatter3d\":[{\"line\":{\"colorbar\":{\"outlinewidth\":0,\"ticks\":\"\"}},\"marker\":{\"colorbar\":{\"outlinewidth\":0,\"ticks\":\"\"}},\"type\":\"scatter3d\"}],\"scattercarpet\":[{\"marker\":{\"colorbar\":{\"outlinewidth\":0,\"ticks\":\"\"}},\"type\":\"scattercarpet\"}],\"scattergeo\":[{\"marker\":{\"colorbar\":{\"outlinewidth\":0,\"ticks\":\"\"}},\"type\":\"scattergeo\"}],\"scattergl\":[{\"marker\":{\"colorbar\":{\"outlinewidth\":0,\"ticks\":\"\"}},\"type\":\"scattergl\"}],\"scattermapbox\":[{\"marker\":{\"colorbar\":{\"outlinewidth\":0,\"ticks\":\"\"}},\"type\":\"scattermapbox\"}],\"scatterpolar\":[{\"marker\":{\"colorbar\":{\"outlinewidth\":0,\"ticks\":\"\"}},\"type\":\"scatterpolar\"}],\"scatterpolargl\":[{\"marker\":{\"colorbar\":{\"outlinewidth\":0,\"ticks\":\"\"}},\"type\":\"scatterpolargl\"}],\"scatterternary\":[{\"marker\":{\"colorbar\":{\"outlinewidth\":0,\"ticks\":\"\"}},\"type\":\"scatterternary\"}],\"surface\":[{\"colorbar\":{\"outlinewidth\":0,\"ticks\":\"\"},\"colorscale\":[[0.0,\"#0d0887\"],[0.1111111111111111,\"#46039f\"],[0.2222222222222222,\"#7201a8\"],[0.3333333333333333,\"#9c179e\"],[0.4444444444444444,\"#bd3786\"],[0.5555555555555556,\"#d8576b\"],[0.6666666666666666,\"#ed7953\"],[0.7777777777777778,\"#fb9f3a\"],[0.8888888888888888,\"#fdca26\"],[1.0,\"#f0f921\"]],\"type\":\"surface\"}],\"table\":[{\"cells\":{\"fill\":{\"color\":\"#EBF0F8\"},\"line\":{\"color\":\"white\"}},\"header\":{\"fill\":{\"color\":\"#C8D4E3\"},\"line\":{\"color\":\"white\"}},\"type\":\"table\"}]},\"layout\":{\"annotationdefaults\":{\"arrowcolor\":\"#2a3f5f\",\"arrowhead\":0,\"arrowwidth\":1},\"autotypenumbers\":\"strict\",\"coloraxis\":{\"colorbar\":{\"outlinewidth\":0,\"ticks\":\"\"}},\"colorscale\":{\"diverging\":[[0,\"#8e0152\"],[0.1,\"#c51b7d\"],[0.2,\"#de77ae\"],[0.3,\"#f1b6da\"],[0.4,\"#fde0ef\"],[0.5,\"#f7f7f7\"],[0.6,\"#e6f5d0\"],[0.7,\"#b8e186\"],[0.8,\"#7fbc41\"],[0.9,\"#4d9221\"],[1,\"#276419\"]],\"sequential\":[[0.0,\"#0d0887\"],[0.1111111111111111,\"#46039f\"],[0.2222222222222222,\"#7201a8\"],[0.3333333333333333,\"#9c179e\"],[0.4444444444444444,\"#bd3786\"],[0.5555555555555556,\"#d8576b\"],[0.6666666666666666,\"#ed7953\"],[0.7777777777777778,\"#fb9f3a\"],[0.8888888888888888,\"#fdca26\"],[1.0,\"#f0f921\"]],\"sequentialminus\":[[0.0,\"#0d0887\"],[0.1111111111111111,\"#46039f\"],[0.2222222222222222,\"#7201a8\"],[0.3333333333333333,\"#9c179e\"],[0.4444444444444444,\"#bd3786\"],[0.5555555555555556,\"#d8576b\"],[0.6666666666666666,\"#ed7953\"],[0.7777777777777778,\"#fb9f3a\"],[0.8888888888888888,\"#fdca26\"],[1.0,\"#f0f921\"]]},\"colorway\":[\"#636efa\",\"#EF553B\",\"#00cc96\",\"#ab63fa\",\"#FFA15A\",\"#19d3f3\",\"#FF6692\",\"#B6E880\",\"#FF97FF\",\"#FECB52\"],\"font\":{\"color\":\"#2a3f5f\"},\"geo\":{\"bgcolor\":\"white\",\"lakecolor\":\"white\",\"landcolor\":\"#E5ECF6\",\"showlakes\":true,\"showland\":true,\"subunitcolor\":\"white\"},\"hoverlabel\":{\"align\":\"left\"},\"hovermode\":\"closest\",\"mapbox\":{\"style\":\"light\"},\"paper_bgcolor\":\"white\",\"plot_bgcolor\":\"#E5ECF6\",\"polar\":{\"angularaxis\":{\"gridcolor\":\"white\",\"linecolor\":\"white\",\"ticks\":\"\"},\"bgcolor\":\"#E5ECF6\",\"radialaxis\":{\"gridcolor\":\"white\",\"linecolor\":\"white\",\"ticks\":\"\"}},\"scene\":{\"xaxis\":{\"backgroundcolor\":\"#E5ECF6\",\"gridcolor\":\"white\",\"gridwidth\":2,\"linecolor\":\"white\",\"showbackground\":true,\"ticks\":\"\",\"zerolinecolor\":\"white\"},\"yaxis\":{\"backgroundcolor\":\"#E5ECF6\",\"gridcolor\":\"white\",\"gridwidth\":2,\"linecolor\":\"white\",\"showbackground\":true,\"ticks\":\"\",\"zerolinecolor\":\"white\"},\"zaxis\":{\"backgroundcolor\":\"#E5ECF6\",\"gridcolor\":\"white\",\"gridwidth\":2,\"linecolor\":\"white\",\"showbackground\":true,\"ticks\":\"\",\"zerolinecolor\":\"white\"}},\"shapedefaults\":{\"line\":{\"color\":\"#2a3f5f\"}},\"ternary\":{\"aaxis\":{\"gridcolor\":\"white\",\"linecolor\":\"white\",\"ticks\":\"\"},\"baxis\":{\"gridcolor\":\"white\",\"linecolor\":\"white\",\"ticks\":\"\"},\"bgcolor\":\"#E5ECF6\",\"caxis\":{\"gridcolor\":\"white\",\"linecolor\":\"white\",\"ticks\":\"\"}},\"title\":{\"x\":0.05},\"xaxis\":{\"automargin\":true,\"gridcolor\":\"white\",\"linecolor\":\"white\",\"ticks\":\"\",\"title\":{\"standoff\":15},\"zerolinecolor\":\"white\",\"zerolinewidth\":2},\"yaxis\":{\"automargin\":true,\"gridcolor\":\"white\",\"linecolor\":\"white\",\"ticks\":\"\",\"title\":{\"standoff\":15},\"zerolinecolor\":\"white\",\"zerolinewidth\":2}}},\"xaxis\":{\"anchor\":\"y\",\"domain\":[0.0,1.0],\"title\":{\"text\":\"First Difference\"},\"type\":\"log\"},\"yaxis\":{\"anchor\":\"x\",\"domain\":[0.0,1.0],\"title\":{\"text\":\"Frequency\"}}},                        {\"responsive\": true}                    ).then(function(){\n",
       "                            \n",
       "var gd = document.getElementById('862d7ec6-19df-47b9-a755-77e21e13b98d');\n",
       "var x = new MutationObserver(function (mutations, observer) {{\n",
       "        var display = window.getComputedStyle(gd).display;\n",
       "        if (!display || display === 'none') {{\n",
       "            console.log([gd, 'removed!']);\n",
       "            Plotly.purge(gd);\n",
       "            observer.disconnect();\n",
       "        }}\n",
       "}});\n",
       "\n",
       "// Listen for the removal of the full notebook cells\n",
       "var notebookContainer = gd.closest('#notebook-container');\n",
       "if (notebookContainer) {{\n",
       "    x.observe(notebookContainer, {childList: true});\n",
       "}}\n",
       "\n",
       "// Listen for the clearing of the current output cell\n",
       "var outputEl = gd.closest('.output');\n",
       "if (outputEl) {{\n",
       "    x.observe(outputEl, {childList: true});\n",
       "}}\n",
       "\n",
       "                        })                };                });            </script>        </div>"
      ]
     },
     "metadata": {},
     "output_type": "display_data"
    }
   ],
   "source": [
    "# vis\n",
    "tmp = df_X_avg[df_X_avg['Type'] == 'credit']\n",
    "xlab = 'Transaction Amount' if selected == 'transact' else 'First Difference'\n",
    "fig = px.line(tmp, x=xlab, y=\"Frequency\", color='Segment after 6 months', line_shape='spline', log_x=True)\n",
    "fig.update_layout(\n",
    "\t\tmargin=dict(l=0, r=0, t=0, b=0),\n",
    "\t\tpaper_bgcolor='rgba(0,0,0,0)',\n",
    "\t\tplot_bgcolor='rgba(0,0,0,0)',\n",
    "\t\tlegend=dict(\n",
    "\t\t    orientation=\"h\",\n",
    "\t\t    yanchor=\"bottom\",\n",
    "\t\t    y=1.02,\n",
    "\t\t    xanchor=\"left\",\n",
    "\t\t    x=0\n",
    "\t\t)\n",
    "\t)\n",
    "fig.show()"
   ]
  },
  {
   "cell_type": "markdown",
   "id": "1a9aa4c1",
   "metadata": {},
   "source": [
    "### Modelling (SVM)"
   ]
  },
  {
   "cell_type": "code",
   "execution_count": 298,
   "id": "07ad587c",
   "metadata": {},
   "outputs": [
    {
     "data": {
      "application/vnd.jupyter.widget-view+json": {
       "model_id": "cacc6f924a3b476b9d70db2e9ee4fb85",
       "version_major": 2,
       "version_minor": 0
      },
      "text/plain": [
       "  0%|          | 0/6049 [00:00<?, ?it/s]"
      ]
     },
     "metadata": {},
     "output_type": "display_data"
    }
   ],
   "source": [
    "# params\n",
    "acc_type = 'credit'\n",
    "rolling_window = 14\n",
    "\n",
    "# retrieve dfs\n",
    "df_trans = df_main[acc_type]\n",
    "cache_dir = 'rolled_cache/{}'.format(acc_type)\n",
    "dict_rolled = roll_df_cache(df_trans, df_reg['id'], rolling_window, cache_dir)\n",
    "\n",
    "# for min max\n",
    "df_rolled_full = pd.concat(list(dict_rolled.values()))\n",
    "df_rolled_full = np.log(df_rolled_full.replace({0: 1}))\n",
    "df_rolled_diff = pd.concat(list(dict_rolled.values()))\n",
    "df_rolled_diff = get_diff(df_rolled_diff)\n",
    "df_rolled_diff = np.log(df_rolled_diff.replace({0: 1}))"
   ]
  },
  {
   "cell_type": "code",
   "execution_count": 303,
   "id": "85b30cfb",
   "metadata": {},
   "outputs": [
    {
     "name": "stdout",
     "output_type": "stream",
     "text": [
      "0.5953984370374755\n"
     ]
    }
   ],
   "source": [
    "selected = 'transact'\n",
    "nbins = 45\n",
    "\n",
    "selected_c = selected + '_c'\n",
    "selected_d = selected + '_d'\n",
    "selected_full_df = df_rolled_full if selected == 'transact' else df_rolled_diff\n",
    "selected_feat_extractor = get_X_amount if selected == 'transact' else get_X_diff\n",
    "\n",
    "\n",
    "\n",
    "bins = {\n",
    "    selected_c: np.linspace(\n",
    "        selected_full_df[selected_c].min(), \n",
    "        selected_full_df[selected_c].max(), \n",
    "        nbins\n",
    "    ),\n",
    "    selected_d: np.linspace(\n",
    "        selected_full_df[selected_d].min(), \n",
    "        selected_full_df[selected_d].max(), \n",
    "        nbins\n",
    "    )\n",
    "}\n",
    "\n",
    "X, meta = selected_feat_extractor(dict_rolled, df_reg['id'], bins)\n",
    "\n",
    "\n",
    "# remove features with all 0s\n",
    "X = X[:, X.sum(axis=0) > 10]\n",
    "\n",
    "y = df_reg['is_affluent_cur']\n",
    "X_train, y_train = split_by_idxs(X, y, train_idxs)\n",
    "X_test, y_test = split_by_idxs(X, y, test_idxs)\n",
    "\n",
    "svm = get_svm_classifier()\n",
    "svm.fit(X_train, y_train)\n",
    "pred_probs = svm.predict_proba(X_test)\n",
    "auc = roc_auc_score(y_test, pred_probs[:, 1])\n",
    "\n",
    "print(auc)"
   ]
  },
  {
   "cell_type": "code",
   "execution_count": 304,
   "id": "7dd7d95b",
   "metadata": {
    "scrolled": false
   },
   "outputs": [],
   "source": [
    "# pred = (pred_probs[:, 0] < 0.574).astype(int)\n",
    "\n",
    "# precision, recall, f1, _ = precision_recall_fscore_support(y_test, pred, average='binary', pos_label=1)\n",
    "# print(np.array([precision, recall, f1]).round(4))\n",
    "# confusion_matrix(pred, y_test)"
   ]
  },
  {
   "cell_type": "code",
   "execution_count": 305,
   "id": "9ed3ea7f",
   "metadata": {
    "scrolled": true
   },
   "outputs": [
    {
     "data": {
      "text/plain": [
       "0.5953984370374755"
      ]
     },
     "execution_count": 305,
     "metadata": {},
     "output_type": "execute_result"
    },
    {
     "data": {
      "image/png": "[encoded data removed]",
      "text/plain": [
       "<Figure size 432x288 with 1 Axes>"
      ]
     },
     "metadata": {
      "needs_background": "light"
     },
     "output_type": "display_data"
    }
   ],
   "source": [
    "plot_roc_curve(svm, X_test, y_test)\n",
    "roc_auc_score(y_test, pred_probs[:, 1])"
   ]
  },
  {
   "cell_type": "code",
   "execution_count": 306,
   "id": "77cb61cf",
   "metadata": {},
   "outputs": [],
   "source": [
    "df_feat = pd.DataFrame(X)\n",
    "df_feat.columns = ['X_' + str(i) for i in df_feat.columns]\n",
    "df_feat['y'] = y\n",
    "df_feat['id'] = df_reg['id']\n",
    "\n",
    "df_probs = pd.DataFrame(pred_probs)\n",
    "df_probs.columns = ['p0', 'p1']\n",
    "df_probs['y'] = y_test\n",
    "df_probs['id'] = df_reg.loc[test_idxs, 'id'].reset_index(drop=True)\n",
    "\n",
    "df_feat.to_csv('data/features/{}_{}.csv'.format(acc_type, selected), index=False)\n",
    "df_probs.to_csv('data/predictions/{}_{}.csv'.format(acc_type, selected), index=False)"
   ]
  },
  {
   "cell_type": "code",
   "execution_count": null,
   "id": "7893de63",
   "metadata": {},
   "outputs": [],
   "source": []
  }
 ],
 "metadata": {
  "kernelspec": {
   "display_name": "Python 3",
   "language": "python",
   "name": "python3"
  },
  "language_info": {
   "codemirror_mode": {
    "name": "ipython",
    "version": 3
   },
   "file_extension": ".py",
   "mimetype": "text/x-python",
   "name": "python",
   "nbconvert_exporter": "python",
   "pygments_lexer": "ipython3",
   "version": "3.9.5"
  }
 },
 "nbformat": 4,
 "nbformat_minor": 5
}
